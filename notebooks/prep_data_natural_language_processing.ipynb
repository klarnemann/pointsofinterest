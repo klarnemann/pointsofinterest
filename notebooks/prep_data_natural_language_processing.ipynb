{
 "cells": [
  {
   "cell_type": "markdown",
   "metadata": {},
   "source": [
    "# Notes \n",
    "- Some article content is wiki listings.. remove from dataset\n",
    "- Some article content is not specific to the POI\n",
    "- Some article content is repeated across multilte POIs"
   ]
  },
  {
   "cell_type": "code",
   "execution_count": 1,
   "metadata": {},
   "outputs": [],
   "source": [
    "%matplotlib inline\n",
    "import re\n",
    "import nltk\n",
    "import pandas as pd\n",
    "import networkx as nx\n",
    "import numpy as np\n",
    "import matplotlib.pyplot as plt\n",
    "from ast import literal_eval"
   ]
  },
  {
   "cell_type": "code",
   "execution_count": 2,
   "metadata": {},
   "outputs": [],
   "source": [
    "from nltk.corpus import stopwords"
   ]
  },
  {
   "cell_type": "code",
   "execution_count": 3,
   "metadata": {},
   "outputs": [],
   "source": [
    "stopset = set(stopwords.words('english'))"
   ]
  },
  {
   "cell_type": "code",
   "execution_count": 4,
   "metadata": {},
   "outputs": [],
   "source": [
    "datadir = '/Users/klarnemann/Documents/Insight/Insight_project/data'"
   ]
  },
  {
   "cell_type": "code",
   "execution_count": 5,
   "metadata": {},
   "outputs": [],
   "source": [
    "fhp_df_f = '%s/federal_historic_places_by_city_for_nlp.xlsx' % (datadir)\n",
    "fhp_df = pd.read_excel(fhp_df_f, index_col=0)\n",
    "#fhp_df = fhp_df.drop('Article_tokens', axis=1)\n",
    "#fhp_df = fhp_df.drop_duplicates()\n",
    "#fhp_df.sort_values(by=['Location'], inplace=True)\n",
    "#fhp_df.reset_index(inplace=True, drop=True)\n",
    "#fhp_df.to_excel(fhp_df_f)"
   ]
  },
  {
   "cell_type": "code",
   "execution_count": 6,
   "metadata": {},
   "outputs": [],
   "source": [
    "park_df_f = '%s/parks_by_city_for_nlp.xlsx' % (datadir)\n",
    "park_df = pd.read_excel(park_df_f, index_col=0)\n",
    "#park_df = park_df.drop_duplicates()\n",
    "#park_df = park_df.drop('Article_tokens', axis=1)\n",
    "#park_df.sort_values(by=['Location'], inplace=True)\n",
    "#park_df.reset_index(inplace=True, drop=True)\n",
    "#park_df.to_excel(park_df_f)"
   ]
  },
  {
   "cell_type": "code",
   "execution_count": 7,
   "metadata": {},
   "outputs": [],
   "source": [
    "museum_df_f = '%s/museums_by_city_for_nlp.xlsx' % (datadir)\n",
    "museum_df = pd.read_excel(museum_df_f, index_col=0)\n",
    "#museum_df = museum_df.drop_duplicates()\n",
    "#museum_df = museum_df.drop('Article_tokens', axis=1)\n",
    "#museum_df.sort_values(by=['Location'], inplace=True)\n",
    "#museum_df.reset_index(inplace=True, drop=True)\n",
    "#museum_df.to_excel(museum_df_f)"
   ]
  },
  {
   "cell_type": "code",
   "execution_count": 8,
   "metadata": {},
   "outputs": [],
   "source": [
    "#poi_df = pd.read_csv('%s/poi_for_nlp.csv' % (datadir), index_col=0)\n",
    "#poi_df.to_csv('%s/poi_for_nlp.csv' % (datadir))\n",
    "#poi_df.to_excel('%s/poi_for_nlp.xlsx' % (datadir))"
   ]
  },
  {
   "cell_type": "markdown",
   "metadata": {},
   "source": [
    "# Formatting data"
   ]
  },
  {
   "cell_type": "code",
   "execution_count": 9,
   "metadata": {},
   "outputs": [],
   "source": [
    "def clean_text(text, lower=False, properNouns=True):\n",
    "    if not properNouns:\n",
    "        ttext = tokenize_text(text, lower=False)\n",
    "        tagged_text = nltk.pos_tag(ttext)\n",
    "        edited_text = [word for word, tag in tagged_text if tag != 'NNP' and tag != 'NNPS']            \n",
    "        text =  ' '.join(edited_text)\n",
    "    if lower:\n",
    "        text = text.lower()\n",
    "    text = re.sub('[^a-zA-Z]+', ' ', text)\n",
    "    return text"
   ]
  },
  {
   "cell_type": "code",
   "execution_count": 10,
   "metadata": {},
   "outputs": [],
   "source": [
    "def tokenize_text_from_df(df, col='Article_content', out_col='Article_tokens', \\\n",
    "                          lower=True, stopwords=False, stopset=stopset, \\\n",
    "                          properNouns=True):\n",
    "    df[out_col] = ''\n",
    "    n_rows, n_cols = df.shape\n",
    "    for i in np.arange(n_rows):\n",
    "        raw_text = df[col].iloc[i]\n",
    "        if type(raw_text) == float:\n",
    "            continue\n",
    "        text = clean_text(raw_text, lower, properNouns)\n",
    "        tokenizer = nltk.RegexpTokenizer(r'\\w+')\n",
    "        tokens = tokenizer.tokenize(text)\n",
    "        if stopwords:\n",
    "            tokens = [w for w in tokens if not w in stopset]\n",
    "        df[out_col].iloc[i] = tokens\n",
    "    return df"
   ]
  },
  {
   "cell_type": "code",
   "execution_count": 11,
   "metadata": {},
   "outputs": [],
   "source": [
    "def tokenize_text(raw_text, lower=True, stopwords=False, stopset=stopset, properNouns=True):\n",
    "    if type(raw_text) == float:\n",
    "        return ''\n",
    "    text = clean_text(raw_text, lower, properNouns)\n",
    "    tokenizer = nltk.RegexpTokenizer(r'\\w+')\n",
    "    tokens = tokenizer.tokenize(text)\n",
    "    if stopwords:\n",
    "        tokens = [w for w in tokens if not w in stopset]\n",
    "    return tokens"
   ]
  },
  {
   "cell_type": "markdown",
   "metadata": {},
   "source": [
    "## Examine dataframes"
   ]
  },
  {
   "cell_type": "code",
   "execution_count": 12,
   "metadata": {},
   "outputs": [
    {
     "data": {
      "text/html": [
       "<div>\n",
       "<style scoped>\n",
       "    .dataframe tbody tr th:only-of-type {\n",
       "        vertical-align: middle;\n",
       "    }\n",
       "\n",
       "    .dataframe tbody tr th {\n",
       "        vertical-align: top;\n",
       "    }\n",
       "\n",
       "    .dataframe thead th {\n",
       "        text-align: right;\n",
       "    }\n",
       "</style>\n",
       "<table border=\"1\" class=\"dataframe\">\n",
       "  <thead>\n",
       "    <tr style=\"text-align: right;\">\n",
       "      <th></th>\n",
       "      <th>Name</th>\n",
       "      <th>Location</th>\n",
       "      <th>Article_content</th>\n",
       "    </tr>\n",
       "  </thead>\n",
       "  <tbody>\n",
       "    <tr>\n",
       "      <th>0</th>\n",
       "      <td>Palmetto Island State Park</td>\n",
       "      <td>Abbeville, Louisiana</td>\n",
       "      <td>Palmetto Island State Park is a recent additio...</td>\n",
       "    </tr>\n",
       "    <tr>\n",
       "      <th>1</th>\n",
       "      <td>Ames Nowell State Park</td>\n",
       "      <td>Abington, Massachusetts</td>\n",
       "      <td>Ames Nowell State Park is a 700-acre (280 ha) ...</td>\n",
       "    </tr>\n",
       "    <tr>\n",
       "      <th>2</th>\n",
       "      <td>Tombigbee National Forest</td>\n",
       "      <td>Ackerman, Mississippi</td>\n",
       "      <td>Tombigbee National Forest is a U.S. National F...</td>\n",
       "    </tr>\n",
       "    <tr>\n",
       "      <th>3</th>\n",
       "      <td>Port Royal State Park</td>\n",
       "      <td>Adams, Tennessee</td>\n",
       "      <td>Port Royal State Historic Park is a 26 acre (1...</td>\n",
       "    </tr>\n",
       "    <tr>\n",
       "      <th>4</th>\n",
       "      <td>Reed Bingham State Park</td>\n",
       "      <td>Adel, Georgia</td>\n",
       "      <td>Reed Bingham State Park is a 1,613 acre (6.53 ...</td>\n",
       "    </tr>\n",
       "  </tbody>\n",
       "</table>\n",
       "</div>"
      ],
      "text/plain": [
       "                         Name                 Location  \\\n",
       "0  Palmetto Island State Park     Abbeville, Louisiana   \n",
       "1      Ames Nowell State Park  Abington, Massachusetts   \n",
       "2   Tombigbee National Forest    Ackerman, Mississippi   \n",
       "3       Port Royal State Park         Adams, Tennessee   \n",
       "4     Reed Bingham State Park            Adel, Georgia   \n",
       "\n",
       "                                     Article_content  \n",
       "0  Palmetto Island State Park is a recent additio...  \n",
       "1  Ames Nowell State Park is a 700-acre (280 ha) ...  \n",
       "2  Tombigbee National Forest is a U.S. National F...  \n",
       "3  Port Royal State Historic Park is a 26 acre (1...  \n",
       "4  Reed Bingham State Park is a 1,613 acre (6.53 ...  "
      ]
     },
     "execution_count": 12,
     "metadata": {},
     "output_type": "execute_result"
    }
   ],
   "source": [
    "park_df.head(5)"
   ]
  },
  {
   "cell_type": "code",
   "execution_count": 13,
   "metadata": {},
   "outputs": [
    {
     "data": {
      "text/html": [
       "<div>\n",
       "<style scoped>\n",
       "    .dataframe tbody tr th:only-of-type {\n",
       "        vertical-align: middle;\n",
       "    }\n",
       "\n",
       "    .dataframe tbody tr th {\n",
       "        vertical-align: top;\n",
       "    }\n",
       "\n",
       "    .dataframe thead th {\n",
       "        text-align: right;\n",
       "    }\n",
       "</style>\n",
       "<table border=\"1\" class=\"dataframe\">\n",
       "  <thead>\n",
       "    <tr style=\"text-align: right;\">\n",
       "      <th></th>\n",
       "      <th>Name</th>\n",
       "      <th>Location</th>\n",
       "      <th>Article_content</th>\n",
       "    </tr>\n",
       "  </thead>\n",
       "  <tbody>\n",
       "    <tr>\n",
       "      <th>0</th>\n",
       "      <td>Penns Valley Area Historical Museum</td>\n",
       "      <td>Aaronsburg, Pennsylvania</td>\n",
       "      <td>Valley Forge National Historical Park is the s...</td>\n",
       "    </tr>\n",
       "    <tr>\n",
       "      <th>1</th>\n",
       "      <td>Sam Guarino Blacksmith Shop Museum</td>\n",
       "      <td>Abbeville, Louisiana</td>\n",
       "      <td>This list of museums in Louisiana is a list of...</td>\n",
       "    </tr>\n",
       "    <tr>\n",
       "      <th>2</th>\n",
       "      <td>Abbeville Museum</td>\n",
       "      <td>Abbeville, Louisiana</td>\n",
       "      <td>Abbeville (French pronunciation: [ab.vil] (lis...</td>\n",
       "    </tr>\n",
       "    <tr>\n",
       "      <th>3</th>\n",
       "      <td>Louisiana Military Hall of Fame and Museum</td>\n",
       "      <td>Abbeville, Louisiana</td>\n",
       "      <td>The landing craft, vehicle, personnel (LCVP) o...</td>\n",
       "    </tr>\n",
       "    <tr>\n",
       "      <th>4</th>\n",
       "      <td>Burt-Stark Mansion</td>\n",
       "      <td>Abbeville, South Carolina</td>\n",
       "      <td>The Burt-Stark Mansion, also known as Armistea...</td>\n",
       "    </tr>\n",
       "  </tbody>\n",
       "</table>\n",
       "</div>"
      ],
      "text/plain": [
       "                                         Name                   Location  \\\n",
       "0         Penns Valley Area Historical Museum   Aaronsburg, Pennsylvania   \n",
       "1          Sam Guarino Blacksmith Shop Museum       Abbeville, Louisiana   \n",
       "2                            Abbeville Museum       Abbeville, Louisiana   \n",
       "3  Louisiana Military Hall of Fame and Museum       Abbeville, Louisiana   \n",
       "4                          Burt-Stark Mansion  Abbeville, South Carolina   \n",
       "\n",
       "                                     Article_content  \n",
       "0  Valley Forge National Historical Park is the s...  \n",
       "1  This list of museums in Louisiana is a list of...  \n",
       "2  Abbeville (French pronunciation: [ab.vil] (lis...  \n",
       "3  The landing craft, vehicle, personnel (LCVP) o...  \n",
       "4  The Burt-Stark Mansion, also known as Armistea...  "
      ]
     },
     "execution_count": 13,
     "metadata": {},
     "output_type": "execute_result"
    }
   ],
   "source": [
    "museum_df.head(5)"
   ]
  },
  {
   "cell_type": "code",
   "execution_count": 14,
   "metadata": {
    "scrolled": true
   },
   "outputs": [
    {
     "data": {
      "text/html": [
       "<div>\n",
       "<style scoped>\n",
       "    .dataframe tbody tr th:only-of-type {\n",
       "        vertical-align: middle;\n",
       "    }\n",
       "\n",
       "    .dataframe tbody tr th {\n",
       "        vertical-align: top;\n",
       "    }\n",
       "\n",
       "    .dataframe thead th {\n",
       "        text-align: right;\n",
       "    }\n",
       "</style>\n",
       "<table border=\"1\" class=\"dataframe\">\n",
       "  <thead>\n",
       "    <tr style=\"text-align: right;\">\n",
       "      <th></th>\n",
       "      <th>Name</th>\n",
       "      <th>Location</th>\n",
       "      <th>Article_content</th>\n",
       "    </tr>\n",
       "  </thead>\n",
       "  <tbody>\n",
       "    <tr>\n",
       "      <th>0</th>\n",
       "      <td>Civil War Earthworks at Tallahatchie Crossing</td>\n",
       "      <td>Abbeville, Mississippi</td>\n",
       "      <td>The Civil War Earthworks at Tallahatchie Cross...</td>\n",
       "    </tr>\n",
       "    <tr>\n",
       "      <th>1</th>\n",
       "      <td>Gunpowder Meetinghouse</td>\n",
       "      <td>Aberdeen Proving Ground, Maryland</td>\n",
       "      <td>Gunpowder Meetinghouse is a historic Methodist...</td>\n",
       "    </tr>\n",
       "    <tr>\n",
       "      <th>2</th>\n",
       "      <td>Presbury Meetinghouse</td>\n",
       "      <td>Aberdeen Proving Ground, Maryland</td>\n",
       "      <td>The Presbury Meetinghouse is a historic Method...</td>\n",
       "    </tr>\n",
       "    <tr>\n",
       "      <th>3</th>\n",
       "      <td>Eisenhower Home</td>\n",
       "      <td>Abilene, Kansas</td>\n",
       "      <td>The Eisenhower Home in Abilene, Kansas at the ...</td>\n",
       "    </tr>\n",
       "    <tr>\n",
       "      <th>4</th>\n",
       "      <td>Federal Building</td>\n",
       "      <td>Abilene, Texas</td>\n",
       "      <td>A federal building is a building housing local...</td>\n",
       "    </tr>\n",
       "  </tbody>\n",
       "</table>\n",
       "</div>"
      ],
      "text/plain": [
       "                                            Name  \\\n",
       "0  Civil War Earthworks at Tallahatchie Crossing   \n",
       "1                         Gunpowder Meetinghouse   \n",
       "2                          Presbury Meetinghouse   \n",
       "3                                Eisenhower Home   \n",
       "4                               Federal Building   \n",
       "\n",
       "                            Location  \\\n",
       "0             Abbeville, Mississippi   \n",
       "1  Aberdeen Proving Ground, Maryland   \n",
       "2  Aberdeen Proving Ground, Maryland   \n",
       "3                    Abilene, Kansas   \n",
       "4                     Abilene, Texas   \n",
       "\n",
       "                                     Article_content  \n",
       "0  The Civil War Earthworks at Tallahatchie Cross...  \n",
       "1  Gunpowder Meetinghouse is a historic Methodist...  \n",
       "2  The Presbury Meetinghouse is a historic Method...  \n",
       "3  The Eisenhower Home in Abilene, Kansas at the ...  \n",
       "4  A federal building is a building housing local...  "
      ]
     },
     "execution_count": 14,
     "metadata": {},
     "output_type": "execute_result"
    }
   ],
   "source": [
    "fhp_df.head(5)"
   ]
  },
  {
   "cell_type": "markdown",
   "metadata": {},
   "source": [
    "## Make input dataframe for NLP"
   ]
  },
  {
   "cell_type": "markdown",
   "metadata": {},
   "source": [
    "### By POI"
   ]
  },
  {
   "cell_type": "code",
   "execution_count": 15,
   "metadata": {
    "scrolled": false
   },
   "outputs": [
    {
     "name": "stdout",
     "output_type": "stream",
     "text": [
      "(23897, 3)\n"
     ]
    }
   ],
   "source": [
    "poi_df = pd.concat([fhp_df, park_df, museum_df])\n",
    "poi_df = poi_df.drop_duplicates()\n",
    "poi_df.sort_values(by=['Location'], inplace=True)\n",
    "poi_df.reset_index(inplace=True, drop=True)\n",
    "print(poi_df.shape)\n",
    "poi_df.head()\n",
    "poi_df.to_excel('%s/all_poi.xlsx' % (datadir))"
   ]
  },
  {
   "cell_type": "code",
   "execution_count": 16,
   "metadata": {},
   "outputs": [],
   "source": [
    "del park_df\n",
    "del museum_df\n",
    "del fhp_df"
   ]
  },
  {
   "cell_type": "code",
   "execution_count": 17,
   "metadata": {},
   "outputs": [],
   "source": [
    "import wikipedia"
   ]
  },
  {
   "cell_type": "code",
   "execution_count": 18,
   "metadata": {},
   "outputs": [
    {
     "name": "stdout",
     "output_type": "stream",
     "text": [
      "0\n"
     ]
    },
    {
     "name": "stderr",
     "output_type": "stream",
     "text": [
      "/Users/klarnemann/anaconda3/lib/python3.7/site-packages/wikipedia/wikipedia.py:389: UserWarning: No parser was explicitly specified, so I'm using the best available HTML parser for this system (\"lxml\"). This usually isn't a problem, but if you run this code on another system, or in a different virtual environment, it may use a different parser and behave differently.\n",
      "\n",
      "The code that caused this warning is on line 389 of the file /Users/klarnemann/anaconda3/lib/python3.7/site-packages/wikipedia/wikipedia.py. To get rid of this warning, pass the additional argument 'features=\"lxml\"' to the BeautifulSoup constructor.\n",
      "\n",
      "  lis = BeautifulSoup(html).find_all('li')\n"
     ]
    },
    {
     "name": "stdout",
     "output_type": "stream",
     "text": [
      "500\n",
      "1000\n",
      "1500\n",
      "2000\n",
      "2500\n",
      "3000\n",
      "3500\n",
      "4000\n",
      "4500\n",
      "5000\n",
      "5500\n",
      "6000\n",
      "6500\n",
      "7000\n",
      "7500\n",
      "8000\n",
      "8500\n",
      "9000\n",
      "9500\n",
      "10000\n",
      "10500\n",
      "11000\n",
      "11500\n",
      "12000\n",
      "12500\n",
      "13000\n",
      "13500\n",
      "14000\n",
      "14500\n",
      "15000\n",
      "15500\n",
      "16000\n",
      "16500\n",
      "17000\n",
      "17500\n",
      "18000\n",
      "18500\n",
      "19000\n",
      "19500\n",
      "20000\n",
      "20500\n",
      "21000\n",
      "21500\n",
      "22000\n",
      "22500\n",
      "23000\n",
      "23500\n"
     ]
    }
   ],
   "source": [
    "wiki_results = []\n",
    "for i in poi_df.index:\n",
    "    if i % 500 == 0:\n",
    "        print(i)\n",
    "    try:\n",
    "        poi = poi_df.loc[i, 'Name']\n",
    "        location = poi_df.loc[i, 'Location']\n",
    "        city, state = location.split(', ')\n",
    "        title = wikipedia.page(poi).title\n",
    "        text = wikipedia.page(poi).content\n",
    "        if city and state in text:\n",
    "            wiki_results.append([location, poi, title, text])\n",
    "            continue\n",
    "        else:\n",
    "            search = '%s %s' % (poi, location)\n",
    "            title = wikipedia.page(search).title\n",
    "            text = wikipedia.page(search).content\n",
    "            wiki_results.append([location, poi, title, text])\n",
    "            continue\n",
    "    except:\n",
    "        continue"
   ]
  },
  {
   "cell_type": "code",
   "execution_count": 19,
   "metadata": {
    "scrolled": true
   },
   "outputs": [
    {
     "data": {
      "text/html": [
       "<div>\n",
       "<style scoped>\n",
       "    .dataframe tbody tr th:only-of-type {\n",
       "        vertical-align: middle;\n",
       "    }\n",
       "\n",
       "    .dataframe tbody tr th {\n",
       "        vertical-align: top;\n",
       "    }\n",
       "\n",
       "    .dataframe thead th {\n",
       "        text-align: right;\n",
       "    }\n",
       "</style>\n",
       "<table border=\"1\" class=\"dataframe\">\n",
       "  <thead>\n",
       "    <tr style=\"text-align: right;\">\n",
       "      <th></th>\n",
       "      <th>Location</th>\n",
       "      <th>Name</th>\n",
       "      <th>Article_title</th>\n",
       "      <th>Article_content</th>\n",
       "    </tr>\n",
       "  </thead>\n",
       "  <tbody>\n",
       "    <tr>\n",
       "      <th>0</th>\n",
       "      <td>Aaronsburg, Pennsylvania</td>\n",
       "      <td>Penns Valley Area Historical Museum</td>\n",
       "      <td>Valley Forge National Historical Park</td>\n",
       "      <td>Valley Forge National Historical Park is the s...</td>\n",
       "    </tr>\n",
       "    <tr>\n",
       "      <th>1</th>\n",
       "      <td>Abbeville, Louisiana</td>\n",
       "      <td>Palmetto Island State Park</td>\n",
       "      <td>Palmetto Island State Park</td>\n",
       "      <td>Palmetto Island State Park is a recent additio...</td>\n",
       "    </tr>\n",
       "    <tr>\n",
       "      <th>2</th>\n",
       "      <td>Abbeville, Louisiana</td>\n",
       "      <td>Sam Guarino Blacksmith Shop Museum</td>\n",
       "      <td>List of museums in Louisiana</td>\n",
       "      <td>This list of museums in Louisiana is a list of...</td>\n",
       "    </tr>\n",
       "    <tr>\n",
       "      <th>3</th>\n",
       "      <td>Abbeville, Louisiana</td>\n",
       "      <td>Abbeville Museum</td>\n",
       "      <td>Abbeville, Louisiana</td>\n",
       "      <td>Abbeville is a city in and the parish seat of ...</td>\n",
       "    </tr>\n",
       "    <tr>\n",
       "      <th>4</th>\n",
       "      <td>Abbeville, Louisiana</td>\n",
       "      <td>Louisiana Military Hall of Fame and Museum</td>\n",
       "      <td>LCVP (United States)</td>\n",
       "      <td>The landing craft, vehicle, personnel (LCVP) o...</td>\n",
       "    </tr>\n",
       "  </tbody>\n",
       "</table>\n",
       "</div>"
      ],
      "text/plain": [
       "                   Location                                        Name  \\\n",
       "0  Aaronsburg, Pennsylvania         Penns Valley Area Historical Museum   \n",
       "1      Abbeville, Louisiana                  Palmetto Island State Park   \n",
       "2      Abbeville, Louisiana          Sam Guarino Blacksmith Shop Museum   \n",
       "3      Abbeville, Louisiana                            Abbeville Museum   \n",
       "4      Abbeville, Louisiana  Louisiana Military Hall of Fame and Museum   \n",
       "\n",
       "                           Article_title  \\\n",
       "0  Valley Forge National Historical Park   \n",
       "1             Palmetto Island State Park   \n",
       "2           List of museums in Louisiana   \n",
       "3                   Abbeville, Louisiana   \n",
       "4                   LCVP (United States)   \n",
       "\n",
       "                                     Article_content  \n",
       "0  Valley Forge National Historical Park is the s...  \n",
       "1  Palmetto Island State Park is a recent additio...  \n",
       "2  This list of museums in Louisiana is a list of...  \n",
       "3  Abbeville is a city in and the parish seat of ...  \n",
       "4  The landing craft, vehicle, personnel (LCVP) o...  "
      ]
     },
     "execution_count": 19,
     "metadata": {},
     "output_type": "execute_result"
    }
   ],
   "source": [
    "input_df = pd.DataFrame(wiki_results, columns=['Location', 'Name', 'Article_title', \n",
    "                                               'Article_content'])\n",
    "input_df.head()"
   ]
  },
  {
   "cell_type": "code",
   "execution_count": 36,
   "metadata": {},
   "outputs": [],
   "source": [
    "# Remove articles that aren't exclusively about the POI\n",
    "check_inds = []\n",
    "rm_inds = []\n",
    "for i in np.arange(len(input_df.index)):\n",
    "    city = input_df.Location.iloc[i]\n",
    "    text = input_df.Article_content.iloc[i]\n",
    "    title = input_df.Article_title.iloc[i]\n",
    "    try:\n",
    "        if title == city:\n",
    "            rm_inds.append(i)\n",
    "            continue\n",
    "        elif 'list' in title.lower():\n",
    "            rm_inds.append(i)\n",
    "            continue\n",
    "        elif 'listing' in title.lower():\n",
    "            rm_inds.append(i)\n",
    "            continue\n",
    "        elif title != input_df.Name.iloc[i]:\n",
    "            check_inds.append(i)\n",
    "    except:\n",
    "        rm_inds.append(i)"
   ]
  },
  {
   "cell_type": "code",
   "execution_count": 42,
   "metadata": {},
   "outputs": [],
   "source": [
    "input_df['Check'] = 0\n",
    "input_df['Check'].iloc[check_inds] = 1"
   ]
  },
  {
   "cell_type": "code",
   "execution_count": 79,
   "metadata": {},
   "outputs": [
    {
     "data": {
      "text/plain": [
       "7875"
      ]
     },
     "execution_count": 79,
     "metadata": {},
     "output_type": "execute_result"
    }
   ],
   "source": [
    "input_df.Check.sum()"
   ]
  },
  {
   "cell_type": "code",
   "execution_count": 46,
   "metadata": {},
   "outputs": [],
   "source": [
    "#input_df.to_csv('%s/all_poi_wiki_search_with_title_location_2.csv' % (datadir))"
   ]
  },
  {
   "cell_type": "code",
   "execution_count": 80,
   "metadata": {},
   "outputs": [],
   "source": [
    "input_df.loc[np.array(input_df.Check, dtype=bool)].iloc[:2000].to_excel('%s/check_all_poi_wiki_search_with_title_location_0-2000.xlsx' % (datadir))"
   ]
  },
  {
   "cell_type": "code",
   "execution_count": null,
   "metadata": {},
   "outputs": [],
   "source": [
    "# Remove articles that aren't exclusively about the POI\n",
    "rm_inds = []\n",
    "for i, text in enumerate(poi_df.Article_content):\n",
    "    try:\n",
    "        if 'This list of' in text[:12]:\n",
    "            rm_inds.append(i)\n",
    "        elif 'This is a list of' in text[:17]:\n",
    "            rm_inds.append(i)\n",
    "        elif 'An ' == text[:3]:\n",
    "            check_inds.append(i)\n",
    "        elif 'A ' == text[:2]:\n",
    "            check_inds.append(i)\n",
    "        elif 'is a city located in' in text[:40]:\n",
    "            check_inds.append(i)\n",
    "        elif 'is a town located in' in text[:40]:\n",
    "            check_inds.append(i)\n",
    "        elif 'is a borough located in' in text[:40]:\n",
    "            check_inds.append(i)\n",
    "        elif 'the population was' in text:\n",
    "            check_inds.append(i)\n",
    "    except:\n",
    "        check_inds.append(i)"
   ]
  },
  {
   "cell_type": "code",
   "execution_count": null,
   "metadata": {},
   "outputs": [],
   "source": [
    "fix_inds = [244, 2128, 5204, 6753, 11400, 16168, 17265, 20957, 23298]\n",
    "rm_inds = list(set(rm_inds).difference(set(fix_inds)))"
   ]
  },
  {
   "cell_type": "code",
   "execution_count": null,
   "metadata": {},
   "outputs": [],
   "source": [
    "nlp_poi_df = poi_df.copy()\n",
    "nlp_poi_df.Article_content.iloc[rm_inds] = np.nan\n",
    "nlp_poi_df.dropna(axis=0, how='any', inplace=True)\n",
    "nlp_poi_df.reset_index(inplace=True, drop=True)\n",
    "#nlp_poi_df.to_excel('%s/all_poi_for_nlp.xlsx' % (datadir))"
   ]
  },
  {
   "cell_type": "code",
   "execution_count": null,
   "metadata": {},
   "outputs": [],
   "source": [
    "nlp_poi_df.shape"
   ]
  },
  {
   "cell_type": "code",
   "execution_count": null,
   "metadata": {},
   "outputs": [],
   "source": [
    "remove_inds = [0, 2, 3, 10, 11, 12, 13, 15, 16, 17, 19, 21, 26, 28, 31, 32, 36, 38, \n",
    "              40, 45, 56, 57, 75, 76, 77, 79, 80, 85, 86, 87, 90, 91, 92, 93, 98\n",
    "              103, 107, 112, 115, 123, 128, 138, 140, 141, 143, 146, 147, 148, 149, \n",
    "              151, 152, 156, 157, 165, 166, 170, 178, 183, 186, 189, 191, 193]"
   ]
  },
  {
   "cell_type": "code",
   "execution_count": null,
   "metadata": {},
   "outputs": [],
   "source": [
    "#nlp_poi_df.iloc[199].Article_content"
   ]
  },
  {
   "cell_type": "code",
   "execution_count": null,
   "metadata": {},
   "outputs": [],
   "source": [
    "nlp_poi_df.iloc[:20]"
   ]
  },
  {
   "cell_type": "markdown",
   "metadata": {},
   "source": [
    "### By City"
   ]
  },
  {
   "cell_type": "code",
   "execution_count": 84,
   "metadata": {},
   "outputs": [],
   "source": [
    "def get_article_content_by_city(city, df):\n",
    "    city_mask = df.Location == city\n",
    "    tmp_content = list(df.loc[city_mask].Article_content)\n",
    "    text = (' ').join(tmp_content)\n",
    "    return text"
   ]
  },
  {
   "cell_type": "code",
   "execution_count": 104,
   "metadata": {},
   "outputs": [],
   "source": [
    "def get_pois_by_city(city, df):\n",
    "    city_mask = df.Location == city\n",
    "    tmp_content = list(df.loc[city_mask].Name)\n",
    "    text = (', ').join(tmp_content)\n",
    "    return text"
   ]
  },
  {
   "cell_type": "code",
   "execution_count": 105,
   "metadata": {},
   "outputs": [],
   "source": [
    "raw_city_articles = []\n",
    "city_pois = []\n",
    "cities = input_df.Location.unique()\n",
    "for city in cities:\n",
    "    tmp_article = get_article_content_by_city(city, input_df)\n",
    "    raw_city_articles.append(tmp_article)\n",
    "    tmp_pois = get_pois_by_city(city, input_df)\n",
    "    city_pois.append(tmp_pois)"
   ]
  },
  {
   "cell_type": "code",
   "execution_count": 106,
   "metadata": {},
   "outputs": [],
   "source": [
    "poi_by_city_df = pd.DataFrame(np.array([cities, city_pois, raw_city_articles]).T, \n",
    "                              columns=['Location', 'POIs', 'Article_content'])"
   ]
  },
  {
   "cell_type": "code",
   "execution_count": 107,
   "metadata": {},
   "outputs": [
    {
     "data": {
      "text/html": [
       "<div>\n",
       "<style scoped>\n",
       "    .dataframe tbody tr th:only-of-type {\n",
       "        vertical-align: middle;\n",
       "    }\n",
       "\n",
       "    .dataframe tbody tr th {\n",
       "        vertical-align: top;\n",
       "    }\n",
       "\n",
       "    .dataframe thead th {\n",
       "        text-align: right;\n",
       "    }\n",
       "</style>\n",
       "<table border=\"1\" class=\"dataframe\">\n",
       "  <thead>\n",
       "    <tr style=\"text-align: right;\">\n",
       "      <th></th>\n",
       "      <th>Location</th>\n",
       "      <th>POIs</th>\n",
       "      <th>Article_content</th>\n",
       "    </tr>\n",
       "  </thead>\n",
       "  <tbody>\n",
       "    <tr>\n",
       "      <th>0</th>\n",
       "      <td>Abbeville, Louisiana</td>\n",
       "      <td>Palmetto Island State Park</td>\n",
       "      <td>Palmetto Island State Park is a recent additio...</td>\n",
       "    </tr>\n",
       "    <tr>\n",
       "      <th>1</th>\n",
       "      <td>Abbeville, Mississippi</td>\n",
       "      <td>Civil War Earthworks at Tallahatchie Crossing</td>\n",
       "      <td>The Civil War Earthworks at Tallahatchie Cross...</td>\n",
       "    </tr>\n",
       "    <tr>\n",
       "      <th>2</th>\n",
       "      <td>Abbeville, South Carolina</td>\n",
       "      <td>Burt-Stark Mansion</td>\n",
       "      <td>The Burt-Stark Mansion, also known as Armistea...</td>\n",
       "    </tr>\n",
       "    <tr>\n",
       "      <th>3</th>\n",
       "      <td>Abercrombie, North Dakota</td>\n",
       "      <td>Fort Abercrombie State Historic Site</td>\n",
       "      <td>Fort Abercrombie, in North Dakota, was an Amer...</td>\n",
       "    </tr>\n",
       "    <tr>\n",
       "      <th>4</th>\n",
       "      <td>Aberdeen Proving Ground, Maryland</td>\n",
       "      <td>Gunpowder Meetinghouse, Presbury Meetinghouse</td>\n",
       "      <td>Gunpowder Meetinghouse is a historic Methodist...</td>\n",
       "    </tr>\n",
       "    <tr>\n",
       "      <th>5</th>\n",
       "      <td>Abilene, Kansas</td>\n",
       "      <td>Eisenhower Presidential Library and Museum, Ei...</td>\n",
       "      <td>The Dwight D. Eisenhower Presidential Library,...</td>\n",
       "    </tr>\n",
       "    <tr>\n",
       "      <th>6</th>\n",
       "      <td>Abingdon, Virginia</td>\n",
       "      <td>William King Museum of Art</td>\n",
       "      <td>William King Museum of Art, located in Abingdo...</td>\n",
       "    </tr>\n",
       "    <tr>\n",
       "      <th>7</th>\n",
       "      <td>Abington, Massachusetts</td>\n",
       "      <td>Ames Nowell State Park</td>\n",
       "      <td>Ames Nowell State Park is a 700-acre (280 ha) ...</td>\n",
       "    </tr>\n",
       "    <tr>\n",
       "      <th>8</th>\n",
       "      <td>Abiqui, New Mexico</td>\n",
       "      <td>Georgia O'Keeffe Home and Studio, Florence Haw...</td>\n",
       "      <td>The Georgia O'Keeffe Home and Studio is a hist...</td>\n",
       "    </tr>\n",
       "    <tr>\n",
       "      <th>9</th>\n",
       "      <td>Abita Springs, Louisiana</td>\n",
       "      <td>Abita Mystery House</td>\n",
       "      <td>The Abita Mystery House is a roadside attracti...</td>\n",
       "    </tr>\n",
       "  </tbody>\n",
       "</table>\n",
       "</div>"
      ],
      "text/plain": [
       "                            Location  \\\n",
       "0               Abbeville, Louisiana   \n",
       "1             Abbeville, Mississippi   \n",
       "2          Abbeville, South Carolina   \n",
       "3          Abercrombie, North Dakota   \n",
       "4  Aberdeen Proving Ground, Maryland   \n",
       "5                    Abilene, Kansas   \n",
       "6                 Abingdon, Virginia   \n",
       "7            Abington, Massachusetts   \n",
       "8                 Abiqui, New Mexico   \n",
       "9           Abita Springs, Louisiana   \n",
       "\n",
       "                                                POIs  \\\n",
       "0                         Palmetto Island State Park   \n",
       "1      Civil War Earthworks at Tallahatchie Crossing   \n",
       "2                                 Burt-Stark Mansion   \n",
       "3               Fort Abercrombie State Historic Site   \n",
       "4      Gunpowder Meetinghouse, Presbury Meetinghouse   \n",
       "5  Eisenhower Presidential Library and Museum, Ei...   \n",
       "6                         William King Museum of Art   \n",
       "7                             Ames Nowell State Park   \n",
       "8  Georgia O'Keeffe Home and Studio, Florence Haw...   \n",
       "9                                Abita Mystery House   \n",
       "\n",
       "                                     Article_content  \n",
       "0  Palmetto Island State Park is a recent additio...  \n",
       "1  The Civil War Earthworks at Tallahatchie Cross...  \n",
       "2  The Burt-Stark Mansion, also known as Armistea...  \n",
       "3  Fort Abercrombie, in North Dakota, was an Amer...  \n",
       "4  Gunpowder Meetinghouse is a historic Methodist...  \n",
       "5  The Dwight D. Eisenhower Presidential Library,...  \n",
       "6  William King Museum of Art, located in Abingdo...  \n",
       "7  Ames Nowell State Park is a 700-acre (280 ha) ...  \n",
       "8  The Georgia O'Keeffe Home and Studio is a hist...  \n",
       "9  The Abita Mystery House is a roadside attracti...  "
      ]
     },
     "execution_count": 107,
     "metadata": {},
     "output_type": "execute_result"
    }
   ],
   "source": [
    "poi_by_city_df.head(10)"
   ]
  },
  {
   "cell_type": "code",
   "execution_count": 108,
   "metadata": {},
   "outputs": [],
   "source": [
    "poi_by_city_df_f = '%s/unchecked_poi_by_city_for_nlp.csv' % (datadir)\n",
    "poi_by_city_df.to_csv(poi_by_city_df_f)"
   ]
  },
  {
   "cell_type": "code",
   "execution_count": null,
   "metadata": {},
   "outputs": [],
   "source": []
  }
 ],
 "metadata": {
  "kernelspec": {
   "display_name": "Python 3",
   "language": "python",
   "name": "python3"
  },
  "language_info": {
   "codemirror_mode": {
    "name": "ipython",
    "version": 3
   },
   "file_extension": ".py",
   "mimetype": "text/x-python",
   "name": "python",
   "nbconvert_exporter": "python",
   "pygments_lexer": "ipython3",
   "version": "3.7.3"
  }
 },
 "nbformat": 4,
 "nbformat_minor": 2
}

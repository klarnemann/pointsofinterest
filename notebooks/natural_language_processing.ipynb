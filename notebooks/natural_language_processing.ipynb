{
 "cells": [
  {
   "cell_type": "markdown",
   "metadata": {},
   "source": [
    "https://blog.insightdatascience.com/how-to-solve-90-of-nlp-problems-a-step-by-step-guide-fda605278e4e"
   ]
  },
  {
   "cell_type": "markdown",
   "metadata": {},
   "source": [
    "https://radimrehurek.com/gensim/corpora/wikicorpus.html"
   ]
  },
  {
   "cell_type": "markdown",
   "metadata": {},
   "source": [
    "https://radimrehurek.com/gensim/wiki.html"
   ]
  },
  {
   "cell_type": "markdown",
   "metadata": {},
   "source": [
    "https://www.geeksforgeeks.org/python-word-embedding-using-word2vec/"
   ]
  },
  {
   "cell_type": "markdown",
   "metadata": {},
   "source": [
    "https://www.datasciencebytes.com/bytes/2014/12/31/analysis-of-shakespeare-character-speech-topics/\n",
    "https://www.datasciencebytes.com/bytes/2014/12/30/topic-modeling-of-shakespeare-characters/\n",
    "https://www.datasciencebytes.com/bytes/2014/11/20/using-topic-modeling-to-find-related-blog-posts/"
   ]
  },
  {
   "cell_type": "markdown",
   "metadata": {},
   "source": [
    "# Notes \n",
    "- Some article content is wiki listings.. remove from dataset\n",
    "- Some article content is not specific to the POI\n",
    "- Some article content is repeated across multilte POIs"
   ]
  },
  {
   "cell_type": "code",
   "execution_count": 1,
   "metadata": {},
   "outputs": [],
   "source": [
    "%matplotlib inline\n",
    "import re\n",
    "import nltk\n",
    "import json\n",
    "import pandas as pd\n",
    "import networkx as nx\n",
    "import numpy as np\n",
    "import matplotlib.pyplot as plt\n",
    "from ast import literal_eval"
   ]
  },
  {
   "cell_type": "code",
   "execution_count": 2,
   "metadata": {},
   "outputs": [],
   "source": [
    "#nltk.download('averaged_perceptron_tagger')\n",
    "#nltk.download('stopwords')"
   ]
  },
  {
   "cell_type": "code",
   "execution_count": 3,
   "metadata": {},
   "outputs": [],
   "source": [
    "from gensim import corpora, models, similarities"
   ]
  },
  {
   "cell_type": "code",
   "execution_count": 4,
   "metadata": {},
   "outputs": [],
   "source": [
    "from nltk.corpus import stopwords"
   ]
  },
  {
   "cell_type": "code",
   "execution_count": 5,
   "metadata": {},
   "outputs": [],
   "source": [
    "stopset = set(stopwords.words('english'))"
   ]
  },
  {
   "cell_type": "code",
   "execution_count": 6,
   "metadata": {},
   "outputs": [],
   "source": [
    "def clean_text(text, lower=True, properNouns=True):\n",
    "    if not properNouns:\n",
    "        ttext = tokenize_text(text, lower=False)\n",
    "        tagged_text = nltk.pos_tag(ttext)\n",
    "        edited_text = [word for word, tag in tagged_text if tag != 'NNP' and tag != 'NNPS']            \n",
    "        text =  ' '.join(edited_text)\n",
    "    if lower:\n",
    "        text = text.lower()\n",
    "    text = re.sub('[^a-zA-Z]+', ' ', text)\n",
    "    return text"
   ]
  },
  {
   "cell_type": "code",
   "execution_count": 7,
   "metadata": {},
   "outputs": [],
   "source": [
    "def tokenize_text_from_df(df, col='Article_content', out_col='Article_tokens', \\\n",
    "                          lower=True, stopwords=False, stopset=stopset, \\\n",
    "                          properNouns=True):\n",
    "    df[out_col] = ''\n",
    "    n_rows, n_cols = df.shape\n",
    "    for i in np.arange(n_rows):\n",
    "        raw_text = df[col].iloc[i]\n",
    "        if type(raw_text) == float:\n",
    "            continue\n",
    "        text = clean_text(raw_text, lower, properNouns)\n",
    "        tokenizer = nltk.RegexpTokenizer(r'\\w+')\n",
    "        tokens = tokenizer.tokenize(text)\n",
    "        if stopwords:\n",
    "            tokens = [w for w in tokens if not w in stopset]\n",
    "        df[out_col].iloc[i] = tokens\n",
    "    return df"
   ]
  },
  {
   "cell_type": "code",
   "execution_count": 8,
   "metadata": {},
   "outputs": [],
   "source": [
    "def tokenize_text(raw_text, lower=True, stopwords=False, stopset=stopset, properNouns=True):\n",
    "    if type(raw_text) == float:\n",
    "        return ''\n",
    "    text = clean_text(raw_text, lower, properNouns)\n",
    "    tokenizer = nltk.RegexpTokenizer(r'\\w+')\n",
    "    tokens = tokenizer.tokenize(text)\n",
    "    if stopwords:\n",
    "        tokens = [w for w in tokens if not w in stopset]\n",
    "    return tokens"
   ]
  },
  {
   "cell_type": "code",
   "execution_count": 9,
   "metadata": {},
   "outputs": [],
   "source": [
    "datadir = '/Users/klarnemann/Documents/Insight/Insight_project/data'"
   ]
  },
  {
   "cell_type": "code",
   "execution_count": 10,
   "metadata": {},
   "outputs": [],
   "source": [
    "#poi_df = pd.read_csv('%s/poi_for_nlp.csv' % (datadir), index_col=0)\n",
    "#poi_df.to_csv('%s/poi_for_nlp.csv' % (datadir))\n",
    "#poi_df.to_excel('%s/poi_for_nlp.xlsx' % (datadir))"
   ]
  },
  {
   "cell_type": "markdown",
   "metadata": {},
   "source": [
    "# By city"
   ]
  },
  {
   "cell_type": "code",
   "execution_count": 18,
   "metadata": {},
   "outputs": [],
   "source": [
    "poi_df = pd.read_excel('%s/all_poi_for_nlp.xlsx' % (datadir), index_col=0)"
   ]
  },
  {
   "cell_type": "code",
   "execution_count": 19,
   "metadata": {},
   "outputs": [
    {
     "data": {
      "text/html": [
       "<div>\n",
       "<style scoped>\n",
       "    .dataframe tbody tr th:only-of-type {\n",
       "        vertical-align: middle;\n",
       "    }\n",
       "\n",
       "    .dataframe tbody tr th {\n",
       "        vertical-align: top;\n",
       "    }\n",
       "\n",
       "    .dataframe thead th {\n",
       "        text-align: right;\n",
       "    }\n",
       "</style>\n",
       "<table border=\"1\" class=\"dataframe\">\n",
       "  <thead>\n",
       "    <tr style=\"text-align: right;\">\n",
       "      <th></th>\n",
       "      <th>Name</th>\n",
       "      <th>Location</th>\n",
       "      <th>Article_content</th>\n",
       "    </tr>\n",
       "  </thead>\n",
       "  <tbody>\n",
       "    <tr>\n",
       "      <th>0</th>\n",
       "      <td>Penns Valley Area Historical Museum</td>\n",
       "      <td>Aaronsburg, Pennsylvania</td>\n",
       "      <td>Valley Forge National Historical Park is the s...</td>\n",
       "    </tr>\n",
       "    <tr>\n",
       "      <th>1</th>\n",
       "      <td>Palmetto Island State Park</td>\n",
       "      <td>Abbeville, Louisiana</td>\n",
       "      <td>Palmetto Island State Park is a recent additio...</td>\n",
       "    </tr>\n",
       "    <tr>\n",
       "      <th>2</th>\n",
       "      <td>Abbeville Museum</td>\n",
       "      <td>Abbeville, Louisiana</td>\n",
       "      <td>Abbeville (French pronunciation: [ab.vil] (lis...</td>\n",
       "    </tr>\n",
       "    <tr>\n",
       "      <th>3</th>\n",
       "      <td>Louisiana Military Hall of Fame and Museum</td>\n",
       "      <td>Abbeville, Louisiana</td>\n",
       "      <td>The landing craft, vehicle, personnel (LCVP) o...</td>\n",
       "    </tr>\n",
       "    <tr>\n",
       "      <th>4</th>\n",
       "      <td>Civil War Earthworks at Tallahatchie Crossing</td>\n",
       "      <td>Abbeville, Mississippi</td>\n",
       "      <td>The Civil War Earthworks at Tallahatchie Cross...</td>\n",
       "    </tr>\n",
       "  </tbody>\n",
       "</table>\n",
       "</div>"
      ],
      "text/plain": [
       "                                            Name                  Location  \\\n",
       "0            Penns Valley Area Historical Museum  Aaronsburg, Pennsylvania   \n",
       "1                     Palmetto Island State Park      Abbeville, Louisiana   \n",
       "2                               Abbeville Museum      Abbeville, Louisiana   \n",
       "3     Louisiana Military Hall of Fame and Museum      Abbeville, Louisiana   \n",
       "4  Civil War Earthworks at Tallahatchie Crossing    Abbeville, Mississippi   \n",
       "\n",
       "                                     Article_content  \n",
       "0  Valley Forge National Historical Park is the s...  \n",
       "1  Palmetto Island State Park is a recent additio...  \n",
       "2  Abbeville (French pronunciation: [ab.vil] (lis...  \n",
       "3  The landing craft, vehicle, personnel (LCVP) o...  \n",
       "4  The Civil War Earthworks at Tallahatchie Cross...  "
      ]
     },
     "execution_count": 19,
     "metadata": {},
     "output_type": "execute_result"
    }
   ],
   "source": [
    "poi_df.head()"
   ]
  },
  {
   "cell_type": "code",
   "execution_count": 137,
   "metadata": {},
   "outputs": [],
   "source": [
    "poi_by_city_df = pd.read_csv('%s/unchecked_poi_by_city_for_nlp.csv' % (datadir), \n",
    "                             index_col=0)"
   ]
  },
  {
   "cell_type": "code",
   "execution_count": 138,
   "metadata": {},
   "outputs": [
    {
     "data": {
      "text/html": [
       "<div>\n",
       "<style scoped>\n",
       "    .dataframe tbody tr th:only-of-type {\n",
       "        vertical-align: middle;\n",
       "    }\n",
       "\n",
       "    .dataframe tbody tr th {\n",
       "        vertical-align: top;\n",
       "    }\n",
       "\n",
       "    .dataframe thead th {\n",
       "        text-align: right;\n",
       "    }\n",
       "</style>\n",
       "<table border=\"1\" class=\"dataframe\">\n",
       "  <thead>\n",
       "    <tr style=\"text-align: right;\">\n",
       "      <th></th>\n",
       "      <th>Location</th>\n",
       "      <th>POIs</th>\n",
       "      <th>Article_content</th>\n",
       "    </tr>\n",
       "  </thead>\n",
       "  <tbody>\n",
       "    <tr>\n",
       "      <th>0</th>\n",
       "      <td>Abbeville, Louisiana</td>\n",
       "      <td>Palmetto Island State Park</td>\n",
       "      <td>Palmetto Island State Park is a recent additio...</td>\n",
       "    </tr>\n",
       "    <tr>\n",
       "      <th>1</th>\n",
       "      <td>Abbeville, Mississippi</td>\n",
       "      <td>Civil War Earthworks at Tallahatchie Crossing</td>\n",
       "      <td>The Civil War Earthworks at Tallahatchie Cross...</td>\n",
       "    </tr>\n",
       "    <tr>\n",
       "      <th>2</th>\n",
       "      <td>Abbeville, South Carolina</td>\n",
       "      <td>Burt-Stark Mansion</td>\n",
       "      <td>The Burt-Stark Mansion, also known as Armistea...</td>\n",
       "    </tr>\n",
       "    <tr>\n",
       "      <th>3</th>\n",
       "      <td>Abercrombie, North Dakota</td>\n",
       "      <td>Fort Abercrombie State Historic Site</td>\n",
       "      <td>Fort Abercrombie, in North Dakota, was an Amer...</td>\n",
       "    </tr>\n",
       "    <tr>\n",
       "      <th>4</th>\n",
       "      <td>Aberdeen Proving Ground, Maryland</td>\n",
       "      <td>Gunpowder Meetinghouse, Presbury Meetinghouse</td>\n",
       "      <td>Gunpowder Meetinghouse is a historic Methodist...</td>\n",
       "    </tr>\n",
       "  </tbody>\n",
       "</table>\n",
       "</div>"
      ],
      "text/plain": [
       "                            Location  \\\n",
       "0               Abbeville, Louisiana   \n",
       "1             Abbeville, Mississippi   \n",
       "2          Abbeville, South Carolina   \n",
       "3          Abercrombie, North Dakota   \n",
       "4  Aberdeen Proving Ground, Maryland   \n",
       "\n",
       "                                            POIs  \\\n",
       "0                     Palmetto Island State Park   \n",
       "1  Civil War Earthworks at Tallahatchie Crossing   \n",
       "2                             Burt-Stark Mansion   \n",
       "3           Fort Abercrombie State Historic Site   \n",
       "4  Gunpowder Meetinghouse, Presbury Meetinghouse   \n",
       "\n",
       "                                     Article_content  \n",
       "0  Palmetto Island State Park is a recent additio...  \n",
       "1  The Civil War Earthworks at Tallahatchie Cross...  \n",
       "2  The Burt-Stark Mansion, also known as Armistea...  \n",
       "3  Fort Abercrombie, in North Dakota, was an Amer...  \n",
       "4  Gunpowder Meetinghouse is a historic Methodist...  "
      ]
     },
     "execution_count": 138,
     "metadata": {},
     "output_type": "execute_result"
    }
   ],
   "source": [
    "poi_by_city_df.head()"
   ]
  },
  {
   "cell_type": "code",
   "execution_count": 94,
   "metadata": {},
   "outputs": [
    {
     "data": {
      "text/html": [
       "<div>\n",
       "<style scoped>\n",
       "    .dataframe tbody tr th:only-of-type {\n",
       "        vertical-align: middle;\n",
       "    }\n",
       "\n",
       "    .dataframe tbody tr th {\n",
       "        vertical-align: top;\n",
       "    }\n",
       "\n",
       "    .dataframe thead th {\n",
       "        text-align: right;\n",
       "    }\n",
       "</style>\n",
       "<table border=\"1\" class=\"dataframe\">\n",
       "  <thead>\n",
       "    <tr style=\"text-align: right;\">\n",
       "      <th></th>\n",
       "      <th>Coords</th>\n",
       "    </tr>\n",
       "    <tr>\n",
       "      <th>Location</th>\n",
       "      <th></th>\n",
       "    </tr>\n",
       "  </thead>\n",
       "  <tbody>\n",
       "    <tr>\n",
       "      <th>Aaronsburg, Pennsylvania</th>\n",
       "      <td>(40.8997903, -77.4533235)</td>\n",
       "    </tr>\n",
       "    <tr>\n",
       "      <th>Abbeville, Louisiana</th>\n",
       "      <td>(29.9746502, -92.1342921)</td>\n",
       "    </tr>\n",
       "    <tr>\n",
       "      <th>Abbeville, Mississippi</th>\n",
       "      <td>(34.5031591, -89.5031368)</td>\n",
       "    </tr>\n",
       "  </tbody>\n",
       "</table>\n",
       "</div>"
      ],
      "text/plain": [
       "                                             Coords\n",
       "Location                                           \n",
       "Aaronsburg, Pennsylvania  (40.8997903, -77.4533235)\n",
       "Abbeville, Louisiana      (29.9746502, -92.1342921)\n",
       "Abbeville, Mississippi    (34.5031591, -89.5031368)"
      ]
     },
     "execution_count": 94,
     "metadata": {},
     "output_type": "execute_result"
    }
   ],
   "source": [
    "gps_coord_df = pd.read_excel('%s/gps_lat_long_coordinates.xlsx' % (datadir), index_col=1)\n",
    "gps_coord_df = gps_coord_df.drop('Unnamed: 0', axis=1)\n",
    "gps_coord_df.head(3)"
   ]
  },
  {
   "cell_type": "code",
   "execution_count": 139,
   "metadata": {},
   "outputs": [],
   "source": [
    "web_df = poi_by_city_df[['Location', 'POIs']];\n",
    "web_df['Coords'] = gps_coord_df.loc[poi_by_city_df.Location, 'Coords'].values;"
   ]
  },
  {
   "cell_type": "code",
   "execution_count": 140,
   "metadata": {},
   "outputs": [],
   "source": [
    "web_df.index = web_df.Location.values\n",
    "web_df = web_df.drop('Location',axis=1)"
   ]
  },
  {
   "cell_type": "code",
   "execution_count": 141,
   "metadata": {},
   "outputs": [
    {
     "data": {
      "text/html": [
       "<div>\n",
       "<style scoped>\n",
       "    .dataframe tbody tr th:only-of-type {\n",
       "        vertical-align: middle;\n",
       "    }\n",
       "\n",
       "    .dataframe tbody tr th {\n",
       "        vertical-align: top;\n",
       "    }\n",
       "\n",
       "    .dataframe thead th {\n",
       "        text-align: right;\n",
       "    }\n",
       "</style>\n",
       "<table border=\"1\" class=\"dataframe\">\n",
       "  <thead>\n",
       "    <tr style=\"text-align: right;\">\n",
       "      <th></th>\n",
       "      <th>POIs</th>\n",
       "      <th>Coords</th>\n",
       "    </tr>\n",
       "  </thead>\n",
       "  <tbody>\n",
       "    <tr>\n",
       "      <th>Abbeville, Louisiana</th>\n",
       "      <td>Palmetto Island State Park</td>\n",
       "      <td>(29.9746502, -92.1342921)</td>\n",
       "    </tr>\n",
       "    <tr>\n",
       "      <th>Abbeville, Mississippi</th>\n",
       "      <td>Civil War Earthworks at Tallahatchie Crossing</td>\n",
       "      <td>(34.5031591, -89.5031368)</td>\n",
       "    </tr>\n",
       "    <tr>\n",
       "      <th>Abbeville, South Carolina</th>\n",
       "      <td>Burt-Stark Mansion</td>\n",
       "      <td>(34.1779495, -82.3792463)</td>\n",
       "    </tr>\n",
       "    <tr>\n",
       "      <th>Abercrombie, North Dakota</th>\n",
       "      <td>Fort Abercrombie State Historic Site</td>\n",
       "      <td>(46.447738, -96.730356)</td>\n",
       "    </tr>\n",
       "    <tr>\n",
       "      <th>Aberdeen Proving Ground, Maryland</th>\n",
       "      <td>Gunpowder Meetinghouse, Presbury Meetinghouse</td>\n",
       "      <td>(39.4679716, -76.1324354)</td>\n",
       "    </tr>\n",
       "  </tbody>\n",
       "</table>\n",
       "</div>"
      ],
      "text/plain": [
       "                                                                            POIs  \\\n",
       "Abbeville, Louisiana                                  Palmetto Island State Park   \n",
       "Abbeville, Mississippi             Civil War Earthworks at Tallahatchie Crossing   \n",
       "Abbeville, South Carolina                                     Burt-Stark Mansion   \n",
       "Abercrombie, North Dakota                   Fort Abercrombie State Historic Site   \n",
       "Aberdeen Proving Ground, Maryland  Gunpowder Meetinghouse, Presbury Meetinghouse   \n",
       "\n",
       "                                                      Coords  \n",
       "Abbeville, Louisiana               (29.9746502, -92.1342921)  \n",
       "Abbeville, Mississippi             (34.5031591, -89.5031368)  \n",
       "Abbeville, South Carolina          (34.1779495, -82.3792463)  \n",
       "Abercrombie, North Dakota            (46.447738, -96.730356)  \n",
       "Aberdeen Proving Ground, Maryland  (39.4679716, -76.1324354)  "
      ]
     },
     "execution_count": 141,
     "metadata": {},
     "output_type": "execute_result"
    }
   ],
   "source": [
    "web_df.head()"
   ]
  },
  {
   "cell_type": "code",
   "execution_count": 144,
   "metadata": {},
   "outputs": [],
   "source": [
    "web_df.to_csv('%s/results/information.csv' % (datadir))"
   ]
  },
  {
   "cell_type": "markdown",
   "metadata": {},
   "source": [
    "## Remove stop words and proper nouns"
   ]
  },
  {
   "cell_type": "code",
   "execution_count": 22,
   "metadata": {},
   "outputs": [],
   "source": [
    "input_df = tokenize_text_from_df(poi_by_city_df, lower=True, stopwords=True, \\\n",
    "                                     properNouns=False)"
   ]
  },
  {
   "cell_type": "code",
   "execution_count": 23,
   "metadata": {
    "scrolled": true
   },
   "outputs": [
    {
     "data": {
      "text/html": [
       "<div>\n",
       "<style scoped>\n",
       "    .dataframe tbody tr th:only-of-type {\n",
       "        vertical-align: middle;\n",
       "    }\n",
       "\n",
       "    .dataframe tbody tr th {\n",
       "        vertical-align: top;\n",
       "    }\n",
       "\n",
       "    .dataframe thead th {\n",
       "        text-align: right;\n",
       "    }\n",
       "</style>\n",
       "<table border=\"1\" class=\"dataframe\">\n",
       "  <thead>\n",
       "    <tr style=\"text-align: right;\">\n",
       "      <th></th>\n",
       "      <th>Location</th>\n",
       "      <th>POIs</th>\n",
       "      <th>Article_content</th>\n",
       "      <th>Article_tokens</th>\n",
       "    </tr>\n",
       "  </thead>\n",
       "  <tbody>\n",
       "    <tr>\n",
       "      <th>0</th>\n",
       "      <td>Abbeville, Louisiana</td>\n",
       "      <td>Palmetto Island State Park</td>\n",
       "      <td>Palmetto Island State Park is a recent additio...</td>\n",
       "      <td>[recent, addition, system, new, state, park, l...</td>\n",
       "    </tr>\n",
       "    <tr>\n",
       "      <th>1</th>\n",
       "      <td>Abbeville, Mississippi</td>\n",
       "      <td>Civil War Earthworks at Tallahatchie Crossing</td>\n",
       "      <td>The Civil War Earthworks at Tallahatchie Cross...</td>\n",
       "      <td>[earthwork, earthworks, located, federal, land...</td>\n",
       "    </tr>\n",
       "    <tr>\n",
       "      <th>2</th>\n",
       "      <td>Abbeville, South Carolina</td>\n",
       "      <td>Burt-Stark Mansion</td>\n",
       "      <td>The Burt-Stark Mansion, also known as Armistea...</td>\n",
       "      <td>[also, known, site, last, cabinet, members, go...</td>\n",
       "    </tr>\n",
       "    <tr>\n",
       "      <th>3</th>\n",
       "      <td>Abercrombie, North Dakota</td>\n",
       "      <td>Fort Abercrombie State Historic Site</td>\n",
       "      <td>Fort Abercrombie, in North Dakota, was an Amer...</td>\n",
       "      <td>[american, fort, established, authority, act, ...</td>\n",
       "    </tr>\n",
       "    <tr>\n",
       "      <th>4</th>\n",
       "      <td>Aberdeen Proving Ground, Maryland</td>\n",
       "      <td>Gunpowder Meetinghouse\\nPresbury Meetinghouse</td>\n",
       "      <td>Gunpowder Meetinghouse is a historic Methodist...</td>\n",
       "      <td>[historic, church, located, proving, one, room...</td>\n",
       "    </tr>\n",
       "  </tbody>\n",
       "</table>\n",
       "</div>"
      ],
      "text/plain": [
       "                            Location  \\\n",
       "0               Abbeville, Louisiana   \n",
       "1             Abbeville, Mississippi   \n",
       "2          Abbeville, South Carolina   \n",
       "3          Abercrombie, North Dakota   \n",
       "4  Aberdeen Proving Ground, Maryland   \n",
       "\n",
       "                                            POIs  \\\n",
       "0                     Palmetto Island State Park   \n",
       "1  Civil War Earthworks at Tallahatchie Crossing   \n",
       "2                             Burt-Stark Mansion   \n",
       "3           Fort Abercrombie State Historic Site   \n",
       "4  Gunpowder Meetinghouse\\nPresbury Meetinghouse   \n",
       "\n",
       "                                     Article_content  \\\n",
       "0  Palmetto Island State Park is a recent additio...   \n",
       "1  The Civil War Earthworks at Tallahatchie Cross...   \n",
       "2  The Burt-Stark Mansion, also known as Armistea...   \n",
       "3  Fort Abercrombie, in North Dakota, was an Amer...   \n",
       "4  Gunpowder Meetinghouse is a historic Methodist...   \n",
       "\n",
       "                                      Article_tokens  \n",
       "0  [recent, addition, system, new, state, park, l...  \n",
       "1  [earthwork, earthworks, located, federal, land...  \n",
       "2  [also, known, site, last, cabinet, members, go...  \n",
       "3  [american, fort, established, authority, act, ...  \n",
       "4  [historic, church, located, proving, one, room...  "
      ]
     },
     "execution_count": 23,
     "metadata": {},
     "output_type": "execute_result"
    }
   ],
   "source": [
    "print(input_df.shape)\n",
    "input_df.head()"
   ]
  },
  {
   "cell_type": "code",
   "execution_count": 24,
   "metadata": {},
   "outputs": [
    {
     "data": {
      "text/plain": [
       "\"Palmetto Island State Park is a recent addition to the Louisiana State Park system. The new state park is located south of Abbeville, Louisiana in Vermilion Parish. The state of Louisiana acquired the property for the park in 1981 but did not begin construction on it with the intent of public use until 2002. State budget constraints and other concerns delayed the park's opening until October, 28, 2010. \\nThe park, 1,299 acres (5.26 km2) in size, is noted for its abundance of palmettos,(mostly Dwarf Palmetto) which form a dense understory in the coastal bottomland hardwood forest that predominates here.\\nPalmetto Island State Park has a visitor's center which houses a multi-purpose room that can rented for meetings, weddings and other social events. A water playground is located nearby. Guests may stay at one of six two-bedroom cabins nestled in the woods or use any of the park's 95 campsites. There are four picnic pavilions and strategically placed picnic sites for visitors. An aquatic pavilion overlooks the Vermilion River. Access to the Vermilion River is provided by a boat launch. Interior lagoons allow canoers and kayakers the opportunity to observe native animal and plant life. Including a new population of Iris nelsonii.\\nA nature trail (of 0.75 miles) begins at the park's visitor center.\\nThe park address is 19501 Pleasant Road, Abbeville, LA 70510.\\n\\n\\n== References ==\\n\\n\\n== External links ==\\nLouisiana Department of Culture, Recreation and Tourism\""
      ]
     },
     "execution_count": 24,
     "metadata": {},
     "output_type": "execute_result"
    }
   ],
   "source": [
    "input_df.Article_content.iloc[0]"
   ]
  },
  {
   "cell_type": "code",
   "execution_count": 25,
   "metadata": {},
   "outputs": [
    {
     "data": {
      "text/plain": [
       "1472"
      ]
     },
     "execution_count": 25,
     "metadata": {},
     "output_type": "execute_result"
    }
   ],
   "source": [
    "len(input_df.Article_content.iloc[0])"
   ]
  },
  {
   "cell_type": "code",
   "execution_count": 27,
   "metadata": {},
   "outputs": [],
   "source": [
    "remove_rows = []\n",
    "for i, val in enumerate(input_df.Article_content):\n",
    "    if len(val) <= 1:\n",
    "        remove_rows.append(i)"
   ]
  },
  {
   "cell_type": "code",
   "execution_count": 28,
   "metadata": {},
   "outputs": [],
   "source": [
    "input_df = input_df.drop(remove_rows)"
   ]
  },
  {
   "cell_type": "code",
   "execution_count": 29,
   "metadata": {},
   "outputs": [
    {
     "name": "stdout",
     "output_type": "stream",
     "text": [
      "(7224, 4)\n"
     ]
    },
    {
     "data": {
      "text/html": [
       "<div>\n",
       "<style scoped>\n",
       "    .dataframe tbody tr th:only-of-type {\n",
       "        vertical-align: middle;\n",
       "    }\n",
       "\n",
       "    .dataframe tbody tr th {\n",
       "        vertical-align: top;\n",
       "    }\n",
       "\n",
       "    .dataframe thead th {\n",
       "        text-align: right;\n",
       "    }\n",
       "</style>\n",
       "<table border=\"1\" class=\"dataframe\">\n",
       "  <thead>\n",
       "    <tr style=\"text-align: right;\">\n",
       "      <th></th>\n",
       "      <th>Location</th>\n",
       "      <th>POIs</th>\n",
       "      <th>Article_content</th>\n",
       "      <th>Article_tokens</th>\n",
       "    </tr>\n",
       "  </thead>\n",
       "  <tbody>\n",
       "    <tr>\n",
       "      <th>0</th>\n",
       "      <td>Abbeville, Louisiana</td>\n",
       "      <td>Palmetto Island State Park</td>\n",
       "      <td>Palmetto Island State Park is a recent additio...</td>\n",
       "      <td>[recent, addition, system, new, state, park, l...</td>\n",
       "    </tr>\n",
       "    <tr>\n",
       "      <th>1</th>\n",
       "      <td>Abbeville, Mississippi</td>\n",
       "      <td>Civil War Earthworks at Tallahatchie Crossing</td>\n",
       "      <td>The Civil War Earthworks at Tallahatchie Cross...</td>\n",
       "      <td>[earthwork, earthworks, located, federal, land...</td>\n",
       "    </tr>\n",
       "    <tr>\n",
       "      <th>2</th>\n",
       "      <td>Abbeville, South Carolina</td>\n",
       "      <td>Burt-Stark Mansion</td>\n",
       "      <td>The Burt-Stark Mansion, also known as Armistea...</td>\n",
       "      <td>[also, known, site, last, cabinet, members, go...</td>\n",
       "    </tr>\n",
       "    <tr>\n",
       "      <th>3</th>\n",
       "      <td>Abercrombie, North Dakota</td>\n",
       "      <td>Fort Abercrombie State Historic Site</td>\n",
       "      <td>Fort Abercrombie, in North Dakota, was an Amer...</td>\n",
       "      <td>[american, fort, established, authority, act, ...</td>\n",
       "    </tr>\n",
       "    <tr>\n",
       "      <th>4</th>\n",
       "      <td>Aberdeen Proving Ground, Maryland</td>\n",
       "      <td>Gunpowder Meetinghouse\\nPresbury Meetinghouse</td>\n",
       "      <td>Gunpowder Meetinghouse is a historic Methodist...</td>\n",
       "      <td>[historic, church, located, proving, one, room...</td>\n",
       "    </tr>\n",
       "  </tbody>\n",
       "</table>\n",
       "</div>"
      ],
      "text/plain": [
       "                            Location  \\\n",
       "0               Abbeville, Louisiana   \n",
       "1             Abbeville, Mississippi   \n",
       "2          Abbeville, South Carolina   \n",
       "3          Abercrombie, North Dakota   \n",
       "4  Aberdeen Proving Ground, Maryland   \n",
       "\n",
       "                                            POIs  \\\n",
       "0                     Palmetto Island State Park   \n",
       "1  Civil War Earthworks at Tallahatchie Crossing   \n",
       "2                             Burt-Stark Mansion   \n",
       "3           Fort Abercrombie State Historic Site   \n",
       "4  Gunpowder Meetinghouse\\nPresbury Meetinghouse   \n",
       "\n",
       "                                     Article_content  \\\n",
       "0  Palmetto Island State Park is a recent additio...   \n",
       "1  The Civil War Earthworks at Tallahatchie Cross...   \n",
       "2  The Burt-Stark Mansion, also known as Armistea...   \n",
       "3  Fort Abercrombie, in North Dakota, was an Amer...   \n",
       "4  Gunpowder Meetinghouse is a historic Methodist...   \n",
       "\n",
       "                                      Article_tokens  \n",
       "0  [recent, addition, system, new, state, park, l...  \n",
       "1  [earthwork, earthworks, located, federal, land...  \n",
       "2  [also, known, site, last, cabinet, members, go...  \n",
       "3  [american, fort, established, authority, act, ...  \n",
       "4  [historic, church, located, proving, one, room...  "
      ]
     },
     "execution_count": 29,
     "metadata": {},
     "output_type": "execute_result"
    }
   ],
   "source": [
    "print(input_df.shape)\n",
    "input_df.head()"
   ]
  },
  {
   "cell_type": "code",
   "execution_count": 30,
   "metadata": {},
   "outputs": [],
   "source": [
    "line_list = input_df['Article_tokens'].tolist()"
   ]
  },
  {
   "cell_type": "code",
   "execution_count": 31,
   "metadata": {},
   "outputs": [],
   "source": [
    "input_dictionary = corpora.Dictionary(line_list)"
   ]
  },
  {
   "cell_type": "code",
   "execution_count": 32,
   "metadata": {},
   "outputs": [],
   "source": [
    "once_ids = [tokenid for tokenid, docfreq in input_dictionary.dfs.items() if docfreq == 1]\n",
    "input_dictionary.filter_tokens(once_ids)\n",
    "input_dictionary.compactify()"
   ]
  },
  {
   "cell_type": "code",
   "execution_count": 33,
   "metadata": {},
   "outputs": [
    {
     "name": "stderr",
     "output_type": "stream",
     "text": [
      "/Users/klarnemann/anaconda3/lib/python3.7/site-packages/smart_open/smart_open_lib.py:398: UserWarning: This function is deprecated, use smart_open.open instead. See the migration notes for details: https://github.com/RaRe-Technologies/smart_open/blob/master/README.rst#migrating-to-the-new-open-function\n",
      "  'See the migration notes for details: %s' % _MIGRATION_NOTES_URL\n"
     ]
    }
   ],
   "source": [
    "input_corpus = [input_dictionary.doc2bow(words) for words in line_list]\n",
    "corpora.mmcorpus.MmCorpus.serialize('%s/poi_rm_nnp_rm_stopwords.mm' % (datadir), input_corpus)\n",
    "tfidf = models.TfidfModel(input_corpus)"
   ]
  },
  {
   "cell_type": "code",
   "execution_count": 34,
   "metadata": {},
   "outputs": [
    {
     "name": "stderr",
     "output_type": "stream",
     "text": [
      "/Users/klarnemann/anaconda3/lib/python3.7/site-packages/smart_open/smart_open_lib.py:398: UserWarning: This function is deprecated, use smart_open.open instead. See the migration notes for details: https://github.com/RaRe-Technologies/smart_open/blob/master/README.rst#migrating-to-the-new-open-function\n",
      "  'See the migration notes for details: %s' % _MIGRATION_NOTES_URL\n",
      "/Users/klarnemann/anaconda3/lib/python3.7/site-packages/smart_open/smart_open_lib.py:398: UserWarning: This function is deprecated, use smart_open.open instead. See the migration notes for details: https://github.com/RaRe-Technologies/smart_open/blob/master/README.rst#migrating-to-the-new-open-function\n",
      "  'See the migration notes for details: %s' % _MIGRATION_NOTES_URL\n"
     ]
    }
   ],
   "source": [
    "lsi = models.lsimodel.LsiModel(corpus=tfidf[input_corpus], id2word=input_dictionary)\n",
    "lsi.save('%s/poi_rm_nnp_rm_stopwords.lsi' % (datadir))"
   ]
  },
  {
   "cell_type": "code",
   "execution_count": 35,
   "metadata": {},
   "outputs": [],
   "source": [
    "corpus_lsi = lsi[tfidf[input_corpus]]"
   ]
  },
  {
   "cell_type": "code",
   "execution_count": 36,
   "metadata": {},
   "outputs": [],
   "source": [
    "matsim = similarities.MatrixSimilarity(lsi[tfidf[input_corpus]])"
   ]
  },
  {
   "cell_type": "code",
   "execution_count": 153,
   "metadata": {},
   "outputs": [],
   "source": [
    "out_f = '%s/results/matsim_lsi_poi_rm_nnp_rm_stopwords.csv' % (datadir)\n",
    "#matsim_df = pd.read_csv(out_f, index_col=0)\n",
    "matsim_df.to_csv(out_f)"
   ]
  },
  {
   "cell_type": "code",
   "execution_count": 123,
   "metadata": {},
   "outputs": [],
   "source": [
    "matsim_mat = np.array(matsim)\n",
    "np.fill_diagonal(matsim_mat, 1)\n",
    "matsim_df = pd.DataFrame(matsim_mat, index=cities, columns=cities)"
   ]
  },
  {
   "cell_type": "code",
   "execution_count": 152,
   "metadata": {},
   "outputs": [],
   "source": [
    "matsim_df = matsim_df.round(2)"
   ]
  },
  {
   "cell_type": "code",
   "execution_count": null,
   "metadata": {},
   "outputs": [],
   "source": [
    "def recommendations(city, top_n, matsim_df=matsim_df, category_df=category_df):\n",
    "    cities = np.array(matsim_df.index)\n",
    "    vals = np.array(matsim_df.loc[city])\n",
    "    n_cities = len(cities)\n",
    "    inds = [x for _, x in sorted(zip(vals, np.arange(n_cities)), reverse=True)]\n",
    "    top_inds = inds[:top_n]\n",
    "    recommendations = cities[top_inds]\n",
    "    pois = category_df.POI_names.loc[recommendations]\n",
    "    inds = ['Input'] + list(np.array(np.arange(1,top_n), dtype=str))\n",
    "    out_df = pd.DataFrame(np.array([recommendations, pois]).T, \n",
    "                          columns=['City', 'Points of Interest'], \n",
    "                          index=inds)\n",
    "    return out_df"
   ]
  },
  {
   "cell_type": "code",
   "execution_count": null,
   "metadata": {},
   "outputs": [],
   "source": [
    "pd.set_option('display.max_colwidth', -1)"
   ]
  },
  {
   "cell_type": "code",
   "execution_count": null,
   "metadata": {},
   "outputs": [],
   "source": [
    "city = 'Asheville, North Carolina'\n",
    "#Athens, Georgia\n",
    "#Auburn, California\n",
    "#Billings, Montana\n",
    "#Astoria, Oregon\n",
    "#Abbeville, Mississippi\n",
    "#Alexandria, Virginia\n",
    "#Alpena, Michigan\n",
    "#Altoona, Pennsylvania\n",
    "#Amarillo, Texas\n",
    "#Carlsbad, New Mexico\n",
    "#Amherst, Massachusetts\n",
    "#Anadarko, Oklahoma\n",
    "#Apalachicola, Florida\n",
    "#Appleton, Wisconsin\n",
    "# Alamo, Nevada\n",
    "#Albuquerque, New Mexico\n",
    "#city = 'Jim Thorpe, Pennsylvania'\n",
    "recommendations(city, 5)"
   ]
  },
  {
   "cell_type": "code",
   "execution_count": 73,
   "metadata": {},
   "outputs": [],
   "source": [
    "#matsim.get_similarities(query)"
   ]
  },
  {
   "cell_type": "code",
   "execution_count": 122,
   "metadata": {},
   "outputs": [
    {
     "data": {
      "text/plain": [
       "(7224, 7224)"
      ]
     },
     "execution_count": 122,
     "metadata": {},
     "output_type": "execute_result"
    }
   ],
   "source": [
    "matsim_df.shape"
   ]
  },
  {
   "cell_type": "code",
   "execution_count": 124,
   "metadata": {},
   "outputs": [],
   "source": [
    "out_f = '%s/results/matsim_lsi_poi_rm_nnp_rm_stopwords.csv' % (datadir)\n",
    "matsim_df.to_csv(out_f)"
   ]
  },
  {
   "cell_type": "markdown",
   "metadata": {},
   "source": [
    "### Examine output\n",
    "word cloud: https://www.jasondavies.com/wordcloud/"
   ]
  },
  {
   "cell_type": "code",
   "execution_count": 192,
   "metadata": {},
   "outputs": [],
   "source": [
    "pos_tags = []\n",
    "neg_tags = []\n",
    "pos_weights = []\n",
    "neg_weights = []"
   ]
  },
  {
   "cell_type": "code",
   "execution_count": 193,
   "metadata": {},
   "outputs": [],
   "source": [
    "for i, topic in enumerate(lsi.print_topics(200)):\n",
    "    pos_tag = False\n",
    "    neg_tag = False\n",
    "    for item in topic[1].split(' + '):\n",
    "        weight, word = item.split('*')\n",
    "        if not pos_tag:\n",
    "            if float(weight) > 0:\n",
    "                pos_tag = True\n",
    "                pos_tags.append(word[1:-1])\n",
    "                pos_weights.append(weight)\n",
    "        if not neg_tag:\n",
    "            if float(weight) < 0:\n",
    "                neg_tag = True\n",
    "                neg_tags.append(word[1:-1])\n",
    "                neg_weights.append(weight)\n",
    "        if pos_tag and neg_tag:\n",
    "            continue"
   ]
  },
  {
   "cell_type": "code",
   "execution_count": 200,
   "metadata": {},
   "outputs": [],
   "source": [
    "#for word in pos_tags:\n",
    "#    print(word)"
   ]
  },
  {
   "cell_type": "code",
   "execution_count": 199,
   "metadata": {
    "scrolled": false
   },
   "outputs": [],
   "source": [
    "#for word in neg_tags:\n",
    "#    print(word)"
   ]
  },
  {
   "cell_type": "code",
   "execution_count": 203,
   "metadata": {},
   "outputs": [],
   "source": [
    "all_words = []\n",
    "for i, topic in enumerate(lsi.print_topics(200)):\n",
    "    for item in topic[1].split(' + '):\n",
    "        weight, word = item.split('*')\n",
    "        all_words.append(word[1:-1])"
   ]
  },
  {
   "cell_type": "markdown",
   "metadata": {},
   "source": [
    "### Loads"
   ]
  },
  {
   "cell_type": "code",
   "execution_count": 8,
   "metadata": {},
   "outputs": [],
   "source": [
    "#city_load_df = pd.read_csv('%s/results/lsi_default_model/load_lsi_poi_rm_nnp_rm_stopwords.csv' % (datadir), index_col=0)"
   ]
  },
  {
   "cell_type": "code",
   "execution_count": 40,
   "metadata": {},
   "outputs": [],
   "source": [
    "city_load = []\n",
    "for i, city in enumerate(cities):\n",
    "    try:\n",
    "        tmp_load = list(np.array(corpus_lsi[i])[:,1])\n",
    "        tmp_load = [i] + tmp_load\n",
    "        city_load.append(tmp_load)\n",
    "    except:\n",
    "        continue"
   ]
  },
  {
   "cell_type": "code",
   "execution_count": 41,
   "metadata": {
    "scrolled": true
   },
   "outputs": [
    {
     "data": {
      "text/html": [
       "<div>\n",
       "<style scoped>\n",
       "    .dataframe tbody tr th:only-of-type {\n",
       "        vertical-align: middle;\n",
       "    }\n",
       "\n",
       "    .dataframe tbody tr th {\n",
       "        vertical-align: top;\n",
       "    }\n",
       "\n",
       "    .dataframe thead th {\n",
       "        text-align: right;\n",
       "    }\n",
       "</style>\n",
       "<table border=\"1\" class=\"dataframe\">\n",
       "  <thead>\n",
       "    <tr style=\"text-align: right;\">\n",
       "      <th></th>\n",
       "      <th>0</th>\n",
       "      <th>1</th>\n",
       "      <th>2</th>\n",
       "      <th>3</th>\n",
       "      <th>4</th>\n",
       "      <th>5</th>\n",
       "      <th>6</th>\n",
       "      <th>7</th>\n",
       "      <th>8</th>\n",
       "      <th>9</th>\n",
       "      <th>...</th>\n",
       "      <th>190</th>\n",
       "      <th>191</th>\n",
       "      <th>192</th>\n",
       "      <th>193</th>\n",
       "      <th>194</th>\n",
       "      <th>195</th>\n",
       "      <th>196</th>\n",
       "      <th>197</th>\n",
       "      <th>198</th>\n",
       "      <th>199</th>\n",
       "    </tr>\n",
       "    <tr>\n",
       "      <th>Location</th>\n",
       "      <th></th>\n",
       "      <th></th>\n",
       "      <th></th>\n",
       "      <th></th>\n",
       "      <th></th>\n",
       "      <th></th>\n",
       "      <th></th>\n",
       "      <th></th>\n",
       "      <th></th>\n",
       "      <th></th>\n",
       "      <th></th>\n",
       "      <th></th>\n",
       "      <th></th>\n",
       "      <th></th>\n",
       "      <th></th>\n",
       "      <th></th>\n",
       "      <th></th>\n",
       "      <th></th>\n",
       "      <th></th>\n",
       "      <th></th>\n",
       "      <th></th>\n",
       "    </tr>\n",
       "  </thead>\n",
       "  <tbody>\n",
       "    <tr>\n",
       "      <th>Abbeville, Louisiana</th>\n",
       "      <td>0.151746</td>\n",
       "      <td>0.075846</td>\n",
       "      <td>0.208928</td>\n",
       "      <td>0.007581</td>\n",
       "      <td>-0.025233</td>\n",
       "      <td>0.079220</td>\n",
       "      <td>0.011094</td>\n",
       "      <td>-0.054081</td>\n",
       "      <td>-0.003708</td>\n",
       "      <td>-0.021717</td>\n",
       "      <td>...</td>\n",
       "      <td>0.025998</td>\n",
       "      <td>0.010641</td>\n",
       "      <td>-0.019759</td>\n",
       "      <td>0.031132</td>\n",
       "      <td>-0.006606</td>\n",
       "      <td>0.011762</td>\n",
       "      <td>-0.050583</td>\n",
       "      <td>0.019153</td>\n",
       "      <td>-0.000274</td>\n",
       "      <td>0.009076</td>\n",
       "    </tr>\n",
       "    <tr>\n",
       "      <th>Abbeville, Mississippi</th>\n",
       "      <td>0.048519</td>\n",
       "      <td>0.016074</td>\n",
       "      <td>-0.003145</td>\n",
       "      <td>-0.008716</td>\n",
       "      <td>-0.002472</td>\n",
       "      <td>-0.037736</td>\n",
       "      <td>-0.028134</td>\n",
       "      <td>-0.011363</td>\n",
       "      <td>-0.008655</td>\n",
       "      <td>-0.011950</td>\n",
       "      <td>...</td>\n",
       "      <td>0.001690</td>\n",
       "      <td>-0.009866</td>\n",
       "      <td>-0.005742</td>\n",
       "      <td>-0.009645</td>\n",
       "      <td>-0.001036</td>\n",
       "      <td>0.012822</td>\n",
       "      <td>0.000695</td>\n",
       "      <td>0.015113</td>\n",
       "      <td>0.016554</td>\n",
       "      <td>-0.002576</td>\n",
       "    </tr>\n",
       "    <tr>\n",
       "      <th>Abbeville, South Carolina</th>\n",
       "      <td>0.195767</td>\n",
       "      <td>0.085917</td>\n",
       "      <td>-0.118224</td>\n",
       "      <td>-0.075237</td>\n",
       "      <td>-0.001671</td>\n",
       "      <td>0.030151</td>\n",
       "      <td>-0.179351</td>\n",
       "      <td>-0.004964</td>\n",
       "      <td>0.130961</td>\n",
       "      <td>-0.077277</td>\n",
       "      <td>...</td>\n",
       "      <td>0.003624</td>\n",
       "      <td>0.025291</td>\n",
       "      <td>-0.008479</td>\n",
       "      <td>0.001788</td>\n",
       "      <td>-0.032770</td>\n",
       "      <td>-0.019350</td>\n",
       "      <td>0.030660</td>\n",
       "      <td>0.030630</td>\n",
       "      <td>-0.008145</td>\n",
       "      <td>-0.015102</td>\n",
       "    </tr>\n",
       "    <tr>\n",
       "      <th>Abercrombie, North Dakota</th>\n",
       "      <td>0.149226</td>\n",
       "      <td>0.039002</td>\n",
       "      <td>-0.018424</td>\n",
       "      <td>0.026763</td>\n",
       "      <td>0.044671</td>\n",
       "      <td>-0.177961</td>\n",
       "      <td>-0.177286</td>\n",
       "      <td>-0.179529</td>\n",
       "      <td>-0.195072</td>\n",
       "      <td>-0.205512</td>\n",
       "      <td>...</td>\n",
       "      <td>-0.003402</td>\n",
       "      <td>0.008516</td>\n",
       "      <td>-0.001134</td>\n",
       "      <td>-0.010924</td>\n",
       "      <td>-0.001096</td>\n",
       "      <td>0.008435</td>\n",
       "      <td>-0.012826</td>\n",
       "      <td>-0.008540</td>\n",
       "      <td>0.006852</td>\n",
       "      <td>-0.014178</td>\n",
       "    </tr>\n",
       "    <tr>\n",
       "      <th>Aberdeen Proving Ground, Maryland</th>\n",
       "      <td>0.099567</td>\n",
       "      <td>0.060126</td>\n",
       "      <td>-0.052145</td>\n",
       "      <td>-0.098238</td>\n",
       "      <td>-0.029899</td>\n",
       "      <td>0.015609</td>\n",
       "      <td>-0.032476</td>\n",
       "      <td>0.012735</td>\n",
       "      <td>0.051682</td>\n",
       "      <td>-0.005962</td>\n",
       "      <td>...</td>\n",
       "      <td>0.021031</td>\n",
       "      <td>-0.007298</td>\n",
       "      <td>-0.054761</td>\n",
       "      <td>0.019563</td>\n",
       "      <td>0.023568</td>\n",
       "      <td>-0.022912</td>\n",
       "      <td>0.011090</td>\n",
       "      <td>0.021543</td>\n",
       "      <td>-0.004235</td>\n",
       "      <td>0.012503</td>\n",
       "    </tr>\n",
       "  </tbody>\n",
       "</table>\n",
       "<p>5 rows × 200 columns</p>\n",
       "</div>"
      ],
      "text/plain": [
       "                                        0         1         2         3    \\\n",
       "Location                                                                    \n",
       "Abbeville, Louisiana               0.151746  0.075846  0.208928  0.007581   \n",
       "Abbeville, Mississippi             0.048519  0.016074 -0.003145 -0.008716   \n",
       "Abbeville, South Carolina          0.195767  0.085917 -0.118224 -0.075237   \n",
       "Abercrombie, North Dakota          0.149226  0.039002 -0.018424  0.026763   \n",
       "Aberdeen Proving Ground, Maryland  0.099567  0.060126 -0.052145 -0.098238   \n",
       "\n",
       "                                        4         5         6         7    \\\n",
       "Location                                                                    \n",
       "Abbeville, Louisiana              -0.025233  0.079220  0.011094 -0.054081   \n",
       "Abbeville, Mississippi            -0.002472 -0.037736 -0.028134 -0.011363   \n",
       "Abbeville, South Carolina         -0.001671  0.030151 -0.179351 -0.004964   \n",
       "Abercrombie, North Dakota          0.044671 -0.177961 -0.177286 -0.179529   \n",
       "Aberdeen Proving Ground, Maryland -0.029899  0.015609 -0.032476  0.012735   \n",
       "\n",
       "                                        8         9    ...       190  \\\n",
       "Location                                               ...             \n",
       "Abbeville, Louisiana              -0.003708 -0.021717  ...  0.025998   \n",
       "Abbeville, Mississippi            -0.008655 -0.011950  ...  0.001690   \n",
       "Abbeville, South Carolina          0.130961 -0.077277  ...  0.003624   \n",
       "Abercrombie, North Dakota         -0.195072 -0.205512  ... -0.003402   \n",
       "Aberdeen Proving Ground, Maryland  0.051682 -0.005962  ...  0.021031   \n",
       "\n",
       "                                        191       192       193       194  \\\n",
       "Location                                                                    \n",
       "Abbeville, Louisiana               0.010641 -0.019759  0.031132 -0.006606   \n",
       "Abbeville, Mississippi            -0.009866 -0.005742 -0.009645 -0.001036   \n",
       "Abbeville, South Carolina          0.025291 -0.008479  0.001788 -0.032770   \n",
       "Abercrombie, North Dakota          0.008516 -0.001134 -0.010924 -0.001096   \n",
       "Aberdeen Proving Ground, Maryland -0.007298 -0.054761  0.019563  0.023568   \n",
       "\n",
       "                                        195       196       197       198  \\\n",
       "Location                                                                    \n",
       "Abbeville, Louisiana               0.011762 -0.050583  0.019153 -0.000274   \n",
       "Abbeville, Mississippi             0.012822  0.000695  0.015113  0.016554   \n",
       "Abbeville, South Carolina         -0.019350  0.030660  0.030630 -0.008145   \n",
       "Abercrombie, North Dakota          0.008435 -0.012826 -0.008540  0.006852   \n",
       "Aberdeen Proving Ground, Maryland -0.022912  0.011090  0.021543 -0.004235   \n",
       "\n",
       "                                        199  \n",
       "Location                                     \n",
       "Abbeville, Louisiana               0.009076  \n",
       "Abbeville, Mississippi            -0.002576  \n",
       "Abbeville, South Carolina         -0.015102  \n",
       "Abercrombie, North Dakota         -0.014178  \n",
       "Aberdeen Proving Ground, Maryland  0.012503  \n",
       "\n",
       "[5 rows x 200 columns]"
      ]
     },
     "execution_count": 41,
     "metadata": {},
     "output_type": "execute_result"
    }
   ],
   "source": [
    "city_load_df = pd.DataFrame(np.array(city_load))\n",
    "city_load_df[0] = cities\n",
    "city_load_df.columns = ['Location'] + list(np.arange(200))\n",
    "city_load_df.set_index('Location', inplace=True)\n",
    "city_load_df.head()"
   ]
  },
  {
   "cell_type": "code",
   "execution_count": 42,
   "metadata": {},
   "outputs": [],
   "source": [
    "city_load_df.to_csv('%s/results/load_lsi_poi_rm_nnp_rm_stopwords.csv' % (datadir))"
   ]
  },
  {
   "cell_type": "code",
   "execution_count": 39,
   "metadata": {},
   "outputs": [],
   "source": [
    "cluster_dict_f = '%s/results/cluster_dict_kmeans_25_mca_21_by_city.json' % (datadir)\n",
    "with open(cluster_dict_f, 'r') as fp:\n",
    "    cluster_dict = json.load(fp)\n",
    "#cluster_dict"
   ]
  },
  {
   "cell_type": "code",
   "execution_count": null,
   "metadata": {},
   "outputs": [],
   "source": [
    "cluster_df = pd.DataFrame(index=clusters, columns=city_load_df.columns[:-1])"
   ]
  },
  {
   "cell_type": "code",
   "execution_count": 43,
   "metadata": {},
   "outputs": [],
   "source": [
    "city_load_df['Cluster'] = 0"
   ]
  },
  {
   "cell_type": "code",
   "execution_count": 44,
   "metadata": {},
   "outputs": [],
   "source": [
    "for city, cluster in cluster_dict.items():\n",
    "    city_load_df.loc[city, 'Cluster'] = int(cluster)+1"
   ]
  },
  {
   "cell_type": "code",
   "execution_count": 45,
   "metadata": {
    "scrolled": false
   },
   "outputs": [
    {
     "data": {
      "text/html": [
       "<div>\n",
       "<style scoped>\n",
       "    .dataframe tbody tr th:only-of-type {\n",
       "        vertical-align: middle;\n",
       "    }\n",
       "\n",
       "    .dataframe tbody tr th {\n",
       "        vertical-align: top;\n",
       "    }\n",
       "\n",
       "    .dataframe thead th {\n",
       "        text-align: right;\n",
       "    }\n",
       "</style>\n",
       "<table border=\"1\" class=\"dataframe\">\n",
       "  <thead>\n",
       "    <tr style=\"text-align: right;\">\n",
       "      <th></th>\n",
       "      <th>0</th>\n",
       "      <th>1</th>\n",
       "      <th>2</th>\n",
       "      <th>3</th>\n",
       "      <th>4</th>\n",
       "      <th>5</th>\n",
       "      <th>6</th>\n",
       "      <th>7</th>\n",
       "      <th>8</th>\n",
       "      <th>9</th>\n",
       "      <th>...</th>\n",
       "      <th>191</th>\n",
       "      <th>192</th>\n",
       "      <th>193</th>\n",
       "      <th>194</th>\n",
       "      <th>195</th>\n",
       "      <th>196</th>\n",
       "      <th>197</th>\n",
       "      <th>198</th>\n",
       "      <th>199</th>\n",
       "      <th>Cluster</th>\n",
       "    </tr>\n",
       "    <tr>\n",
       "      <th>Location</th>\n",
       "      <th></th>\n",
       "      <th></th>\n",
       "      <th></th>\n",
       "      <th></th>\n",
       "      <th></th>\n",
       "      <th></th>\n",
       "      <th></th>\n",
       "      <th></th>\n",
       "      <th></th>\n",
       "      <th></th>\n",
       "      <th></th>\n",
       "      <th></th>\n",
       "      <th></th>\n",
       "      <th></th>\n",
       "      <th></th>\n",
       "      <th></th>\n",
       "      <th></th>\n",
       "      <th></th>\n",
       "      <th></th>\n",
       "      <th></th>\n",
       "      <th></th>\n",
       "    </tr>\n",
       "  </thead>\n",
       "  <tbody>\n",
       "    <tr>\n",
       "      <th>Abbeville, Louisiana</th>\n",
       "      <td>0.151746</td>\n",
       "      <td>0.075846</td>\n",
       "      <td>0.208928</td>\n",
       "      <td>0.007581</td>\n",
       "      <td>-0.025233</td>\n",
       "      <td>0.079220</td>\n",
       "      <td>0.011094</td>\n",
       "      <td>-0.054081</td>\n",
       "      <td>-0.003708</td>\n",
       "      <td>-0.021717</td>\n",
       "      <td>...</td>\n",
       "      <td>0.010641</td>\n",
       "      <td>-0.019759</td>\n",
       "      <td>0.031132</td>\n",
       "      <td>-0.006606</td>\n",
       "      <td>0.011762</td>\n",
       "      <td>-0.050583</td>\n",
       "      <td>0.019153</td>\n",
       "      <td>-0.000274</td>\n",
       "      <td>0.009076</td>\n",
       "      <td>12.0</td>\n",
       "    </tr>\n",
       "    <tr>\n",
       "      <th>Abbeville, Mississippi</th>\n",
       "      <td>0.048519</td>\n",
       "      <td>0.016074</td>\n",
       "      <td>-0.003145</td>\n",
       "      <td>-0.008716</td>\n",
       "      <td>-0.002472</td>\n",
       "      <td>-0.037736</td>\n",
       "      <td>-0.028134</td>\n",
       "      <td>-0.011363</td>\n",
       "      <td>-0.008655</td>\n",
       "      <td>-0.011950</td>\n",
       "      <td>...</td>\n",
       "      <td>-0.009866</td>\n",
       "      <td>-0.005742</td>\n",
       "      <td>-0.009645</td>\n",
       "      <td>-0.001036</td>\n",
       "      <td>0.012822</td>\n",
       "      <td>0.000695</td>\n",
       "      <td>0.015113</td>\n",
       "      <td>0.016554</td>\n",
       "      <td>-0.002576</td>\n",
       "      <td>0.0</td>\n",
       "    </tr>\n",
       "  </tbody>\n",
       "</table>\n",
       "<p>2 rows × 201 columns</p>\n",
       "</div>"
      ],
      "text/plain": [
       "                               0         1         2         3         4  \\\n",
       "Location                                                                   \n",
       "Abbeville, Louisiana    0.151746  0.075846  0.208928  0.007581 -0.025233   \n",
       "Abbeville, Mississippi  0.048519  0.016074 -0.003145 -0.008716 -0.002472   \n",
       "\n",
       "                               5         6         7         8         9  ...  \\\n",
       "Location                                                                  ...   \n",
       "Abbeville, Louisiana    0.079220  0.011094 -0.054081 -0.003708 -0.021717  ...   \n",
       "Abbeville, Mississippi -0.037736 -0.028134 -0.011363 -0.008655 -0.011950  ...   \n",
       "\n",
       "                             191       192       193       194       195  \\\n",
       "Location                                                                   \n",
       "Abbeville, Louisiana    0.010641 -0.019759  0.031132 -0.006606  0.011762   \n",
       "Abbeville, Mississippi -0.009866 -0.005742 -0.009645 -0.001036  0.012822   \n",
       "\n",
       "                             196       197       198       199  Cluster  \n",
       "Location                                                                 \n",
       "Abbeville, Louisiana   -0.050583  0.019153 -0.000274  0.009076     12.0  \n",
       "Abbeville, Mississippi  0.000695  0.015113  0.016554 -0.002576      0.0  \n",
       "\n",
       "[2 rows x 201 columns]"
      ]
     },
     "execution_count": 45,
     "metadata": {},
     "output_type": "execute_result"
    }
   ],
   "source": [
    "city_load_df.head(2)"
   ]
  },
  {
   "cell_type": "code",
   "execution_count": 58,
   "metadata": {
    "scrolled": true
   },
   "outputs": [
    {
     "data": {
      "text/plain": [
       "array([ 1,  2,  3,  4,  5,  6,  7,  8,  9, 10, 11, 12, 13, 14, 15, 16, 17,\n",
       "       18, 19, 20, 21, 22, 23, 24, 25])"
      ]
     },
     "execution_count": 58,
     "metadata": {},
     "output_type": "execute_result"
    }
   ],
   "source": [
    "clusters = np.arange(1,26)\n",
    "clusters"
   ]
  },
  {
   "cell_type": "code",
   "execution_count": 77,
   "metadata": {},
   "outputs": [
    {
     "data": {
      "text/plain": [
       "<matplotlib.collections.PathCollection at 0x1a5a0d9f98>"
      ]
     },
     "execution_count": 77,
     "metadata": {},
     "output_type": "execute_result"
    },
    {
     "data": {
      "image/png": "[encoded data removed]",
      "text/plain": [
       "<Figure size 432x432 with 1 Axes>"
      ]
     },
     "metadata": {
      "needs_background": "light"
     },
     "output_type": "display_data"
    }
   ],
   "source": [
    "plt.figure(figsize=(6,6))\n",
    "plt.scatter(city_load_df[0], city_load_df[1], color=color_list)\n",
    "#plt.scatter(city_load_df[0], city_load_df[1], color=color_list)\n",
    "plt.xlabel('Topic 1')\n",
    "plt.xlabel('Topic 2')"
   ]
  },
  {
   "cell_type": "code",
   "execution_count": 50,
   "metadata": {},
   "outputs": [],
   "source": [
    "city_inds = np.array(np.array(city_load)[:,0], dtype=int)\n",
    "city_list = np.array(cities)[city_inds]"
   ]
  },
  {
   "cell_type": "code",
   "execution_count": 51,
   "metadata": {},
   "outputs": [
    {
     "data": {
      "image/png": "[encoded data removed]",
      "text/plain": [
       "<Figure size 432x288 with 1 Axes>"
      ]
     },
     "metadata": {
      "needs_background": "light"
     },
     "output_type": "display_data"
    }
   ],
   "source": [
    "plt.hist(city_load_df.max(axis=0), bins=20);\n",
    "plt.title('LSI topic model');\n",
    "plt.ylabel('# Topics');\n",
    "plt.xlabel('Max Load');"
   ]
  },
  {
   "cell_type": "code",
   "execution_count": 52,
   "metadata": {},
   "outputs": [
    {
     "name": "stdout",
     "output_type": "stream",
     "text": [
      "(6815, 6815)\n"
     ]
    }
   ],
   "source": [
    "city_load_mat = city_load_df.T.corr()\n",
    "print(city_load_mat.shape)"
   ]
  },
  {
   "cell_type": "code",
   "execution_count": 55,
   "metadata": {},
   "outputs": [
    {
     "data": {
      "text/plain": [
       "<matplotlib.colorbar.Colorbar at 0x1a58ed3e10>"
      ]
     },
     "execution_count": 55,
     "metadata": {},
     "output_type": "execute_result"
    },
    {
     "data": {
      "image/png": "[encoded data removed]",
      "text/plain": [
       "<Figure size 432x288 with 2 Axes>"
      ]
     },
     "metadata": {
      "needs_background": "light"
     },
     "output_type": "display_data"
    }
   ],
   "source": [
    "plt.imshow(city_load_mat, interpolation='nearest')\n",
    "plt.clim(0,1)\n",
    "plt.colorbar()"
   ]
  },
  {
   "cell_type": "code",
   "execution_count": null,
   "metadata": {},
   "outputs": [],
   "source": [
    "#overlap_df = pd.read_excel('%s/overlap_poi_categories_by_city.xlsx' % (datadir))"
   ]
  },
  {
   "cell_type": "code",
   "execution_count": null,
   "metadata": {},
   "outputs": [],
   "source": [
    "#norm_overlap_df = pd.read_excel('%s/norm_overlap_poi_categories_by_city.xlsx' % (datadir))"
   ]
  },
  {
   "cell_type": "code",
   "execution_count": 34,
   "metadata": {},
   "outputs": [],
   "source": [
    "def compare_lsi_loads(category):\n",
    "    category_mask = np.array(city_categories[category], dtype=bool)\n",
    "    T_cities = city_categories.index[category_mask]\n",
    "    F_cities = city_categories.index[~category_mask]\n",
    "    T_loads = city_load_df.loc[T_cities]\n",
    "    F_loads = city_load_df.loc[F_cities]"
   ]
  },
  {
   "cell_type": "code",
   "execution_count": null,
   "metadata": {},
   "outputs": [],
   "source": [
    "for c in communities_set:\n",
    "    c_inds = list(city_categories.index[c])\n",
    "    city_categories.All_categories.loc[c_inds]"
   ]
  },
  {
   "cell_type": "markdown",
   "metadata": {},
   "source": [
    "## By POI"
   ]
  },
  {
   "cell_type": "code",
   "execution_count": 312,
   "metadata": {},
   "outputs": [],
   "source": [
    "poi_df = tokenize_text_from_df(poi_df, out_col='Article_tokens_noStopwords', stopwords=True)"
   ]
  },
  {
   "cell_type": "code",
   "execution_count": 313,
   "metadata": {
    "scrolled": false
   },
   "outputs": [
    {
     "data": {
      "text/html": [
       "<div>\n",
       "<style scoped>\n",
       "    .dataframe tbody tr th:only-of-type {\n",
       "        vertical-align: middle;\n",
       "    }\n",
       "\n",
       "    .dataframe tbody tr th {\n",
       "        vertical-align: top;\n",
       "    }\n",
       "\n",
       "    .dataframe thead th {\n",
       "        text-align: right;\n",
       "    }\n",
       "</style>\n",
       "<table border=\"1\" class=\"dataframe\">\n",
       "  <thead>\n",
       "    <tr style=\"text-align: right;\">\n",
       "      <th></th>\n",
       "      <th>Name</th>\n",
       "      <th>Location</th>\n",
       "      <th>Article_content</th>\n",
       "      <th>Article_tokens</th>\n",
       "      <th>Article_tokens_noStopwords</th>\n",
       "    </tr>\n",
       "    <tr>\n",
       "      <th>Location</th>\n",
       "      <th></th>\n",
       "      <th></th>\n",
       "      <th></th>\n",
       "      <th></th>\n",
       "      <th></th>\n",
       "    </tr>\n",
       "  </thead>\n",
       "  <tbody>\n",
       "    <tr>\n",
       "      <th>Montgomery, Alabama</th>\n",
       "      <td>Building 800--Austin Hall</td>\n",
       "      <td>Montgomery, Alabama</td>\n",
       "      <td>Building 800–Austin Hall is located in Montgom...</td>\n",
       "      <td>[building, austin, hall, is, located, in, mont...</td>\n",
       "      <td>[building, austin, hall, located, montgomery, ...</td>\n",
       "    </tr>\n",
       "    <tr>\n",
       "      <th>Montgomery, Alabama</th>\n",
       "      <td>Building 836--Community College of the Air For...</td>\n",
       "      <td>Montgomery, Alabama</td>\n",
       "      <td>Simler Hall (also known as Building 836) is th...</td>\n",
       "      <td>[simler, hall, also, known, as, building, is, ...</td>\n",
       "      <td>[simler, hall, also, known, building, oldest, ...</td>\n",
       "    </tr>\n",
       "    <tr>\n",
       "      <th>Montgomery, Alabama</th>\n",
       "      <td>Maxwell Air Force Base Senior Officer's Quarte...</td>\n",
       "      <td>Montgomery, Alabama</td>\n",
       "      <td>The Maxwell Air Force Base Senior Officer's Qu...</td>\n",
       "      <td>[the, maxwell, air, force, base, senior, offic...</td>\n",
       "      <td>[maxwell, air, force, base, senior, officer, q...</td>\n",
       "    </tr>\n",
       "    <tr>\n",
       "      <th>Chandler, Arizona</th>\n",
       "      <td>Midvale Archeological Site</td>\n",
       "      <td>Chandler, Arizona</td>\n",
       "      <td>This is a list of the National Register of His...</td>\n",
       "      <td>[this, is, a, list, of, the, national, registe...</td>\n",
       "      <td>[list, national, register, historic, places, l...</td>\n",
       "    </tr>\n",
       "    <tr>\n",
       "      <th>Mesa, Arizona</th>\n",
       "      <td>Ammo Bunker (S-1007)</td>\n",
       "      <td>Mesa, Arizona</td>\n",
       "      <td>Williams Air Force Base is a former United Sta...</td>\n",
       "      <td>[williams, air, force, base, is, a, former, un...</td>\n",
       "      <td>[williams, air, force, base, former, united, s...</td>\n",
       "    </tr>\n",
       "  </tbody>\n",
       "</table>\n",
       "</div>"
      ],
      "text/plain": [
       "                                                                  Name  \\\n",
       "Location                                                                 \n",
       "Montgomery, Alabama                          Building 800--Austin Hall   \n",
       "Montgomery, Alabama  Building 836--Community College of the Air For...   \n",
       "Montgomery, Alabama  Maxwell Air Force Base Senior Officer's Quarte...   \n",
       "Chandler, Arizona                           Midvale Archeological Site   \n",
       "Mesa, Arizona                                     Ammo Bunker (S-1007)   \n",
       "\n",
       "                                Location  \\\n",
       "Location                                   \n",
       "Montgomery, Alabama  Montgomery, Alabama   \n",
       "Montgomery, Alabama  Montgomery, Alabama   \n",
       "Montgomery, Alabama  Montgomery, Alabama   \n",
       "Chandler, Arizona      Chandler, Arizona   \n",
       "Mesa, Arizona              Mesa, Arizona   \n",
       "\n",
       "                                                       Article_content  \\\n",
       "Location                                                                 \n",
       "Montgomery, Alabama  Building 800–Austin Hall is located in Montgom...   \n",
       "Montgomery, Alabama  Simler Hall (also known as Building 836) is th...   \n",
       "Montgomery, Alabama  The Maxwell Air Force Base Senior Officer's Qu...   \n",
       "Chandler, Arizona    This is a list of the National Register of His...   \n",
       "Mesa, Arizona        Williams Air Force Base is a former United Sta...   \n",
       "\n",
       "                                                        Article_tokens  \\\n",
       "Location                                                                 \n",
       "Montgomery, Alabama  [building, austin, hall, is, located, in, mont...   \n",
       "Montgomery, Alabama  [simler, hall, also, known, as, building, is, ...   \n",
       "Montgomery, Alabama  [the, maxwell, air, force, base, senior, offic...   \n",
       "Chandler, Arizona    [this, is, a, list, of, the, national, registe...   \n",
       "Mesa, Arizona        [williams, air, force, base, is, a, former, un...   \n",
       "\n",
       "                                            Article_tokens_noStopwords  \n",
       "Location                                                                \n",
       "Montgomery, Alabama  [building, austin, hall, located, montgomery, ...  \n",
       "Montgomery, Alabama  [simler, hall, also, known, building, oldest, ...  \n",
       "Montgomery, Alabama  [maxwell, air, force, base, senior, officer, q...  \n",
       "Chandler, Arizona    [list, national, register, historic, places, l...  \n",
       "Mesa, Arizona        [williams, air, force, base, former, united, s...  "
      ]
     },
     "execution_count": 313,
     "metadata": {},
     "output_type": "execute_result"
    }
   ],
   "source": [
    "poi_df.head()"
   ]
  },
  {
   "cell_type": "markdown",
   "metadata": {},
   "source": [
    "# Formatting data"
   ]
  },
  {
   "cell_type": "code",
   "execution_count": 34,
   "metadata": {},
   "outputs": [],
   "source": [
    "def get_article_content_by_city(city, df, lower=False):\n",
    "    city_mask = df.Location == city\n",
    "    try:\n",
    "        tmp_content = list(df.loc[city_mask].Article_content)\n",
    "        text = (' ').join(tmp_content)\n",
    "        if lower:\n",
    "            return clean_text(text)\n",
    "        else:\n",
    "            return clean_text(text, lower=lower)\n",
    "    except:\n",
    "        return ''"
   ]
  },
  {
   "cell_type": "code",
   "execution_count": 35,
   "metadata": {},
   "outputs": [
    {
     "ename": "NameError",
     "evalue": "name 'city_articles' is not defined",
     "output_type": "error",
     "traceback": [
      "\u001b[0;31m---------------------------------------------------------------------------\u001b[0m",
      "\u001b[0;31mNameError\u001b[0m                                 Traceback (most recent call last)",
      "\u001b[0;32m<ipython-input-35-a9d9a053a466>\u001b[0m in \u001b[0;36m<module>\u001b[0;34m\u001b[0m\n\u001b[0;32m----> 1\u001b[0;31m \u001b[0mcity_articles\u001b[0m\u001b[0;34m[\u001b[0m\u001b[0;36m0\u001b[0m\u001b[0;34m]\u001b[0m\u001b[0;34m\u001b[0m\u001b[0;34m\u001b[0m\u001b[0m\n\u001b[0m\u001b[1;32m      2\u001b[0m \u001b[0;34m\u001b[0m\u001b[0m\n\u001b[1;32m      3\u001b[0m \u001b[0mcity_articles\u001b[0m \u001b[0;34m=\u001b[0m \u001b[0;34m[\u001b[0m\u001b[0;34m]\u001b[0m\u001b[0;34m\u001b[0m\u001b[0;34m\u001b[0m\u001b[0m\n\u001b[1;32m      4\u001b[0m \u001b[0;32mfor\u001b[0m \u001b[0mcity\u001b[0m \u001b[0;32min\u001b[0m \u001b[0mpoi_by_city_df\u001b[0m\u001b[0;34m.\u001b[0m\u001b[0mLocation\u001b[0m\u001b[0;34m.\u001b[0m\u001b[0munique\u001b[0m\u001b[0;34m(\u001b[0m\u001b[0;34m)\u001b[0m\u001b[0;34m:\u001b[0m\u001b[0;34m\u001b[0m\u001b[0;34m\u001b[0m\u001b[0m\n\u001b[1;32m      5\u001b[0m     \u001b[0mtmp_article\u001b[0m \u001b[0;34m=\u001b[0m \u001b[0mget_article_content_by_city\u001b[0m\u001b[0;34m(\u001b[0m\u001b[0mcity\u001b[0m\u001b[0;34m,\u001b[0m \u001b[0mpoi_df\u001b[0m\u001b[0;34m)\u001b[0m\u001b[0;34m\u001b[0m\u001b[0;34m\u001b[0m\u001b[0m\n",
      "\u001b[0;31mNameError\u001b[0m: name 'city_articles' is not defined"
     ]
    }
   ],
   "source": [
    "city_articles = []\n",
    "for city in poi_by_city_df.Location.unique():\n",
    "    tmp_article = get_article_content_by_city(city, poi_df)\n",
    "    city_articles.append([city, tmp_article])"
   ]
  },
  {
   "cell_type": "code",
   "execution_count": null,
   "metadata": {},
   "outputs": [],
   "source": [
    "poi_by_city_df.Article_content = city_articles"
   ]
  },
  {
   "cell_type": "code",
   "execution_count": 10,
   "metadata": {},
   "outputs": [],
   "source": [
    "def remove_proper_nouns(raw_text, lower=True):\n",
    "    text = tokenize_text(raw_text, lower=False)\n",
    "    tagged_text = nltk.pos_tag(text)\n",
    "    edited_text = [word for word, tag in tagged_text if tag != 'NNP' and tag != 'NNPS']\n",
    "    output = ' '.join(edited_text)\n",
    "    if lower:\n",
    "        return clean_text(output)\n",
    "    else:\n",
    "        return output"
   ]
  },
  {
   "cell_type": "code",
   "execution_count": 61,
   "metadata": {},
   "outputs": [],
   "source": [
    "fhp_df_f = '%s/federal_historic_places_by_city_for_nlp.xlsx' % (datadir)\n",
    "fhp_df = pd.read_excel(fhp_df_f, index_col=0)\n",
    "#fhp_df = fhp_df.drop_duplicates()\n",
    "#fhp_df.to_excel(fhp_df_f)"
   ]
  },
  {
   "cell_type": "code",
   "execution_count": 62,
   "metadata": {},
   "outputs": [],
   "source": [
    "park_df_f = '%s/parks_by_city_for_nlp.xlsx' % (datadir)\n",
    "park_df = pd.read_excel(park_df_f, index_col=0)\n",
    "#park_df = park_df.drop_duplicates()\n",
    "#park_df.to_excel(park_df_f)"
   ]
  },
  {
   "cell_type": "code",
   "execution_count": 63,
   "metadata": {},
   "outputs": [],
   "source": [
    "museum_df_f = '%s/museums_by_city_for_nlp.xlsx' % (datadir)\n",
    "museum_df = pd.read_excel(museum_df_f, index_col=0)\n",
    "#museum_df = museum_df.drop_duplicates()\n",
    "#museum_df.to_excel(museum_df_f)"
   ]
  },
  {
   "cell_type": "code",
   "execution_count": 64,
   "metadata": {
    "scrolled": true
   },
   "outputs": [
    {
     "name": "stdout",
     "output_type": "stream",
     "text": [
      "(24066, 4)\n"
     ]
    },
    {
     "data": {
      "text/html": [
       "<div>\n",
       "<style scoped>\n",
       "    .dataframe tbody tr th:only-of-type {\n",
       "        vertical-align: middle;\n",
       "    }\n",
       "\n",
       "    .dataframe tbody tr th {\n",
       "        vertical-align: top;\n",
       "    }\n",
       "\n",
       "    .dataframe thead th {\n",
       "        text-align: right;\n",
       "    }\n",
       "</style>\n",
       "<table border=\"1\" class=\"dataframe\">\n",
       "  <thead>\n",
       "    <tr style=\"text-align: right;\">\n",
       "      <th></th>\n",
       "      <th>Name</th>\n",
       "      <th>Location</th>\n",
       "      <th>Article_content</th>\n",
       "      <th>Article_tokens</th>\n",
       "    </tr>\n",
       "  </thead>\n",
       "  <tbody>\n",
       "    <tr>\n",
       "      <th>0</th>\n",
       "      <td>Building 800--Austin Hall</td>\n",
       "      <td>Montgomery, Alabama</td>\n",
       "      <td>Building 800–Austin Hall is located in Montgom...</td>\n",
       "      <td>['building', 'austin', 'hall', 'is', 'located'...</td>\n",
       "    </tr>\n",
       "    <tr>\n",
       "      <th>1</th>\n",
       "      <td>Building 836--Community College of the Air For...</td>\n",
       "      <td>Montgomery, Alabama</td>\n",
       "      <td>Simler Hall (also known as Building 836) is th...</td>\n",
       "      <td>['simler', 'hall', 'also', 'known', 'as', 'bui...</td>\n",
       "    </tr>\n",
       "    <tr>\n",
       "      <th>2</th>\n",
       "      <td>Maxwell Air Force Base Senior Officer's Quarte...</td>\n",
       "      <td>Montgomery, Alabama</td>\n",
       "      <td>The Maxwell Air Force Base Senior Officer's Qu...</td>\n",
       "      <td>['the', 'maxwell', 'air', 'force', 'base', 'se...</td>\n",
       "    </tr>\n",
       "    <tr>\n",
       "      <th>3</th>\n",
       "      <td>Midvale Archeological Site</td>\n",
       "      <td>Chandler, Arizona</td>\n",
       "      <td>This is a list of the National Register of His...</td>\n",
       "      <td>['this', 'is', 'a', 'list', 'of', 'the', 'nati...</td>\n",
       "    </tr>\n",
       "    <tr>\n",
       "      <th>4</th>\n",
       "      <td>Ammo Bunker (S-1007)</td>\n",
       "      <td>Mesa, Arizona</td>\n",
       "      <td>Williams Air Force Base is a former United Sta...</td>\n",
       "      <td>['williams', 'air', 'force', 'base', 'is', 'a'...</td>\n",
       "    </tr>\n",
       "  </tbody>\n",
       "</table>\n",
       "</div>"
      ],
      "text/plain": [
       "                                                Name             Location  \\\n",
       "0                          Building 800--Austin Hall  Montgomery, Alabama   \n",
       "1  Building 836--Community College of the Air For...  Montgomery, Alabama   \n",
       "2  Maxwell Air Force Base Senior Officer's Quarte...  Montgomery, Alabama   \n",
       "3                         Midvale Archeological Site    Chandler, Arizona   \n",
       "4                               Ammo Bunker (S-1007)        Mesa, Arizona   \n",
       "\n",
       "                                     Article_content  \\\n",
       "0  Building 800–Austin Hall is located in Montgom...   \n",
       "1  Simler Hall (also known as Building 836) is th...   \n",
       "2  The Maxwell Air Force Base Senior Officer's Qu...   \n",
       "3  This is a list of the National Register of His...   \n",
       "4  Williams Air Force Base is a former United Sta...   \n",
       "\n",
       "                                      Article_tokens  \n",
       "0  ['building', 'austin', 'hall', 'is', 'located'...  \n",
       "1  ['simler', 'hall', 'also', 'known', 'as', 'bui...  \n",
       "2  ['the', 'maxwell', 'air', 'force', 'base', 'se...  \n",
       "3  ['this', 'is', 'a', 'list', 'of', 'the', 'nati...  \n",
       "4  ['williams', 'air', 'force', 'base', 'is', 'a'...  "
      ]
     },
     "execution_count": 64,
     "metadata": {},
     "output_type": "execute_result"
    }
   ],
   "source": [
    "poi_df = pd.concat([fhp_df, park_df, museum_df])\n",
    "#poi_df  = poi_df.reset_index()\n",
    "print(poi_df.shape)\n",
    "poi_df.head()"
   ]
  },
  {
   "cell_type": "code",
   "execution_count": 194,
   "metadata": {},
   "outputs": [],
   "source": [
    "rm_inds = []\n",
    "for i, text in enumerate(poi_df.Article_content):\n",
    "    try:\n",
    "        if 'This list of' in text[:12]:\n",
    "            rm_inds.append(i)\n",
    "        elif 'This is a list of' in text[:17]:\n",
    "            rm_inds.append(i)\n",
    "        elif 'An ' == text[:3]:\n",
    "            check_inds.append(i)\n",
    "        elif 'A ' == text[:2]:\n",
    "            check_inds.append(i)\n",
    "    except:\n",
    "        continue"
   ]
  },
  {
   "cell_type": "code",
   "execution_count": 195,
   "metadata": {},
   "outputs": [],
   "source": [
    "poi_df.Article_content.iloc[rm_inds] = ''\n",
    "poi_df.Article_tokens.iloc[rm_inds] = ''"
   ]
  },
  {
   "cell_type": "code",
   "execution_count": 198,
   "metadata": {
    "scrolled": false
   },
   "outputs": [
    {
     "name": "stdout",
     "output_type": "stream",
     "text": [
      "0\n",
      "500\n",
      "1000\n",
      "1500\n",
      "2000\n",
      "2500\n",
      "3000\n",
      "3500\n",
      "4000\n",
      "4500\n",
      "5000\n",
      "5500\n",
      "6000\n",
      "6500\n",
      "7000\n",
      "7500\n",
      "8000\n",
      "8500\n",
      "9000\n",
      "9500\n"
     ]
    }
   ],
   "source": [
    "cities = poi_df.Location.unique()\n",
    "article_content_by_city = []\n",
    "for i, city in enumerate(cities):\n",
    "    if i % 500 == 0:\n",
    "        print(i)\n",
    "    content = get_article_content_by_city(city, poi_df, lower=False)\n",
    "    article_content_by_city.append([city, content])"
   ]
  },
  {
   "cell_type": "code",
   "execution_count": 204,
   "metadata": {},
   "outputs": [],
   "source": [
    "poi_by_city_df = pd.DataFrame(np.array([cities, article_content_by_city]).T, columns=['Location', 'Article_content'])\n",
    "#poi_by_city_df.to_csv(poi_by_city_df_f)"
   ]
  },
  {
   "cell_type": "markdown",
   "metadata": {},
   "source": [
    "### Article content"
   ]
  },
  {
   "cell_type": "code",
   "execution_count": 155,
   "metadata": {
    "scrolled": true
   },
   "outputs": [
    {
     "name": "stdout",
     "output_type": "stream",
     "text": [
      "0 Montgomery, Alabama\n",
      "500 Moneta, Wyoming\n",
      "1000 Matinicus Island, Maine\n",
      "1500 Chelan, Washington\n",
      "2000 Pipestone, Minnesota\n",
      "2500 Garrett, Indiana\n",
      "3000 Mercersburg, Pennsylvania\n",
      "3500 Sebring, Florida\n",
      "4000 Wildwood, Missouri\n",
      "4500 Antimony, Utah\n",
      "5000 Salem, Connecticut\n",
      "5500 Rossville, Illinois\n",
      "6000 Carrollton, Kentucky\n",
      "6500 Portage, Michigan\n",
      "7000 Mexico, Missouri\n",
      "7500 Southampton, New Jersey\n",
      "8000 Mount Olive, North Carolina\n",
      "8500 Confederated Tribesof Grand Ronde, Oregon\n",
      "9000 Ethridge, Tennessee\n",
      "9500 Bedford, Virginia\n"
     ]
    }
   ],
   "source": [
    "nonnp_article_content_by_city = []\n",
    "for i, city in enumerate(poi_by_city_df.Location):\n",
    "    if i % 500 == 0:\n",
    "        print(i, city)\n",
    "    content = poi_by_city_df.Article_content.iloc[i]\n",
    "    nonnp_content = remove_proper_nouns(content)\n",
    "    nonnp_article_content_by_city.append([city, nonnp_content])"
   ]
  },
  {
   "cell_type": "markdown",
   "metadata": {},
   "source": [
    "## Federal historic landmarks"
   ]
  },
  {
   "cell_type": "markdown",
   "metadata": {},
   "source": [
    "### By city"
   ]
  },
  {
   "cell_type": "code",
   "execution_count": 35,
   "metadata": {},
   "outputs": [],
   "source": [
    "fhp_df = fhp_df.fillna('')"
   ]
  },
  {
   "cell_type": "code",
   "execution_count": 19,
   "metadata": {},
   "outputs": [],
   "source": [
    "#fhp_cities = fhp_df.Location.unique()"
   ]
  },
  {
   "cell_type": "markdown",
   "metadata": {},
   "source": [
    "~~~\n",
    "article_content_by_city = []\n",
    "for city in fhp_cities:\n",
    "    content = get_article_content_by_city(city, fhp_df)\n",
    "    article_content_by_city.append([city, content])\n",
    "~~~"
   ]
  },
  {
   "cell_type": "code",
   "execution_count": 38,
   "metadata": {},
   "outputs": [],
   "source": [
    "fhp_df = tokenize_text_from_df(fhp_df)"
   ]
  },
  {
   "cell_type": "code",
   "execution_count": 40,
   "metadata": {},
   "outputs": [
    {
     "data": {
      "text/html": [
       "<div>\n",
       "<style scoped>\n",
       "    .dataframe tbody tr th:only-of-type {\n",
       "        vertical-align: middle;\n",
       "    }\n",
       "\n",
       "    .dataframe tbody tr th {\n",
       "        vertical-align: top;\n",
       "    }\n",
       "\n",
       "    .dataframe thead th {\n",
       "        text-align: right;\n",
       "    }\n",
       "</style>\n",
       "<table border=\"1\" class=\"dataframe\">\n",
       "  <thead>\n",
       "    <tr style=\"text-align: right;\">\n",
       "      <th></th>\n",
       "      <th>Name</th>\n",
       "      <th>Location</th>\n",
       "      <th>Article_content</th>\n",
       "      <th>Article_tokens</th>\n",
       "    </tr>\n",
       "  </thead>\n",
       "  <tbody>\n",
       "    <tr>\n",
       "      <th>0</th>\n",
       "      <td>Building 800--Austin Hall</td>\n",
       "      <td>Montgomery, Alabama</td>\n",
       "      <td>Building 800–Austin Hall is located in Montgom...</td>\n",
       "      <td>[building, austin, hall, is, located, in, mont...</td>\n",
       "    </tr>\n",
       "    <tr>\n",
       "      <th>1</th>\n",
       "      <td>Building 836--Community College of the Air For...</td>\n",
       "      <td>Montgomery, Alabama</td>\n",
       "      <td>Simler Hall (also known as Building 836) is th...</td>\n",
       "      <td>[simler, hall, also, known, as, building, is, ...</td>\n",
       "    </tr>\n",
       "    <tr>\n",
       "      <th>2</th>\n",
       "      <td>Maxwell Air Force Base Senior Officer's Quarte...</td>\n",
       "      <td>Montgomery, Alabama</td>\n",
       "      <td>The Maxwell Air Force Base Senior Officer's Qu...</td>\n",
       "      <td>[the, maxwell, air, force, base, senior, offic...</td>\n",
       "    </tr>\n",
       "    <tr>\n",
       "      <th>3</th>\n",
       "      <td>Midvale Archeological Site</td>\n",
       "      <td>Chandler, Arizona</td>\n",
       "      <td>This is a list of the National Register of His...</td>\n",
       "      <td>[this, is, a, list, of, the, national, registe...</td>\n",
       "    </tr>\n",
       "    <tr>\n",
       "      <th>4</th>\n",
       "      <td>Ammo Bunker (S-1007)</td>\n",
       "      <td>Mesa, Arizona</td>\n",
       "      <td>Williams Air Force Base is a former United Sta...</td>\n",
       "      <td>[williams, air, force, base, is, a, former, un...</td>\n",
       "    </tr>\n",
       "  </tbody>\n",
       "</table>\n",
       "</div>"
      ],
      "text/plain": [
       "                                                Name             Location  \\\n",
       "0                          Building 800--Austin Hall  Montgomery, Alabama   \n",
       "1  Building 836--Community College of the Air For...  Montgomery, Alabama   \n",
       "2  Maxwell Air Force Base Senior Officer's Quarte...  Montgomery, Alabama   \n",
       "3                         Midvale Archeological Site    Chandler, Arizona   \n",
       "4                               Ammo Bunker (S-1007)        Mesa, Arizona   \n",
       "\n",
       "                                     Article_content  \\\n",
       "0  Building 800–Austin Hall is located in Montgom...   \n",
       "1  Simler Hall (also known as Building 836) is th...   \n",
       "2  The Maxwell Air Force Base Senior Officer's Qu...   \n",
       "3  This is a list of the National Register of His...   \n",
       "4  Williams Air Force Base is a former United Sta...   \n",
       "\n",
       "                                      Article_tokens  \n",
       "0  [building, austin, hall, is, located, in, mont...  \n",
       "1  [simler, hall, also, known, as, building, is, ...  \n",
       "2  [the, maxwell, air, force, base, senior, offic...  \n",
       "3  [this, is, a, list, of, the, national, registe...  \n",
       "4  [williams, air, force, base, is, a, former, un...  "
      ]
     },
     "execution_count": 40,
     "metadata": {},
     "output_type": "execute_result"
    }
   ],
   "source": [
    "fhp_df.head()"
   ]
  },
  {
   "cell_type": "code",
   "execution_count": 42,
   "metadata": {},
   "outputs": [],
   "source": [
    "fhp_df.to_excel('%s/federal_historic_places_by_city_for_nlp.xlsx' % (datadir))"
   ]
  },
  {
   "cell_type": "markdown",
   "metadata": {},
   "source": [
    "## Parks"
   ]
  },
  {
   "cell_type": "code",
   "execution_count": 49,
   "metadata": {},
   "outputs": [],
   "source": [
    "park_df = park_df[['Park', 'Location', 'Article_content', 'Article_tokens']]\n",
    "park_df.columns = ['Name', 'Location', 'Article_content', 'Article_tokens']\n",
    "park_df.to_excel('%s/parks_by_city_for_nlp.xlsx' % (datadir))"
   ]
  },
  {
   "cell_type": "code",
   "execution_count": 5,
   "metadata": {},
   "outputs": [
    {
     "data": {
      "text/plain": [
       "array([\"['the', 'tuskegee', 'national', 'forest', 'is', 'a', 'u', 's', 'national', 'forest', 'located', 'in', 'macon', 'county', 'alabama', 'just', 'north', 'of', 'tuskegee', 'and', 'west', 'of', 'auburn', 'the', 'topography', 'is', 'level', 'to', 'moderately', 'sloping', 'with', 'broad', 'ridges', 'with', 'stream', 'terraces', 'and', 'broad', 'floodplains', 'tuskegee', 'national', 'forest', 'is', 'the', 'smallest', 'national', 'forest', 'in', 'the', 'u', 's', 'and', 'one', 'of', 'only', 'six', 'that', 'is', 'contained', 'entirely', 'within', 'a', 'single', 'county', 'but', 'supports', 'many', 'outdoor', 'activities', 'the', 'forest', 'is', 'headquartered', 'in', 'montgomery', 'as', 'are', 'all', 'four', 'of', 'alabama', 's', 'national', 'forests', 'the', 'other', 'national', 'forests', 'in', 'the', 'state', 'are', 'conecuh', 'talladega', 'and', 'william', 'b', 'bankhead', 'there', 'are', 'local', 'ranger', 'district', 'offices', 'located', 'in', 'tuskegee', 'outdoor', 'activities', 'there', 'are', 'four', 'main', 'hiking', 'trails', 'within', 'the', 'national', 'forest', 'and', 'three', 'of', 'these', 'are', 'also', 'mountain', 'biking', 'trails', 'there', 'are', 'also', 'horse', 'trails', 'two', 'fish', 'ponds', 'the', 'uchee', 'shooting', 'range', 'tsinia', 'wildlife', 'viewing', 'area', 'primitive', 'camping', 'and', 'the', 'taska', 'recreation', 'area', 'references', 'external', 'links', 'official', 'website', 'map', 'highlighting', 'the', 'national', 'forest', 's', 'boundaries', 'local', 'group', 's', 'critical', 'assessment', 'of', 'forest', 'management']\"],\n",
       "      dtype=object)"
      ]
     },
     "execution_count": 5,
     "metadata": {},
     "output_type": "execute_result"
    }
   ],
   "source": [
    "park_df.loc[park_df.Park == 'Tuskegee National Forest'].Article_tokens.values"
   ]
  },
  {
   "cell_type": "code",
   "execution_count": 6,
   "metadata": {},
   "outputs": [
    {
     "data": {
      "text/plain": [
       "3451"
      ]
     },
     "execution_count": 6,
     "metadata": {},
     "output_type": "execute_result"
    }
   ],
   "source": [
    "park_line_list = []\n",
    "for line in park_df['Article_tokens']:\n",
    "    try:\n",
    "        line = literal_eval(line)\n",
    "        park_line_list.append(line)\n",
    "    except:\n",
    "        continue\n",
    "len(park_line_list)"
   ]
  },
  {
   "cell_type": "code",
   "execution_count": 7,
   "metadata": {},
   "outputs": [],
   "source": [
    "park_dictionary = corpora.Dictionary(park_line_list)"
   ]
  },
  {
   "cell_type": "code",
   "execution_count": 8,
   "metadata": {},
   "outputs": [],
   "source": [
    "once_ids = [tokenid for tokenid, docfreq in park_dictionary.dfs.items() if docfreq == 1]\n",
    "park_dictionary.filter_tokens(once_ids)\n",
    "park_dictionary.compactify()"
   ]
  },
  {
   "cell_type": "markdown",
   "metadata": {},
   "source": [
    "Create a sparse vector of integer words ids to word counts for each museum and a TF-IDF model (i.e. term frequency–inverse document frequency). The TF-IDF model converts raw word counts to a value reflecting the importance of each word given the corpus."
   ]
  },
  {
   "cell_type": "code",
   "execution_count": 10,
   "metadata": {},
   "outputs": [
    {
     "name": "stderr",
     "output_type": "stream",
     "text": [
      "/Users/klarnemann/anaconda3/lib/python3.7/site-packages/smart_open/smart_open_lib.py:398: UserWarning: This function is deprecated, use smart_open.open instead. See the migration notes for details: https://github.com/RaRe-Technologies/smart_open/blob/master/README.rst#migrating-to-the-new-open-function\n",
      "  'See the migration notes for details: %s' % _MIGRATION_NOTES_URL\n"
     ]
    }
   ],
   "source": [
    "park_corpus = [park_dictionary.doc2bow(words) for words in park_line_list]\n",
    "corpora.mmcorpus.MmCorpus.serialize('%s/wiki_museums.mm' % (datadir), park_corpus)\n",
    "park_tfidf = models.TfidfModel(park_corpus)"
   ]
  },
  {
   "cell_type": "code",
   "execution_count": 12,
   "metadata": {},
   "outputs": [
    {
     "name": "stderr",
     "output_type": "stream",
     "text": [
      "/Users/klarnemann/anaconda3/lib/python3.7/site-packages/smart_open/smart_open_lib.py:398: UserWarning: This function is deprecated, use smart_open.open instead. See the migration notes for details: https://github.com/RaRe-Technologies/smart_open/blob/master/README.rst#migrating-to-the-new-open-function\n",
      "  'See the migration notes for details: %s' % _MIGRATION_NOTES_URL\n",
      "/Users/klarnemann/anaconda3/lib/python3.7/site-packages/smart_open/smart_open_lib.py:398: UserWarning: This function is deprecated, use smart_open.open instead. See the migration notes for details: https://github.com/RaRe-Technologies/smart_open/blob/master/README.rst#migrating-to-the-new-open-function\n",
      "  'See the migration notes for details: %s' % _MIGRATION_NOTES_URL\n"
     ]
    }
   ],
   "source": [
    "park_lsi = models.lsimodel.LsiModel(corpus=park_tfidf[park_corpus], id2word=park_dictionary)\n",
    "park_lsi.save('%s/wiki_museums.lsi' % (datadir))"
   ]
  },
  {
   "cell_type": "code",
   "execution_count": 13,
   "metadata": {
    "scrolled": true
   },
   "outputs": [
    {
     "name": "stdout",
     "output_type": "stream",
     "text": [
      "Topic 0:\n",
      "(0, '0.303*\"refuge\" + 0.195*\"forest\" + 0.152*\"wildlife\" + 0.142*\"lake\" + 0.127*\"national\" + 0.111*\"park\" + 0.100*\"island\" + 0.089*\"fort\" + 0.086*\"river\" + 0.084*\"creek\"')\n",
      "\n",
      "Topic 1:\n",
      "(1, '-0.742*\"refuge\" + -0.265*\"wildlife\" + 0.154*\"forest\" + 0.094*\"park\" + -0.089*\"habitat\" + 0.084*\"fort\" + -0.077*\"birds\" + -0.074*\"waterfowl\" + -0.070*\"species\" + -0.068*\"fish\"')\n",
      "\n",
      "Topic 2:\n",
      "(2, '-0.618*\"forest\" + 0.381*\"fort\" + 0.181*\"oregon\" + -0.164*\"wilderness\" + 0.148*\"island\" + -0.126*\"forests\" + 0.109*\"beach\" + 0.104*\"washington\" + 0.096*\"columbia\" + -0.093*\"connecticut\"')\n",
      "\n",
      "Topic 3:\n",
      "(3, '-0.513*\"oregon\" + -0.359*\"fort\" + -0.339*\"forest\" + -0.168*\"columbia\" + -0.168*\"retrieved\" + 0.164*\"lake\" + -0.132*\"national\" + -0.120*\"wilderness\" + -0.120*\"clark\" + -0.111*\"lewis\"')\n",
      "\n",
      "Topic 4:\n",
      "(4, '-0.553*\"oregon\" + 0.521*\"fort\" + -0.129*\"lake\" + -0.128*\"illinois\" + 0.120*\"forest\" + -0.110*\"recreation\" + -0.108*\"retrieved\" + -0.107*\"parks\" + -0.096*\"department\" + -0.093*\"administered\"')\n",
      "\n"
     ]
    }
   ],
   "source": [
    "for i, topic in enumerate(park_lsi.print_topics(5)[:5]):\n",
    "    print('Topic {}:'.format(i))\n",
    "    print(topic)\n",
    "    print('')"
   ]
  },
  {
   "cell_type": "code",
   "execution_count": 15,
   "metadata": {},
   "outputs": [],
   "source": [
    "park_matsim = similarities.MatrixSimilarity(park_lsi[park_tfidf[park_corpus]], num_best=10)"
   ]
  },
  {
   "cell_type": "code",
   "execution_count": 16,
   "metadata": {},
   "outputs": [],
   "source": [
    "parks = list(park_df.Park.values)"
   ]
  },
  {
   "cell_type": "code",
   "execution_count": 17,
   "metadata": {},
   "outputs": [
    {
     "name": "stdout",
     "output_type": "stream",
     "text": [
      "Bladon Springs State Park\n",
      "\tEmerald Lake State Park|0.67\n",
      "\tStephens State Park|0.65\n",
      "\tWilmington State Park|0.65\n",
      "\tTable Rock State Park|0.62\n",
      "\tOld Santee Canal State Park|0.62\n",
      "\tCloudland Canyon State Park|0.61\n",
      "\tGeneral Coffee State Park|0.61\n",
      "\tOcala National Forest|0.61\n",
      "\tMonte Sano State Park|0.59\n",
      "Cockaponset State Forest\n",
      "\tBlue Springs State Park|1.00\n",
      "\tCharlotte Harbor State Park|0.80\n",
      "\tCedar Key Museum State Park|0.79\n",
      "\tCaladesi Island State Park|0.77\n",
      "\tBlackwater River State Park|0.77\n",
      "\tGasparilla Island State Park|0.63\n",
      "\tKillens Pond State Park|0.59\n",
      "\tGrayton Beach State Park|0.56\n",
      "\tFort George Island Cultural State Park|0.56\n",
      "Chattahoochee State Park\n",
      "\tWind Creek State Park|0.83\n",
      "\tLake Lurleen State Park|0.83\n",
      "\tMonte Sano State Park|0.80\n",
      "\tChewacla State Park|0.78\n",
      "\tDe Soto State Park|0.73\n",
      "\tRoland Cooper State Park|0.73\n",
      "\tLittle River State Forest|0.73\n",
      "\tCheaha State Park|0.73\n",
      "\tPaul M Grist State Park|0.71\n",
      "Cheaha State Park\n",
      "\tCheaha State Park|1.00\n",
      "\tWheeler National Wildlife Refuge|1.00\n",
      "\tCheaha State Park|1.00\n",
      "\tTalladega National Forest|0.67\n",
      "\tMonte Sano State Park|0.52\n",
      "\tWeogufka State Forest|0.52\n",
      "\tWind Creek State Park|0.43\n",
      "\tLake Lurleen State Park|0.39\n",
      "\tDe Soto State Park|0.39\n",
      "Chewacla State Park\n",
      "\tChattahoochee State Park|0.78\n",
      "\tMonte Sano State Park|0.74\n",
      "\tWind Creek State Park|0.74\n",
      "\tPaul M Grist State Park|0.73\n",
      "\tLake Lurleen State Park|0.72\n",
      "\tLittle River State Forest|0.60\n",
      "\tCheaha State Park|0.60\n",
      "\tDe Soto State Park|0.56\n",
      "\tJoe Wheeler State Park|0.56\n"
     ]
    }
   ],
   "source": [
    "for sims in list(park_matsim)[:5]:\n",
    "    index = sims[0][0]\n",
    "    print(parks[index])\n",
    "    for other_index, score in sims[1:]:\n",
    "        print('\\t%s|%.2f' % (parks[other_index], score))"
   ]
  },
  {
   "cell_type": "markdown",
   "metadata": {},
   "source": [
    "## Wiki museums"
   ]
  },
  {
   "cell_type": "code",
   "execution_count": 36,
   "metadata": {},
   "outputs": [
    {
     "data": {
      "text/plain": [
       "5769"
      ]
     },
     "execution_count": 36,
     "metadata": {},
     "output_type": "execute_result"
    }
   ],
   "source": [
    "len(wiki_museum_df.City.unique())"
   ]
  },
  {
   "cell_type": "code",
   "execution_count": 35,
   "metadata": {},
   "outputs": [
    {
     "data": {
      "text/plain": [
       "array(['Law', 'Art', 'Living history', 'History', 'Historic house',\n",
       "       'Radio', 'Music', 'Industry', 'Medical', 'Natural history',\n",
       "       'Multiple', 'Sports', 'Capitol', 'Military', 'Mining',\n",
       "       'Local history', 'Religious', 'Automotive',\n",
       "       'History\\xa0/ African\\xa0American', 'Railroad', 'Decorative arts',\n",
       "       'African\\xa0American', \"Children's\", 'Biographical', 'Science',\n",
       "       'Native\\xa0American', 'Transportation',\n",
       "       'Sports /History\\xa0/ African\\xa0American', 'Native American',\n",
       "       'Open-air', 'Firefighting', 'website', 'Aviation', 'Aerospace',\n",
       "       'Alaskan Native', 'Law enforcement', \"Alaska's Military History\",\n",
       "       'Technology', 'Maritime', 'History - Local',\n",
       "       'Ethnic - Native American', 'Toy', 'Scouting', 'Archaeology',\n",
       "       'Hall of fame - Sports', 'Geology', 'History / Geology', 'Jewish',\n",
       "       'American West', 'Prison', 'School', 'Anthropology', 'Automobile',\n",
       "       'Doll', 'Military - United States', 'History - local',\n",
       "       'Philatelic', 'Farm', 'Art/History', 'Literary',\n",
       "       'Hall of fame - Entertainers', 'Industry - Wine making',\n",
       "       'Industry - Petroleum', 'Historic house - Biographical',\n",
       "       'Geology - Gems', 'Commodity - Airguns', 'Nature center',\n",
       "       'African American', 'Fashion', 'Railroad - Trolley', 'Commodity',\n",
       "       'Media', 'Historic house - History', 'Historic site', 'Ethnic',\n",
       "       'Wax museum', 'Civil War', 'Automobile racing - Biography',\n",
       "       'Ethnic - African American', 'Transportation - Automobiles',\n",
       "       'Agriculture', 'Military - Civil War', \"Children's, science\",\n",
       "       'Archaeology - Native American', 'Historic store', 'Open air',\n",
       "       'Mill', 'Local History', 'Ethnic - Chinese', 'Living', 'Design',\n",
       "       'Numismatic', 'History Museum', 'Railway', 'Children',\n",
       "       'Natural History', 'Veterans', 'Telecommunicatios', 'Textile',\n",
       "       'Education', 'Space and Science', 'Historic building', 'Local',\n",
       "       'Horology', 'Puppetry', 'Farming', 'Craft', 'Natural', 'Library',\n",
       "       'Hall of fame - sports', 'Industry - glass', 'Ethnic - Jewish',\n",
       "       'Jail museum', 'Historic tavern', \"Historic artist's studio\",\n",
       "       'Lighthouse', 'History / Commodity - tools', 'Community art',\n",
       "       'History / Natural history', 'Mansion', 'Historic houses',\n",
       "       'Haitian art', 'Ethnic-Native American', 'Ethnic-African American',\n",
       "       'Multi', 'Architecture', 'Ethnic-Jewish', 'Industrial',\n",
       "       'Historic House', 'Ethnic-Haitian', 'History & Science',\n",
       "       'Ethnic-African-American', 'Ethnic-Japanese', 'Cinema',\n",
       "       'Photography', 'Local & Natural History', 'Miscellaneous', 'Wax',\n",
       "       'Knives', 'Ethnic-Cuban', 'History / African American',\n",
       "       'Archaeological', 'Industry - Cotton', 'Science and history',\n",
       "       'Car Museum', 'Automotive Museum', 'Culture', 'Oddities',\n",
       "       'Natural history/Science', 'Food', 'US Military', 'Astronomy', nan,\n",
       "       'Ethnic - Basque-American', 'Toy / collectibles',\n",
       "       'Industry - mining', 'Industry - mining / science - geology',\n",
       "       'Food - Potato', 'Industry - Timber', 'Industry - prostitution',\n",
       "       'Biography', 'Ethnic - Native American / geology', 'Entertainment',\n",
       "       'Decorative art', 'Cultural', 'Archeology', 'African-American',\n",
       "       'Institutional Educational History', 'Sex', 'Other',\n",
       "       'Hall of fame', 'Aquarium', 'Art, Science & Humanities', 'Arcade',\n",
       "       'Circus', 'Glass', 'Museum', 'Jail', 'Autombile', 'Tractor',\n",
       "       'Aviation & Transportation', 'Forestry', 'Theatre', 'Amusement',\n",
       "       'Unsung Hero History', 'Fort', 'Puppet', 'Historical house',\n",
       "       'Brand History', 'Religion', 'Collectibles', 'Historical society',\n",
       "       'Fire', 'Collectible', 'Anthropological', 'Transportation - Canal',\n",
       "       'Blacksmith', 'County history, genealogy resources',\n",
       "       'Regional Jewish History', 'State capitol', 'Language', 'Church',\n",
       "       'Computer', 'Heritage railways', 'Military history', 'Collection',\n",
       "       'Tavern', \"Children's, Science\", 'Paleontology', 'Pirate',\n",
       "       'Historic church', \"Women's\", 'Magic', 'Ephemera',\n",
       "       'Industry - Mining', 'Presidential library',\n",
       "       'Transportation - Aviation', 'Industry - Logging', 'Store',\n",
       "       'Masonic', 'Transportation - Railroad', 'Museum ship',\n",
       "       'Agriculture, open-air', 'Industry - Fishing',\n",
       "       'Local history, open-air', 'Industry, local history', 'Novelty',\n",
       "       'Americana', 'Agricultural, historic house', 'Agricultural',\n",
       "       'Historic house, school', 'House museum',\n",
       "       'Agricultural, living history', 'Local history, sports',\n",
       "       'Industry, maritime', 'Pottery', 'Local history, historic house',\n",
       "       'Ethnic - African American / Military',\n",
       "       'Biographical, Blues - Music', 'Transportation - Motorcycles',\n",
       "       'Commodity - Coca Cola', 'Music - Blues',\n",
       "       'Music - Blues / Biography', 'Industry - Maritime', 'Civil rights',\n",
       "       'Model railroad', 'Music - Blues / Historic house',\n",
       "       'Hall of fame - Music', \"Music - Blues and Rock 'n' Roll\",\n",
       "       'Military / Maritime', 'Ship museum', 'History - Medical',\n",
       "       'Police', 'Historic Landmark', 'History / Transportation',\n",
       "       'Local history, Natural history', 'Sports - Fly fishing', 'West',\n",
       "       'Transportation - Automobile', 'Hall of fame - Cowboys',\n",
       "       'Art / Culture', 'Native American and History',\n",
       "       'Agriculture and local history', 'State History',\n",
       "       'Art, Local History', 'Erotica', 'Fire fighting',\n",
       "       'Industry - Gambling', 'Air and space science', 'Sports - Skiing',\n",
       "       'Science center', 'Transportation - Aerospace', 'Museum Ship',\n",
       "       'Ethnic - Hungarian', 'Odditorium', 'Vietnam War',\n",
       "       'Art, Local history', 'Radiologic technology', 'Holocaust',\n",
       "       'Industry - Maple', 'Judaica', 'Transportation - Motorcycle',\n",
       "       'Industry - Iron works', 'Historic camp', 'Historic',\n",
       "       'Transportation - Canals', 'Regional history and culture',\n",
       "       'Historic house - Fort', 'Industry - Glass', 'Sculpture park',\n",
       "       'Hall of Fame - music', 'Carrousel', 'Hall of Fame - sports',\n",
       "       'Ethnic - Irish American', 'Industry - Iron', 'Industry - Food',\n",
       "       'art', 'Military Heritage', 'Industry - Bottle making', 'Comedy',\n",
       "       'Dance', 'Hall of fame - women', 'Industry - Ironworking',\n",
       "       'Industry - Oil', 'Firearms', 'Industry - salt', 'Medicine',\n",
       "       'Industry - Slate Quarrying', 'Creationist', 'Motorcycle',\n",
       "       'Telephone', 'Railroad/Mining', 'Christmas museum',\n",
       "       'Art - Pottery', 'Peace', 'Art - Decorative arts', 'Postal',\n",
       "       'Ethnic - Finnish American', 'Local history, art', 'Religious Art',\n",
       "       'Hall of fame - Aviation - Military',\n",
       "       'Commodity - Covered bridges', 'Hall of fame - Dance - Polka',\n",
       "       'Hall of fame - Sports - Football', 'Art museum', 'Historic bank',\n",
       "       'Hall of fame\\xa0— Sports', 'Weapons', 'Natural & Local history',\n",
       "       'Poetry', 'Zoo', 'Wichita and Affiliated Tribes',\n",
       "       'Local History and Genealogy', 'Commodity - Carousel',\n",
       "       'Railroad / Machinery', 'Transportation - Trolley',\n",
       "       'History / Farm implements', 'History - Local / Natural history',\n",
       "       'Railroad / History - Local', 'Historic house / Toys',\n",
       "       'Ethnic - Chinese American / Railroad',\n",
       "       'History - Local / Regional', 'History - Local / Railroad',\n",
       "       'Natural history / History - Local', 'Aviation / Aerospace museum',\n",
       "       'Art - Western / Ethnic - Native American', 'Open-air museum',\n",
       "       'History - Local / Ethnic - Native American',\n",
       "       'Historic house - Farmstead', 'Natural history - Maritime',\n",
       "       'Natural history - Arctic', 'Art - Contemporary', 'Art - Quilts',\n",
       "       'Media - Newspaper', 'Historic building - Church', 'Film',\n",
       "       'Hall of fame - Rodeo', 'Commodity - Telephone',\n",
       "       'Oregon Trail / House museum /',\n",
       "       \"Children's / Science - Science center\", 'Industry/ State History',\n",
       "       \"Children's / History - Local\", 'Natural history / History',\n",
       "       'Aviation / Automobile', 'Industry - Steel',\n",
       "       'Transportation - Automotive', 'Industry - Coal',\n",
       "       'Industry - Beer', 'Presidential home',\n",
       "       'Local history and culture', 'American History',\n",
       "       'Archaeological site, open air', 'Natural history, Science',\n",
       "       'Weaponry', 'Industry - Lumber', 'Outsider Art',\n",
       "       'Industry - steel', 'Historic inn', 'Music, Art', 'History Local',\n",
       "       'Firefighters', 'Patamechanics', 'Archaeology / Anthropology',\n",
       "       'Historic Technology',\n",
       "       'Local, regional, and statewide African American and Cultural History',\n",
       "       'African American History', \"Children's Museum\",\n",
       "       'Hall of fame - History', 'Crime museum',\n",
       "       'Commodity - Dragon-themed items', 'Industry - Textile',\n",
       "       'Fort - Civil War', 'Music - Rock-a-billy',\n",
       "       'Railroad and Trolley History', \"Music - Rock 'n' Roll\",\n",
       "       'Commodity - Salt and pepper shakers', 'Art; local history',\n",
       "       'Music - Industry', 'Equestrian', 'Commodity - Teapot',\n",
       "       'Historic house, music history', 'Texas history',\n",
       "       'Art, Natural History', 'Theater', 'African America',\n",
       "       'Architectural Style', 'Horology Measurement Mathematics',\n",
       "       'Historical', 'Dolls', 'Modern art[84]', 'Professional wrestling',\n",
       "       \"Women's history\", 'Western', 'Texas Gulf Coast',\n",
       "       'Telecommunications', 'Horse', 'Texas culture and history',\n",
       "       'Native Americans', 'Environment', 'Puppets',\n",
       "       'Organ Manufacturing', 'Art, Anthropology',\n",
       "       'Sculpture, Modern Art, Painting', 'Parade floats',\n",
       "       'Religious - Jewish', 'Espionage', 'Money', 'Historic farm',\n",
       "       'Presidential memorial', 'Industry - coal', 'Presidential',\n",
       "       'Industry - gold mining', 'Industry - Banking', 'Schoolhouse',\n",
       "       'Industry - Tobacco', 'Hall of Fame - Sports', 'Contemporary Arts',\n",
       "       'Fort - Living history', 'History - Living history',\n",
       "       'History - Natural', 'Commodity - Nutcracker', 'History / Art',\n",
       "       'Transportation - Carriage',\n",
       "       'Living history - Farm - Native American', 'Living history - Farm',\n",
       "       'Natural history / Aquarium', 'Commodity - Angel-themed items',\n",
       "       'Transportation, Toy', 'Industry - Logging, quarry',\n",
       "       'Industry - Printing', 'Beverage', 'Food - Honey',\n",
       "       'Hall of fame - Clowns', 'Toy - Toy railroads, dolls',\n",
       "       'Commodity - Beer', 'Industry - Cheese',\n",
       "       'Hall of fame - Midget auto racing', 'Food - Mustard',\n",
       "       'History house', 'Firefighting/Police', 'Industry - Paper',\n",
       "       'Industry - Beer brewing', 'Commodity - Bells', 'Toy - Dolls',\n",
       "       'Hall of fame - Snowmobiling', 'Ship', 'History - Old West',\n",
       "       'Sports - Bow hunting', 'Art - Sculpture park', 'Textiles',\n",
       "       'History, geology'], dtype=object)"
      ]
     },
     "execution_count": 35,
     "metadata": {},
     "output_type": "execute_result"
    }
   ],
   "source": [
    "wiki_museum_df.Category.unique()"
   ]
  },
  {
   "cell_type": "code",
   "execution_count": 32,
   "metadata": {},
   "outputs": [
    {
     "data": {
      "text/html": [
       "<div>\n",
       "<style scoped>\n",
       "    .dataframe tbody tr th:only-of-type {\n",
       "        vertical-align: middle;\n",
       "    }\n",
       "\n",
       "    .dataframe tbody tr th {\n",
       "        vertical-align: top;\n",
       "    }\n",
       "\n",
       "    .dataframe thead th {\n",
       "        text-align: right;\n",
       "    }\n",
       "</style>\n",
       "<table border=\"1\" class=\"dataframe\">\n",
       "  <thead>\n",
       "    <tr style=\"text-align: right;\">\n",
       "      <th></th>\n",
       "      <th>Name</th>\n",
       "      <th>Category</th>\n",
       "      <th>City</th>\n",
       "      <th>State</th>\n",
       "      <th>Article_content</th>\n",
       "      <th>Region</th>\n",
       "      <th>County</th>\n",
       "      <th>Summary</th>\n",
       "      <th>Notes</th>\n",
       "      <th>Article_tokens</th>\n",
       "    </tr>\n",
       "  </thead>\n",
       "  <tbody>\n",
       "    <tr>\n",
       "      <th>0</th>\n",
       "      <td>Alabama Administrative Office of Courts Museum...</td>\n",
       "      <td>Law</td>\n",
       "      <td>Montgomery</td>\n",
       "      <td>Alabama</td>\n",
       "      <td>NaN</td>\n",
       "      <td>Central</td>\n",
       "      <td>Montgomery</td>\n",
       "      <td>Exhibits of Alabama judicial history and impor...</td>\n",
       "      <td>NaN</td>\n",
       "      <td>NaN</td>\n",
       "    </tr>\n",
       "    <tr>\n",
       "      <th>1</th>\n",
       "      <td>Alabama Artists Gallery</td>\n",
       "      <td>Art</td>\n",
       "      <td>Montgomery</td>\n",
       "      <td>Alabama</td>\n",
       "      <td>Fred Nall Hollis (born April 21, 1948) is an i...</td>\n",
       "      <td>Central</td>\n",
       "      <td>Montgomery</td>\n",
       "      <td>Operated by the Alabama State Council on the A...</td>\n",
       "      <td>NaN</td>\n",
       "      <td>['fred', 'nall', 'hollis', 'born', 'april', 'i...</td>\n",
       "    </tr>\n",
       "    <tr>\n",
       "      <th>2</th>\n",
       "      <td>Alabama Constitution Village</td>\n",
       "      <td>Living history</td>\n",
       "      <td>Huntsville</td>\n",
       "      <td>Alabama</td>\n",
       "      <td>The Constitution Hall Park is a historical ope...</td>\n",
       "      <td>Northern</td>\n",
       "      <td>Madison</td>\n",
       "      <td>Open-air museum that reenacts life in 1819.[2]</td>\n",
       "      <td>NaN</td>\n",
       "      <td>['the', 'constitution', 'hall', 'park', 'is', ...</td>\n",
       "    </tr>\n",
       "    <tr>\n",
       "      <th>3</th>\n",
       "      <td>Alabama Department of Archives and History</td>\n",
       "      <td>History</td>\n",
       "      <td>Montgomery</td>\n",
       "      <td>Alabama</td>\n",
       "      <td>The Alabama Department of Archives and History...</td>\n",
       "      <td>Central</td>\n",
       "      <td>Montgomery</td>\n",
       "      <td>Official archives for the state of Alabama, fe...</td>\n",
       "      <td>NaN</td>\n",
       "      <td>['the', 'alabama', 'department', 'of', 'archiv...</td>\n",
       "    </tr>\n",
       "    <tr>\n",
       "      <th>4</th>\n",
       "      <td>Alabama Governor's Mansion</td>\n",
       "      <td>Historic house</td>\n",
       "      <td>Montgomery</td>\n",
       "      <td>Alabama</td>\n",
       "      <td>The Alabama Governor's Mansion is the official...</td>\n",
       "      <td>Central</td>\n",
       "      <td>Montgomery</td>\n",
       "      <td>Official residence of Alabama's Governor. Open...</td>\n",
       "      <td>NaN</td>\n",
       "      <td>['the', 'alabama', 'governor', 's', 'mansion',...</td>\n",
       "    </tr>\n",
       "  </tbody>\n",
       "</table>\n",
       "</div>"
      ],
      "text/plain": [
       "                                                Name        Category  \\\n",
       "0  Alabama Administrative Office of Courts Museum...             Law   \n",
       "1                            Alabama Artists Gallery             Art   \n",
       "2                       Alabama Constitution Village  Living history   \n",
       "3         Alabama Department of Archives and History         History   \n",
       "4                         Alabama Governor's Mansion  Historic house   \n",
       "\n",
       "         City    State                                    Article_content  \\\n",
       "0  Montgomery  Alabama                                                NaN   \n",
       "1  Montgomery  Alabama  Fred Nall Hollis (born April 21, 1948) is an i...   \n",
       "2  Huntsville  Alabama  The Constitution Hall Park is a historical ope...   \n",
       "3  Montgomery  Alabama  The Alabama Department of Archives and History...   \n",
       "4  Montgomery  Alabama  The Alabama Governor's Mansion is the official...   \n",
       "\n",
       "     Region      County                                            Summary  \\\n",
       "0   Central  Montgomery  Exhibits of Alabama judicial history and impor...   \n",
       "1   Central  Montgomery  Operated by the Alabama State Council on the A...   \n",
       "2  Northern     Madison     Open-air museum that reenacts life in 1819.[2]   \n",
       "3   Central  Montgomery  Official archives for the state of Alabama, fe...   \n",
       "4   Central  Montgomery  Official residence of Alabama's Governor. Open...   \n",
       "\n",
       "  Notes                                     Article_tokens  \n",
       "0   NaN                                                NaN  \n",
       "1   NaN  ['fred', 'nall', 'hollis', 'born', 'april', 'i...  \n",
       "2   NaN  ['the', 'constitution', 'hall', 'park', 'is', ...  \n",
       "3   NaN  ['the', 'alabama', 'department', 'of', 'archiv...  \n",
       "4   NaN  ['the', 'alabama', 'governor', 's', 'mansion',...  "
      ]
     },
     "execution_count": 32,
     "metadata": {},
     "output_type": "execute_result"
    }
   ],
   "source": [
    "wiki_museum_df.head()"
   ]
  },
  {
   "cell_type": "code",
   "execution_count": 22,
   "metadata": {},
   "outputs": [
    {
     "data": {
      "text/plain": [
       "23081"
      ]
     },
     "execution_count": 22,
     "metadata": {},
     "output_type": "execute_result"
    }
   ],
   "source": [
    "museum_line_list = []\n",
    "for line in wiki_museum_df['Article_tokens']:\n",
    "    try:\n",
    "        line = literal_eval(line)\n",
    "        museum_line_list.append(line)\n",
    "    except:\n",
    "        continue\n",
    "len(museum_line_list)"
   ]
  },
  {
   "cell_type": "code",
   "execution_count": 23,
   "metadata": {},
   "outputs": [],
   "source": [
    "museum_dictionary = corpora.Dictionary(museum_line_list)"
   ]
  },
  {
   "cell_type": "code",
   "execution_count": 24,
   "metadata": {},
   "outputs": [],
   "source": [
    "once_ids = [tokenid for tokenid, docfreq in museum_dictionary.dfs.items() if docfreq == 1]\n",
    "museum_dictionary.filter_tokens(once_ids)\n",
    "museum_dictionary.compactify()"
   ]
  },
  {
   "cell_type": "markdown",
   "metadata": {},
   "source": [
    "Create a sparse vector of integer words ids to word counts for each museum and a TF-IDF model (i.e. term frequency–inverse document frequency). The TF-IDF model converts raw word counts to a value reflecting the importance of each word given the corpus."
   ]
  },
  {
   "cell_type": "code",
   "execution_count": 25,
   "metadata": {},
   "outputs": [
    {
     "name": "stderr",
     "output_type": "stream",
     "text": [
      "/Users/klarnemann/anaconda3/lib/python3.7/site-packages/smart_open/smart_open_lib.py:398: UserWarning: This function is deprecated, use smart_open.open instead. See the migration notes for details: https://github.com/RaRe-Technologies/smart_open/blob/master/README.rst#migrating-to-the-new-open-function\n",
      "  'See the migration notes for details: %s' % _MIGRATION_NOTES_URL\n"
     ]
    }
   ],
   "source": [
    "museum_corpus = [museum_dictionary.doc2bow(words) for words in museum_line_list]\n",
    "corpora.mmcorpus.MmCorpus.serialize('%s/wiki_museums.mm' % (datadir), museum_corpus)\n",
    "museum_tfidf = models.TfidfModel(museum_corpus)"
   ]
  },
  {
   "cell_type": "code",
   "execution_count": 26,
   "metadata": {},
   "outputs": [
    {
     "name": "stderr",
     "output_type": "stream",
     "text": [
      "/Users/klarnemann/anaconda3/lib/python3.7/site-packages/smart_open/smart_open_lib.py:398: UserWarning: This function is deprecated, use smart_open.open instead. See the migration notes for details: https://github.com/RaRe-Technologies/smart_open/blob/master/README.rst#migrating-to-the-new-open-function\n",
      "  'See the migration notes for details: %s' % _MIGRATION_NOTES_URL\n",
      "/Users/klarnemann/anaconda3/lib/python3.7/site-packages/smart_open/smart_open_lib.py:398: UserWarning: This function is deprecated, use smart_open.open instead. See the migration notes for details: https://github.com/RaRe-Technologies/smart_open/blob/master/README.rst#migrating-to-the-new-open-function\n",
      "  'See the migration notes for details: %s' % _MIGRATION_NOTES_URL\n"
     ]
    }
   ],
   "source": [
    "museum_lsi = models.lsimodel.LsiModel(corpus=museum_tfidf[museum_corpus], id2word=museum_dictionary)\n",
    "museum_lsi.save('%s/wiki_museums.lsi' % (datadir))"
   ]
  },
  {
   "cell_type": "code",
   "execution_count": 27,
   "metadata": {
    "scrolled": false
   },
   "outputs": [
    {
     "name": "stdout",
     "output_type": "stream",
     "text": [
      "Topic 0:\n",
      "(0, '0.392*\"museums\" + 0.223*\"closed\" + 0.144*\"alphabetical\" + 0.143*\"click\" + 0.137*\"museum\" + 0.136*\"column\" + 0.112*\"list\" + 0.099*\"utah\" + 0.095*\"art\" + 0.092*\"category\"')\n",
      "\n",
      "Topic 1:\n",
      "(1, '-0.331*\"museums\" + -0.166*\"closed\" + -0.161*\"alphabetical\" + -0.160*\"click\" + -0.146*\"column\" + -0.110*\"utah\" + 0.096*\"were\" + -0.091*\"category\" + 0.085*\"york\" + 0.083*\"was\"')\n",
      "\n",
      "Topic 2:\n",
      "(2, '0.358*\"utah\" + -0.313*\"york\" + -0.188*\"society\" + -0.149*\"closed\" + 0.138*\"age\" + -0.133*\"documents\" + -0.128*\"new\" + -0.116*\"art\" + 0.115*\"population\" + -0.111*\"counties\"')\n",
      "\n",
      "Topic 3:\n",
      "(3, '0.581*\"utah\" + -0.234*\"closed\" + 0.202*\"york\" + 0.134*\"category\" + 0.130*\"society\" + 0.122*\"documents\" + 0.122*\"riverton\" + -0.101*\"chicago\" + 0.094*\"vol\" + 0.091*\"roy\"')\n",
      "\n",
      "Topic 4:\n",
      "(4, '-0.213*\"york\" + -0.210*\"age\" + -0.178*\"counties\" + -0.170*\"population\" + -0.154*\"median\" + -0.153*\"census\" + -0.147*\"county\" + -0.145*\"households\" + 0.137*\"michigan\" + -0.128*\"income\"')\n",
      "\n"
     ]
    }
   ],
   "source": [
    "for i, topic in enumerate(museum_lsi.print_topics(5)[:5]):\n",
    "    print('Topic {}:'.format(i))\n",
    "    print(topic)\n",
    "    print('')"
   ]
  },
  {
   "cell_type": "code",
   "execution_count": 28,
   "metadata": {},
   "outputs": [],
   "source": [
    "museum_matsim = similarities.MatrixSimilarity(museum_lsi[museum_tfidf[museum_corpus]], num_best=10)"
   ]
  },
  {
   "cell_type": "code",
   "execution_count": 29,
   "metadata": {},
   "outputs": [],
   "source": [
    "museums = list(wiki_museum_df.Name.values)"
   ]
  },
  {
   "cell_type": "code",
   "execution_count": 30,
   "metadata": {},
   "outputs": [
    {
     "name": "stdout",
     "output_type": "stream",
     "text": [
      "Museum of Geology\n",
      "\tAlabama Administrative Office of Courts Museum Area|1.00\n",
      "\tEvansville Historical Foundation|0.83\n",
      "\tOld Lighthouse Museum|0.83\n",
      "\tIndian Mound and Museum|0.83\n",
      "\tBradley Academy Museum and Cultural Center|0.83\n",
      "\tMuseum of Wildlife, Science and Industry of NE South Dakota|0.81\n",
      "\tAlabama Constitution Village|0.81\n",
      "\tPorter Sculpture Park|0.81\n",
      "\tAlabama Veterans Museum and Archives|0.81\n",
      "Conde-Charlotte House\n",
      "\tAlabama Artists Gallery|1.00\n",
      "\tVerendrye Museum|1.00\n",
      "\tMuseum of Visual Materials|1.00\n",
      "\tAlabama Veterans Museum and Archives|0.85\n",
      "\tPorter Sculpture Park|0.85\n",
      "\tMobile Carnival Museum|0.84\n",
      "\tClement Railroad Hotel Museum|0.84\n",
      "\tAlabama Constitution Village|0.82\n",
      "\tMuseum of Wildlife, Science and Industry of NE South Dakota|0.82\n",
      "Museum of Wildlife, Science and Industry of NE South Dakota\n",
      "\tAlabama Constitution Village|1.00\n",
      "\tPorter Sculpture Park|0.87\n",
      "\tAlabama Veterans Museum and Archives|0.87\n",
      "\tClement Railroad Hotel Museum|0.85\n",
      "\tMobile Carnival Museum|0.85\n",
      "\tIndian Mound and Museum|0.83\n",
      "\tOld Lighthouse Museum|0.83\n",
      "\tBradley Academy Museum and Cultural Center|0.83\n",
      "\tEvansville Historical Foundation|0.83\n",
      "Magnolia Manor\n",
      "\tAlabama Department of Archives and History|1.00\n",
      "\tFirst Congregational Living Museum|1.00\n",
      "\tNational Museum of Woodcarving|1.00\n",
      "\tOakville Indian Mounds Park and Museum|0.84\n",
      "\tCragfont|0.84\n",
      "\tGallery 130|0.82\n",
      "\tDouglas Centennial Museum|0.82\n",
      "\tBank of Florence Museum|0.78\n",
      "\tGeorgetown & Scott County Museum|0.78\n",
      "National Music Museum\n",
      "\tClarke County Historical Museum|1.00\n",
      "\tBessie Smith Cultural Center|1.00\n",
      "\tHarrison Brothers Hardware Store|1.00\n",
      "\tAlabama State Capitol|1.00\n",
      "\tChasing Rainbows|1.00\n",
      "\tNicollet Tower|1.00\n",
      "\tPettigrew Home & Museum|1.00\n",
      "\tAlabama Music Hall of Fame|1.00\n",
      "\tPollock Visitor and Interpretive Center|1.00\n"
     ]
    }
   ],
   "source": [
    "for sims in list(museum_matsim)[:5]:\n",
    "    index = sims[0][0]\n",
    "    print(museums[index])\n",
    "    for other_index, score in sims[1:]:\n",
    "        print('\\t%s|%.2f' % (museums[other_index], score))"
   ]
  },
  {
   "cell_type": "markdown",
   "metadata": {},
   "source": [
    "# Tokenizing"
   ]
  },
  {
   "cell_type": "markdown",
   "metadata": {},
   "source": [
    "## Wikipedia Museum Listings"
   ]
  },
  {
   "cell_type": "code",
   "execution_count": 11,
   "metadata": {},
   "outputs": [],
   "source": [
    "wiki_museum_df_f = '%s/clean_scraped_wikipedia_tables_museums.csv' % (datadir)"
   ]
  },
  {
   "cell_type": "code",
   "execution_count": 5,
   "metadata": {},
   "outputs": [],
   "source": [
    "wiki_museum_df = pd.read_csv(wiki_museum_df_f, index_col=0)"
   ]
  },
  {
   "cell_type": "code",
   "execution_count": 6,
   "metadata": {},
   "outputs": [
    {
     "data": {
      "text/html": [
       "<div>\n",
       "<style scoped>\n",
       "    .dataframe tbody tr th:only-of-type {\n",
       "        vertical-align: middle;\n",
       "    }\n",
       "\n",
       "    .dataframe tbody tr th {\n",
       "        vertical-align: top;\n",
       "    }\n",
       "\n",
       "    .dataframe thead th {\n",
       "        text-align: right;\n",
       "    }\n",
       "</style>\n",
       "<table border=\"1\" class=\"dataframe\">\n",
       "  <thead>\n",
       "    <tr style=\"text-align: right;\">\n",
       "      <th></th>\n",
       "      <th>Name</th>\n",
       "      <th>Category</th>\n",
       "      <th>City</th>\n",
       "      <th>State</th>\n",
       "      <th>Article_content</th>\n",
       "      <th>Region</th>\n",
       "      <th>County</th>\n",
       "      <th>Summary</th>\n",
       "      <th>Notes</th>\n",
       "    </tr>\n",
       "  </thead>\n",
       "  <tbody>\n",
       "    <tr>\n",
       "      <th>0</th>\n",
       "      <td>Alabama Administrative Office of Courts Museum...</td>\n",
       "      <td>Law</td>\n",
       "      <td>Montgomery</td>\n",
       "      <td>Alabama</td>\n",
       "      <td>NaN</td>\n",
       "      <td>Central</td>\n",
       "      <td>Montgomery</td>\n",
       "      <td>Exhibits of Alabama judicial history and impor...</td>\n",
       "      <td>NaN</td>\n",
       "    </tr>\n",
       "    <tr>\n",
       "      <th>1</th>\n",
       "      <td>Alabama Artists Gallery</td>\n",
       "      <td>Art</td>\n",
       "      <td>Montgomery</td>\n",
       "      <td>Alabama</td>\n",
       "      <td>Fred Nall Hollis (born April 21, 1948) is an i...</td>\n",
       "      <td>Central</td>\n",
       "      <td>Montgomery</td>\n",
       "      <td>Operated by the Alabama State Council on the A...</td>\n",
       "      <td>NaN</td>\n",
       "    </tr>\n",
       "    <tr>\n",
       "      <th>2</th>\n",
       "      <td>Alabama Constitution Village</td>\n",
       "      <td>Living history</td>\n",
       "      <td>Huntsville</td>\n",
       "      <td>Alabama</td>\n",
       "      <td>The Constitution Hall Park is a historical ope...</td>\n",
       "      <td>Northern</td>\n",
       "      <td>Madison</td>\n",
       "      <td>Open-air museum that reenacts life in 1819.[2]</td>\n",
       "      <td>NaN</td>\n",
       "    </tr>\n",
       "    <tr>\n",
       "      <th>3</th>\n",
       "      <td>Alabama Department of Archives and History</td>\n",
       "      <td>History</td>\n",
       "      <td>Montgomery</td>\n",
       "      <td>Alabama</td>\n",
       "      <td>The Alabama Department of Archives and History...</td>\n",
       "      <td>Central</td>\n",
       "      <td>Montgomery</td>\n",
       "      <td>Official archives for the state of Alabama, fe...</td>\n",
       "      <td>NaN</td>\n",
       "    </tr>\n",
       "    <tr>\n",
       "      <th>4</th>\n",
       "      <td>Alabama Governor's Mansion</td>\n",
       "      <td>Historic house</td>\n",
       "      <td>Montgomery</td>\n",
       "      <td>Alabama</td>\n",
       "      <td>The Alabama Governor's Mansion is the official...</td>\n",
       "      <td>Central</td>\n",
       "      <td>Montgomery</td>\n",
       "      <td>Official residence of Alabama's Governor. Open...</td>\n",
       "      <td>NaN</td>\n",
       "    </tr>\n",
       "  </tbody>\n",
       "</table>\n",
       "</div>"
      ],
      "text/plain": [
       "                                                Name        Category  \\\n",
       "0  Alabama Administrative Office of Courts Museum...             Law   \n",
       "1                            Alabama Artists Gallery             Art   \n",
       "2                       Alabama Constitution Village  Living history   \n",
       "3         Alabama Department of Archives and History         History   \n",
       "4                         Alabama Governor's Mansion  Historic house   \n",
       "\n",
       "         City    State                                    Article_content  \\\n",
       "0  Montgomery  Alabama                                                NaN   \n",
       "1  Montgomery  Alabama  Fred Nall Hollis (born April 21, 1948) is an i...   \n",
       "2  Huntsville  Alabama  The Constitution Hall Park is a historical ope...   \n",
       "3  Montgomery  Alabama  The Alabama Department of Archives and History...   \n",
       "4  Montgomery  Alabama  The Alabama Governor's Mansion is the official...   \n",
       "\n",
       "     Region      County                                            Summary  \\\n",
       "0   Central  Montgomery  Exhibits of Alabama judicial history and impor...   \n",
       "1   Central  Montgomery  Operated by the Alabama State Council on the A...   \n",
       "2  Northern     Madison     Open-air museum that reenacts life in 1819.[2]   \n",
       "3   Central  Montgomery  Official archives for the state of Alabama, fe...   \n",
       "4   Central  Montgomery  Official residence of Alabama's Governor. Open...   \n",
       "\n",
       "  Notes  \n",
       "0   NaN  \n",
       "1   NaN  \n",
       "2   NaN  \n",
       "3   NaN  \n",
       "4   NaN  "
      ]
     },
     "execution_count": 6,
     "metadata": {},
     "output_type": "execute_result"
    }
   ],
   "source": [
    "wiki_museum_df.head()"
   ]
  },
  {
   "cell_type": "code",
   "execution_count": 7,
   "metadata": {},
   "outputs": [],
   "source": [
    "wiki_museum_df = tokenize_text_from_df(wiki_museum_df)"
   ]
  },
  {
   "cell_type": "code",
   "execution_count": 12,
   "metadata": {},
   "outputs": [
    {
     "data": {
      "text/html": [
       "<div>\n",
       "<style scoped>\n",
       "    .dataframe tbody tr th:only-of-type {\n",
       "        vertical-align: middle;\n",
       "    }\n",
       "\n",
       "    .dataframe tbody tr th {\n",
       "        vertical-align: top;\n",
       "    }\n",
       "\n",
       "    .dataframe thead th {\n",
       "        text-align: right;\n",
       "    }\n",
       "</style>\n",
       "<table border=\"1\" class=\"dataframe\">\n",
       "  <thead>\n",
       "    <tr style=\"text-align: right;\">\n",
       "      <th></th>\n",
       "      <th>Name</th>\n",
       "      <th>Category</th>\n",
       "      <th>City</th>\n",
       "      <th>State</th>\n",
       "      <th>Article_content</th>\n",
       "      <th>Region</th>\n",
       "      <th>County</th>\n",
       "      <th>Summary</th>\n",
       "      <th>Notes</th>\n",
       "      <th>Article_tokens</th>\n",
       "    </tr>\n",
       "  </thead>\n",
       "  <tbody>\n",
       "    <tr>\n",
       "      <th>0</th>\n",
       "      <td>Alabama Administrative Office of Courts Museum...</td>\n",
       "      <td>Law</td>\n",
       "      <td>Montgomery</td>\n",
       "      <td>Alabama</td>\n",
       "      <td>NaN</td>\n",
       "      <td>Central</td>\n",
       "      <td>Montgomery</td>\n",
       "      <td>Exhibits of Alabama judicial history and impor...</td>\n",
       "      <td>NaN</td>\n",
       "      <td></td>\n",
       "    </tr>\n",
       "    <tr>\n",
       "      <th>1</th>\n",
       "      <td>Alabama Artists Gallery</td>\n",
       "      <td>Art</td>\n",
       "      <td>Montgomery</td>\n",
       "      <td>Alabama</td>\n",
       "      <td>Fred Nall Hollis (born April 21, 1948) is an i...</td>\n",
       "      <td>Central</td>\n",
       "      <td>Montgomery</td>\n",
       "      <td>Operated by the Alabama State Council on the A...</td>\n",
       "      <td>NaN</td>\n",
       "      <td>[fred, nall, hollis, born, april, is, an, inte...</td>\n",
       "    </tr>\n",
       "    <tr>\n",
       "      <th>2</th>\n",
       "      <td>Alabama Constitution Village</td>\n",
       "      <td>Living history</td>\n",
       "      <td>Huntsville</td>\n",
       "      <td>Alabama</td>\n",
       "      <td>The Constitution Hall Park is a historical ope...</td>\n",
       "      <td>Northern</td>\n",
       "      <td>Madison</td>\n",
       "      <td>Open-air museum that reenacts life in 1819.[2]</td>\n",
       "      <td>NaN</td>\n",
       "      <td>[the, constitution, hall, park, is, a, histori...</td>\n",
       "    </tr>\n",
       "    <tr>\n",
       "      <th>3</th>\n",
       "      <td>Alabama Department of Archives and History</td>\n",
       "      <td>History</td>\n",
       "      <td>Montgomery</td>\n",
       "      <td>Alabama</td>\n",
       "      <td>The Alabama Department of Archives and History...</td>\n",
       "      <td>Central</td>\n",
       "      <td>Montgomery</td>\n",
       "      <td>Official archives for the state of Alabama, fe...</td>\n",
       "      <td>NaN</td>\n",
       "      <td>[the, alabama, department, of, archives, and, ...</td>\n",
       "    </tr>\n",
       "    <tr>\n",
       "      <th>4</th>\n",
       "      <td>Alabama Governor's Mansion</td>\n",
       "      <td>Historic house</td>\n",
       "      <td>Montgomery</td>\n",
       "      <td>Alabama</td>\n",
       "      <td>The Alabama Governor's Mansion is the official...</td>\n",
       "      <td>Central</td>\n",
       "      <td>Montgomery</td>\n",
       "      <td>Official residence of Alabama's Governor. Open...</td>\n",
       "      <td>NaN</td>\n",
       "      <td>[the, alabama, governor, s, mansion, is, the, ...</td>\n",
       "    </tr>\n",
       "  </tbody>\n",
       "</table>\n",
       "</div>"
      ],
      "text/plain": [
       "                                                Name        Category  \\\n",
       "0  Alabama Administrative Office of Courts Museum...             Law   \n",
       "1                            Alabama Artists Gallery             Art   \n",
       "2                       Alabama Constitution Village  Living history   \n",
       "3         Alabama Department of Archives and History         History   \n",
       "4                         Alabama Governor's Mansion  Historic house   \n",
       "\n",
       "         City    State                                    Article_content  \\\n",
       "0  Montgomery  Alabama                                                NaN   \n",
       "1  Montgomery  Alabama  Fred Nall Hollis (born April 21, 1948) is an i...   \n",
       "2  Huntsville  Alabama  The Constitution Hall Park is a historical ope...   \n",
       "3  Montgomery  Alabama  The Alabama Department of Archives and History...   \n",
       "4  Montgomery  Alabama  The Alabama Governor's Mansion is the official...   \n",
       "\n",
       "     Region      County                                            Summary  \\\n",
       "0   Central  Montgomery  Exhibits of Alabama judicial history and impor...   \n",
       "1   Central  Montgomery  Operated by the Alabama State Council on the A...   \n",
       "2  Northern     Madison     Open-air museum that reenacts life in 1819.[2]   \n",
       "3   Central  Montgomery  Official archives for the state of Alabama, fe...   \n",
       "4   Central  Montgomery  Official residence of Alabama's Governor. Open...   \n",
       "\n",
       "  Notes                                     Article_tokens  \n",
       "0   NaN                                                     \n",
       "1   NaN  [fred, nall, hollis, born, april, is, an, inte...  \n",
       "2   NaN  [the, constitution, hall, park, is, a, histori...  \n",
       "3   NaN  [the, alabama, department, of, archives, and, ...  \n",
       "4   NaN  [the, alabama, governor, s, mansion, is, the, ...  "
      ]
     },
     "execution_count": 12,
     "metadata": {},
     "output_type": "execute_result"
    }
   ],
   "source": [
    "wiki_museum_df.head()"
   ]
  },
  {
   "cell_type": "code",
   "execution_count": 14,
   "metadata": {},
   "outputs": [],
   "source": [
    "wiki_museum_df.to_csv(wiki_museum_df_f)"
   ]
  },
  {
   "cell_type": "markdown",
   "metadata": {},
   "source": [
    "### Across all articles in wiki_museum_df"
   ]
  },
  {
   "cell_type": "code",
   "execution_count": 8,
   "metadata": {},
   "outputs": [],
   "source": [
    "museum_text_list = list(np.array(wiki_museum_df['Article_content'], dtype=str))\n",
    "museum_text = (' ').join(museum_text_list)"
   ]
  },
  {
   "cell_type": "code",
   "execution_count": 9,
   "metadata": {},
   "outputs": [],
   "source": [
    "clean_museum_text = clean_text(museum_text)"
   ]
  },
  {
   "cell_type": "code",
   "execution_count": 10,
   "metadata": {},
   "outputs": [],
   "source": [
    "tokenizer = nltk.RegexpTokenizer(r'\\w+')\n",
    "museum_ttext = tokenizer.tokenize(clean_museum_text)"
   ]
  },
  {
   "cell_type": "markdown",
   "metadata": {},
   "source": [
    "## Parks"
   ]
  },
  {
   "cell_type": "code",
   "execution_count": 9,
   "metadata": {},
   "outputs": [],
   "source": [
    "park_df = pd.read_excel('%s/scraped_parks.xlsx' % (datadir), index_col=0)"
   ]
  },
  {
   "cell_type": "code",
   "execution_count": 10,
   "metadata": {},
   "outputs": [
    {
     "data": {
      "text/html": [
       "<div>\n",
       "<style scoped>\n",
       "    .dataframe tbody tr th:only-of-type {\n",
       "        vertical-align: middle;\n",
       "    }\n",
       "\n",
       "    .dataframe tbody tr th {\n",
       "        vertical-align: top;\n",
       "    }\n",
       "\n",
       "    .dataframe thead th {\n",
       "        text-align: right;\n",
       "    }\n",
       "</style>\n",
       "<table border=\"1\" class=\"dataframe\">\n",
       "  <thead>\n",
       "    <tr style=\"text-align: right;\">\n",
       "      <th></th>\n",
       "      <th>Park</th>\n",
       "      <th>State</th>\n",
       "      <th>City</th>\n",
       "      <th>Street Address</th>\n",
       "      <th>Url</th>\n",
       "      <th>Category</th>\n",
       "      <th>Features</th>\n",
       "      <th>Description</th>\n",
       "      <th>Article_content</th>\n",
       "    </tr>\n",
       "  </thead>\n",
       "  <tbody>\n",
       "    <tr>\n",
       "      <th>0</th>\n",
       "      <td>Bladon Springs State Park</td>\n",
       "      <td>Alabama</td>\n",
       "      <td>Silas</td>\n",
       "      <td>3921 Bladon Rd</td>\n",
       "      <td>https://www.stateparks.com/bladon_springs_stat...</td>\n",
       "      <td>State Park</td>\n",
       "      <td>['Camping', 'Nearby Parks', 'Picnicking', 'Cur...</td>\n",
       "      <td>Centering around four mineral springs, this 3...</td>\n",
       "      <td>Bladon Springs State Park is a locally managed...</td>\n",
       "    </tr>\n",
       "    <tr>\n",
       "      <th>1</th>\n",
       "      <td>Blue Springs State Park</td>\n",
       "      <td>Alabama</td>\n",
       "      <td>Clio</td>\n",
       "      <td>2595 AL-10</td>\n",
       "      <td>https://www.stateparks.com/blue_springs_state_...</td>\n",
       "      <td>State Park</td>\n",
       "      <td>['Camping', 'Swimming', 'Fishing', 'Picnicking...</td>\n",
       "      <td>Fed by a crystal-clear underground spring, th...</td>\n",
       "      <td>Blue Spring State Park is a state park located...</td>\n",
       "    </tr>\n",
       "    <tr>\n",
       "      <th>2</th>\n",
       "      <td>Chattahoochee State Park</td>\n",
       "      <td>Alabama</td>\n",
       "      <td>Gordon</td>\n",
       "      <td>250 Chattahoochee St Pk Rd</td>\n",
       "      <td>https://www.stateparks.com/chattahoochee_state...</td>\n",
       "      <td>State Park</td>\n",
       "      <td>['Nearby Parks', 'Current Weather Prediction']</td>\n",
       "      <td></td>\n",
       "      <td>Chattahoochee State Park is a state-owned, pub...</td>\n",
       "    </tr>\n",
       "    <tr>\n",
       "      <th>3</th>\n",
       "      <td>Cheaha State Park</td>\n",
       "      <td>Alabama</td>\n",
       "      <td>Delta</td>\n",
       "      <td>19644 AL-281</td>\n",
       "      <td>https://www.stateparks.com/cheaha_state_park_i...</td>\n",
       "      <td>State Park</td>\n",
       "      <td>['History of the Area', 'Meeting Rooms', 'Cabi...</td>\n",
       "      <td>Located in Clay and Cleburne Counties, Cheaha...</td>\n",
       "      <td>Cheaha State Park is a publicly owned recreati...</td>\n",
       "    </tr>\n",
       "    <tr>\n",
       "      <th>4</th>\n",
       "      <td>Chewacla State Park</td>\n",
       "      <td>Alabama</td>\n",
       "      <td>Auburn</td>\n",
       "      <td>124 Shell Toomer Pkwy</td>\n",
       "      <td>https://www.stateparks.com/chewacla_state_park...</td>\n",
       "      <td>State Park</td>\n",
       "      <td>['Cabins', 'Camping', 'Swimming', 'Boating', '...</td>\n",
       "      <td>Chewacla State Park's 696 scenic acres are a ...</td>\n",
       "      <td>Chewacla State Park is a publicly owned recrea...</td>\n",
       "    </tr>\n",
       "  </tbody>\n",
       "</table>\n",
       "</div>"
      ],
      "text/plain": [
       "                        Park    State    City              Street Address  \\\n",
       "0  Bladon Springs State Park  Alabama   Silas              3921 Bladon Rd   \n",
       "1    Blue Springs State Park  Alabama    Clio                  2595 AL-10   \n",
       "2   Chattahoochee State Park  Alabama  Gordon  250 Chattahoochee St Pk Rd   \n",
       "3          Cheaha State Park  Alabama   Delta                19644 AL-281   \n",
       "4        Chewacla State Park  Alabama  Auburn       124 Shell Toomer Pkwy   \n",
       "\n",
       "                                                 Url    Category  \\\n",
       "0  https://www.stateparks.com/bladon_springs_stat...  State Park   \n",
       "1  https://www.stateparks.com/blue_springs_state_...  State Park   \n",
       "2  https://www.stateparks.com/chattahoochee_state...  State Park   \n",
       "3  https://www.stateparks.com/cheaha_state_park_i...  State Park   \n",
       "4  https://www.stateparks.com/chewacla_state_park...  State Park   \n",
       "\n",
       "                                            Features  \\\n",
       "0  ['Camping', 'Nearby Parks', 'Picnicking', 'Cur...   \n",
       "1  ['Camping', 'Swimming', 'Fishing', 'Picnicking...   \n",
       "2     ['Nearby Parks', 'Current Weather Prediction']   \n",
       "3  ['History of the Area', 'Meeting Rooms', 'Cabi...   \n",
       "4  ['Cabins', 'Camping', 'Swimming', 'Boating', '...   \n",
       "\n",
       "                                         Description  \\\n",
       "0   Centering around four mineral springs, this 3...   \n",
       "1   Fed by a crystal-clear underground spring, th...   \n",
       "2                                                      \n",
       "3   Located in Clay and Cleburne Counties, Cheaha...   \n",
       "4   Chewacla State Park's 696 scenic acres are a ...   \n",
       "\n",
       "                                     Article_content  \n",
       "0  Bladon Springs State Park is a locally managed...  \n",
       "1  Blue Spring State Park is a state park located...  \n",
       "2  Chattahoochee State Park is a state-owned, pub...  \n",
       "3  Cheaha State Park is a publicly owned recreati...  \n",
       "4  Chewacla State Park is a publicly owned recrea...  "
      ]
     },
     "execution_count": 10,
     "metadata": {},
     "output_type": "execute_result"
    }
   ],
   "source": [
    "park_df.head()"
   ]
  },
  {
   "cell_type": "code",
   "execution_count": 84,
   "metadata": {},
   "outputs": [],
   "source": [
    "park_df['Article_tokens'] = ''"
   ]
  },
  {
   "cell_type": "code",
   "execution_count": 66,
   "metadata": {},
   "outputs": [
    {
     "data": {
      "text/plain": [
       "\"Chewacla State Park is a publicly owned recreation area in Auburn, Lee County, Alabama, occupying 696 acres (282 ha) to the south of Interstate 85. The state park's central feature, 26-acre (11 ha) Lake Chewacla, provides opportunities for fishing, swimming, and non-motorized boating.\\n\\n\\n== History ==\\nIn the late nineteenth century, Wright's Mill occupied a site in the park where swimmers could find a place to splash about in the mill's surrounding pool. In the 1930s, workers with the Civilian Conservation Corps developed roads, foot trails, and park buildings. Their efforts can be seen in the park's stone cabins and arched masonry bridge. They also constructed the dam that created Chewacla Lake. The state took possession, opening the grounds as Chewacla State Park, in 1939.\\n\\n\\n== Activities and amenities ==\\nIn addition to water activities, the park features a system of trails for hiking and for mountain biking. The park has facilities for RV and tent camping in addition to its renovated CCC–era cabins.\\n\\n\\n== References ==\\n\\n\\n== External links ==\\nChewacla State Park Alabama Department of Conservation and Natural Resources\""
      ]
     },
     "execution_count": 66,
     "metadata": {},
     "output_type": "execute_result"
    }
   ],
   "source": [
    "text = park_df.loc[4, 'Article_content']\n",
    "text"
   ]
  },
  {
   "cell_type": "code",
   "execution_count": 76,
   "metadata": {},
   "outputs": [],
   "source": [
    "park_text_list = list(np.array(park_df['Article_content'], dtype=str))\n",
    "park_text = (' ').join(park_text_list)"
   ]
  },
  {
   "cell_type": "code",
   "execution_count": 80,
   "metadata": {},
   "outputs": [],
   "source": [
    "clean_park_text = clean_text(park_text)"
   ]
  },
  {
   "cell_type": "code",
   "execution_count": 83,
   "metadata": {},
   "outputs": [],
   "source": [
    "tokenizer = nltk.RegexpTokenizer(r'\\w+')\n",
    "park_ttext = tokenizer.tokenize(clean_park_text)"
   ]
  },
  {
   "cell_type": "code",
   "execution_count": 85,
   "metadata": {},
   "outputs": [],
   "source": [
    "n_rows, n_cols = park_df.shape"
   ]
  },
  {
   "cell_type": "code",
   "execution_count": 97,
   "metadata": {},
   "outputs": [],
   "source": [
    "for i in np.arange(n_rows):\n",
    "    raw_text = park_df.loc[i, 'Article_content']\n",
    "    if type(raw_text) == float:\n",
    "        continue\n",
    "    text = clean_text(raw_text)\n",
    "    tokenizer = nltk.RegexpTokenizer(r'\\w+')\n",
    "    ttext = tokenizer.tokenize(text)\n",
    "    park_df.loc[i, 'Article_tokens'] = ttext"
   ]
  },
  {
   "cell_type": "code",
   "execution_count": 101,
   "metadata": {},
   "outputs": [],
   "source": [
    "park_df.to_excel('%s/scraped_parks.xlsx' % (datadir))"
   ]
  },
  {
   "cell_type": "markdown",
   "metadata": {},
   "source": [
    "# Notes"
   ]
  },
  {
   "cell_type": "code",
   "execution_count": null,
   "metadata": {},
   "outputs": [],
   "source": [
    "import nltk\n",
    "import spacy\n",
    "from gensim import corpora, models, similarities\n",
    "from collections import defaultdict\n",
    "#spacy.load('en')\n",
    "#from spacy.lang.en import English\n",
    "#parser = English()"
   ]
  },
  {
   "cell_type": "code",
   "execution_count": null,
   "metadata": {},
   "outputs": [],
   "source": [
    "from nltk.tokenize import sent_tokenize, word_tokenize \n",
    "import warnings \n",
    "  \n",
    "warnings.filterwarnings(action = 'ignore') \n",
    "  \n",
    "import gensim \n",
    "from gensim.models import Word2Vec "
   ]
  },
  {
   "cell_type": "code",
   "execution_count": null,
   "metadata": {},
   "outputs": [],
   "source": [
    "\n",
    "def get_topic_model(tfidf,corpus,dictionary,num_topics,model):\n",
    "\n",
    "    # Num topics, is the dimensionality.\n",
    "    # We reduce the dimension from words to a given number of topics\n",
    "    topic_model = model(tfidf[corpus], id2word=dictionary, num_topics=num_topics)\n",
    "    \n",
    "    # To see topics uncomment:\n",
    "    #for topic in topic_model.print_topics(5):\n",
    "        #print('Topic: {}'.format(topic[0]))\n",
    "        #print(str(topic).replace(' + ', '\\n')) \n",
    "        #print('') \n",
    "return topic_model"
   ]
  },
  {
   "cell_type": "code",
   "execution_count": null,
   "metadata": {},
   "outputs": [],
   "source": [
    "import nltk\n",
    "tokenizer = nltk.RegexpTokenizer(r'\\w+')\n",
    "\n",
    "df_token=df['text_raw']\n",
    "\n",
    "# Convert to lower case:\n",
    "for index in df_token.index:\n",
    "    text=df_token[index]\n",
    "    df_token[index]=text.lower()\n",
    "\n",
    "# Tokenize\n",
    "df_token=df_token.apply(tokenizer.tokenize)\n",
    "df_token.head()"
   ]
  },
  {
   "cell_type": "code",
   "execution_count": null,
   "metadata": {},
   "outputs": [],
   "source": [
    "# make gensim dictionary\n",
    "\n",
    "line_list = df_token.values\n",
    "dictionary = corpora.Dictionary(line_list)\n",
    "# dictionary: 0: \"about\", 1:\"shelter\",...\n",
    "\n",
    "# filter dictionary to remove stopwords and words occurring < min_count times\n",
    "# need to run nltk.download() -> 3 GB downloaded into C:\\Users\\melanie\\AppData\\Roaming\\nltk_data\n",
    "stop_words = nltk.corpus.stopwords.words('english') \n",
    "print(\"Stop words: {}\\n\".format(stop_words[:5]))\n",
    "\n",
    "stop_ids = [dictionary.token2id[word] for word in stop_words\n",
    "            if word in dictionary.token2id]\n",
    "min_count = 2\n",
    "rare_ids = [id for id, freq in dictionary.dfs.items()\n",
    "            if freq < min_count]\n",
    "dictionary.filter_tokens(stop_ids + rare_ids)\n",
    "print(\"Dictionary after filtering:\")\n",
    "print([(key,dictionary[key]) for key in dictionary.keys()[1:5]])\n",
    "dictionary.compactify()"
   ]
  }
 ],
 "metadata": {
  "kernelspec": {
   "display_name": "Python 3",
   "language": "python",
   "name": "python3"
  },
  "language_info": {
   "codemirror_mode": {
    "name": "ipython",
    "version": 3
   },
   "file_extension": ".py",
   "mimetype": "text/x-python",
   "name": "python",
   "nbconvert_exporter": "python",
   "pygments_lexer": "ipython3",
   "version": "3.7.3"
  }
 },
 "nbformat": 4,
 "nbformat_minor": 2
}

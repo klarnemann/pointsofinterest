{
 "cells": [
  {
   "cell_type": "code",
   "execution_count": 60,
   "metadata": {},
   "outputs": [],
   "source": [
    "%matplotlib inline\n",
    "\n",
    "import re\n",
    "import numpy as np\n",
    "import pandas as pd\n",
    "import matplotlib.pyplot as plt"
   ]
  },
  {
   "cell_type": "markdown",
   "metadata": {},
   "source": [
    "https://nationalregisterofhistoricplaces.com/oh/adams/state.html"
   ]
  },
  {
   "cell_type": "code",
   "execution_count": 61,
   "metadata": {},
   "outputs": [],
   "source": [
    "datadir = '/Users/klarnemann/Documents/Insight/Project/data'"
   ]
  },
  {
   "cell_type": "code",
   "execution_count": 62,
   "metadata": {},
   "outputs": [],
   "source": [
    "landmark_df = pd.read_excel('%s/federal_historic_places.xlsx' % (datadir))"
   ]
  },
  {
   "cell_type": "code",
   "execution_count": 63,
   "metadata": {},
   "outputs": [
    {
     "data": {
      "text/plain": [
       "(6385, 61)"
      ]
     },
     "execution_count": 63,
     "metadata": {},
     "output_type": "execute_result"
    }
   ],
   "source": [
    "landmark_df.shape"
   ]
  },
  {
   "cell_type": "code",
   "execution_count": 65,
   "metadata": {},
   "outputs": [
    {
     "name": "stdout",
     "output_type": "stream",
     "text": [
      "Index(['Unnamed: 0', 'Ref#', 'Prefix', 'Property Name', 'Status',\n",
      "       'Request Type', 'Status Date', 'Restricted Address', 'City ', 'County',\n",
      "       'Federal Agencies', 'Other Names', 'State', 'Street & Number',\n",
      "       'Air Force', 'Army Corps Of Engineers', 'Bureau Of Indian Affairs',\n",
      "       'Bureau Of Land Management', 'Bureau Of Mines', 'Bureau Of Reclamation',\n",
      "       'Coast Guard', 'Department Of Agriculture', 'Department Of Commerce',\n",
      "       'Department Of Defense', 'Department Of Energy',\n",
      "       'Department Of Justice', 'Department Of Labor',\n",
      "       'Department Of The Army', 'Department Of The Interior',\n",
      "       'Department Of The Navy', 'Department Of The Treasury',\n",
      "       'Department Of Transportation', 'Economic Development Administration',\n",
      "       'Farmers Home Administration', 'Federal Aviation Administration',\n",
      "       'Federal Communications Commission',\n",
      "       'Federal Deposit Insurance Commission',\n",
      "       'Federal Highway Administration', 'Fish And Wildlife Service',\n",
      "       'Forest Service', 'General Services Administration',\n",
      "       'Geological Survey', 'Health And Human Services Department',\n",
      "       'Housing And Urban Development Department',\n",
      "       'International Boundary And Water Commission', 'Marine Corps',\n",
      "       'National Aeronautics &Amp', 'National Park Service',\n",
      "       'National Science Foundation', 'Nuclear Regulatory Commission',\n",
      "       'Postal Service', 'Small Business Administration',\n",
      "       'Smithsonian Institution', 'Soil Conservation Service',\n",
      "       'Space Administration', 'State Department',\n",
      "       'Tennessee Valley Authority', 'U.S. Department Of Agriculture',\n",
      "       'U.S. Department Of The Interior', 'U.S. Postal Service',\n",
      "       'Veterans Administration'],\n",
      "      dtype='object')\n"
     ]
    }
   ],
   "source": [
    "print(landmark_df.columns)"
   ]
  },
  {
   "cell_type": "code",
   "execution_count": 66,
   "metadata": {},
   "outputs": [
    {
     "data": {
      "text/html": [
       "<div>\n",
       "<style scoped>\n",
       "    .dataframe tbody tr th:only-of-type {\n",
       "        vertical-align: middle;\n",
       "    }\n",
       "\n",
       "    .dataframe tbody tr th {\n",
       "        vertical-align: top;\n",
       "    }\n",
       "\n",
       "    .dataframe thead th {\n",
       "        text-align: right;\n",
       "    }\n",
       "</style>\n",
       "<table border=\"1\" class=\"dataframe\">\n",
       "  <thead>\n",
       "    <tr style=\"text-align: right;\">\n",
       "      <th></th>\n",
       "      <th>Unnamed: 0</th>\n",
       "      <th>Ref#</th>\n",
       "      <th>Prefix</th>\n",
       "      <th>Property Name</th>\n",
       "      <th>Status</th>\n",
       "      <th>Request Type</th>\n",
       "      <th>Status Date</th>\n",
       "      <th>Restricted Address</th>\n",
       "      <th>City</th>\n",
       "      <th>County</th>\n",
       "      <th>...</th>\n",
       "      <th>Small Business Administration</th>\n",
       "      <th>Smithsonian Institution</th>\n",
       "      <th>Soil Conservation Service</th>\n",
       "      <th>Space Administration</th>\n",
       "      <th>State Department</th>\n",
       "      <th>Tennessee Valley Authority</th>\n",
       "      <th>U.S. Department Of Agriculture</th>\n",
       "      <th>U.S. Department Of The Interior</th>\n",
       "      <th>U.S. Postal Service</th>\n",
       "      <th>Veterans Administration</th>\n",
       "    </tr>\n",
       "  </thead>\n",
       "  <tbody>\n",
       "    <tr>\n",
       "      <th>0</th>\n",
       "      <td>0</td>\n",
       "      <td>87002178</td>\n",
       "      <td>NaN</td>\n",
       "      <td>Building 800--Austin Hall</td>\n",
       "      <td>Listed</td>\n",
       "      <td>Single</td>\n",
       "      <td>1988-03-02</td>\n",
       "      <td>False</td>\n",
       "      <td>Montgomery</td>\n",
       "      <td>Montgomery</td>\n",
       "      <td>...</td>\n",
       "      <td>NaN</td>\n",
       "      <td>NaN</td>\n",
       "      <td>NaN</td>\n",
       "      <td>NaN</td>\n",
       "      <td>NaN</td>\n",
       "      <td>NaN</td>\n",
       "      <td>NaN</td>\n",
       "      <td>NaN</td>\n",
       "      <td>NaN</td>\n",
       "      <td>NaN</td>\n",
       "    </tr>\n",
       "    <tr>\n",
       "      <th>1</th>\n",
       "      <td>1</td>\n",
       "      <td>87002182</td>\n",
       "      <td>NaN</td>\n",
       "      <td>Building 836--Community College of the Air For...</td>\n",
       "      <td>Listed</td>\n",
       "      <td>Single</td>\n",
       "      <td>1988-03-02</td>\n",
       "      <td>False</td>\n",
       "      <td>Montgomery</td>\n",
       "      <td>Montgomery</td>\n",
       "      <td>...</td>\n",
       "      <td>NaN</td>\n",
       "      <td>NaN</td>\n",
       "      <td>NaN</td>\n",
       "      <td>NaN</td>\n",
       "      <td>NaN</td>\n",
       "      <td>NaN</td>\n",
       "      <td>NaN</td>\n",
       "      <td>NaN</td>\n",
       "      <td>NaN</td>\n",
       "      <td>NaN</td>\n",
       "    </tr>\n",
       "    <tr>\n",
       "      <th>2</th>\n",
       "      <td>2</td>\n",
       "      <td>87002177</td>\n",
       "      <td>NaN</td>\n",
       "      <td>Maxwell Air Force Base Senior Officer's Quarte...</td>\n",
       "      <td>Listed</td>\n",
       "      <td>Single</td>\n",
       "      <td>1988-03-02</td>\n",
       "      <td>False</td>\n",
       "      <td>Montgomery</td>\n",
       "      <td>Montgomery</td>\n",
       "      <td>...</td>\n",
       "      <td>NaN</td>\n",
       "      <td>NaN</td>\n",
       "      <td>NaN</td>\n",
       "      <td>NaN</td>\n",
       "      <td>NaN</td>\n",
       "      <td>NaN</td>\n",
       "      <td>NaN</td>\n",
       "      <td>NaN</td>\n",
       "      <td>NaN</td>\n",
       "      <td>NaN</td>\n",
       "    </tr>\n",
       "    <tr>\n",
       "      <th>3</th>\n",
       "      <td>3</td>\n",
       "      <td>90000933</td>\n",
       "      <td>NaN</td>\n",
       "      <td>Midvale Archeological Site</td>\n",
       "      <td>Listed</td>\n",
       "      <td>Single</td>\n",
       "      <td>1990-06-14</td>\n",
       "      <td>True</td>\n",
       "      <td>Chandler</td>\n",
       "      <td>Maricopa</td>\n",
       "      <td>...</td>\n",
       "      <td>NaN</td>\n",
       "      <td>NaN</td>\n",
       "      <td>NaN</td>\n",
       "      <td>NaN</td>\n",
       "      <td>NaN</td>\n",
       "      <td>NaN</td>\n",
       "      <td>NaN</td>\n",
       "      <td>NaN</td>\n",
       "      <td>NaN</td>\n",
       "      <td>NaN</td>\n",
       "    </tr>\n",
       "    <tr>\n",
       "      <th>4</th>\n",
       "      <td>4</td>\n",
       "      <td>95000748</td>\n",
       "      <td>NaN</td>\n",
       "      <td>Ammo Bunker (S-1007)</td>\n",
       "      <td>Listed</td>\n",
       "      <td>Multiple</td>\n",
       "      <td>1995-06-19</td>\n",
       "      <td>False</td>\n",
       "      <td>Mesa</td>\n",
       "      <td>Maricopa</td>\n",
       "      <td>...</td>\n",
       "      <td>NaN</td>\n",
       "      <td>NaN</td>\n",
       "      <td>NaN</td>\n",
       "      <td>NaN</td>\n",
       "      <td>NaN</td>\n",
       "      <td>NaN</td>\n",
       "      <td>NaN</td>\n",
       "      <td>NaN</td>\n",
       "      <td>NaN</td>\n",
       "      <td>NaN</td>\n",
       "    </tr>\n",
       "  </tbody>\n",
       "</table>\n",
       "<p>5 rows × 61 columns</p>\n",
       "</div>"
      ],
      "text/plain": [
       "   Unnamed: 0      Ref# Prefix  \\\n",
       "0           0  87002178    NaN   \n",
       "1           1  87002182    NaN   \n",
       "2           2  87002177    NaN   \n",
       "3           3  90000933    NaN   \n",
       "4           4  95000748    NaN   \n",
       "\n",
       "                                       Property Name  Status Request Type  \\\n",
       "0                          Building 800--Austin Hall  Listed       Single   \n",
       "1  Building 836--Community College of the Air For...  Listed       Single   \n",
       "2  Maxwell Air Force Base Senior Officer's Quarte...  Listed       Single   \n",
       "3                         Midvale Archeological Site  Listed       Single   \n",
       "4                               Ammo Bunker (S-1007)  Listed     Multiple   \n",
       "\n",
       "  Status Date  Restricted Address       City       County  ...  \\\n",
       "0  1988-03-02               False  Montgomery  Montgomery  ...   \n",
       "1  1988-03-02               False  Montgomery  Montgomery  ...   \n",
       "2  1988-03-02               False  Montgomery  Montgomery  ...   \n",
       "3  1990-06-14                True    Chandler    Maricopa  ...   \n",
       "4  1995-06-19               False        Mesa    Maricopa  ...   \n",
       "\n",
       "  Small Business Administration Smithsonian Institution  \\\n",
       "0                           NaN                     NaN   \n",
       "1                           NaN                     NaN   \n",
       "2                           NaN                     NaN   \n",
       "3                           NaN                     NaN   \n",
       "4                           NaN                     NaN   \n",
       "\n",
       "  Soil Conservation Service Space Administration  State Department  \\\n",
       "0                       NaN                  NaN               NaN   \n",
       "1                       NaN                  NaN               NaN   \n",
       "2                       NaN                  NaN               NaN   \n",
       "3                       NaN                  NaN               NaN   \n",
       "4                       NaN                  NaN               NaN   \n",
       "\n",
       "   Tennessee Valley Authority  U.S. Department Of Agriculture  \\\n",
       "0                         NaN                             NaN   \n",
       "1                         NaN                             NaN   \n",
       "2                         NaN                             NaN   \n",
       "3                         NaN                             NaN   \n",
       "4                         NaN                             NaN   \n",
       "\n",
       "   U.S. Department Of The Interior  U.S. Postal Service  \\\n",
       "0                              NaN                  NaN   \n",
       "1                              NaN                  NaN   \n",
       "2                              NaN                  NaN   \n",
       "3                              NaN                  NaN   \n",
       "4                              NaN                  NaN   \n",
       "\n",
       "   Veterans Administration  \n",
       "0                      NaN  \n",
       "1                      NaN  \n",
       "2                      NaN  \n",
       "3                      NaN  \n",
       "4                      NaN  \n",
       "\n",
       "[5 rows x 61 columns]"
      ]
     },
     "execution_count": 66,
     "metadata": {},
     "output_type": "execute_result"
    }
   ],
   "source": [
    "landmark_df.head(5)"
   ]
  },
  {
   "cell_type": "code",
   "execution_count": 67,
   "metadata": {},
   "outputs": [
    {
     "data": {
      "image/png": "[encoded data removed]",
      "text/plain": [
       "<Figure size 576x432 with 1 Axes>"
      ]
     },
     "metadata": {
      "needs_background": "light"
     },
     "output_type": "display_data"
    }
   ],
   "source": [
    "plt.figure(figsize=(8,6))\n",
    "plt.bar(np.arange(len(agencies)), landmark_df[agencies].sum())\n",
    "plt.xlim(-1, len(agencies)+0.1)\n",
    "plt.xticks(np.arange(len(agencies)), agencies, rotation=90);\n",
    "plt.ylabel('# Landmarks')\n",
    "plt.tight_layout()\n",
    "#plt.savefig('/Users/klarnemann/Documents/Insight/Project/docs/figures/landmark_agencies.png', dpi=150)"
   ]
  },
  {
   "cell_type": "code",
   "execution_count": null,
   "metadata": {},
   "outputs": [],
   "source": []
  },
  {
   "cell_type": "code",
   "execution_count": null,
   "metadata": {},
   "outputs": [],
   "source": []
  },
  {
   "cell_type": "markdown",
   "metadata": {},
   "source": [
    "# Clean"
   ]
  },
  {
   "cell_type": "code",
   "execution_count": 3,
   "metadata": {},
   "outputs": [],
   "source": [
    "dirty_landmark_df = pd.read_excel('%s/historic_places_federal_listed_20190404.xlsx' % (datadir))"
   ]
  },
  {
   "cell_type": "code",
   "execution_count": 6,
   "metadata": {},
   "outputs": [],
   "source": [
    "agencies = set()\n",
    "for item in dirty_landmark_df['Federal Agencies'].unique():\n",
    "    split_agencies = re.split('; | , | &amp | U.S.', item)\n",
    "    if len(split_agencies) > 1:\n",
    "        for sub_item in split_agencies:\n",
    "            agencies = set.union(agencies, set([sub_item.lstrip().title()]))\n",
    "    else:\n",
    "        agencies = set.union(agencies, set([item.lstrip().title()]))\n",
    "agencies = set.difference(agencies, set(['']))\n",
    "agencies = list(agencies)\n",
    "agencies.sort()"
   ]
  },
  {
   "cell_type": "code",
   "execution_count": 7,
   "metadata": {},
   "outputs": [
    {
     "data": {
      "text/plain": [
       "['Ref#',\n",
       " 'Prefix',\n",
       " 'Property Name',\n",
       " 'Status',\n",
       " 'Request Type',\n",
       " 'Status Date',\n",
       " 'Restricted Address',\n",
       " 'City ',\n",
       " 'County',\n",
       " 'Federal Agencies',\n",
       " 'Other Names',\n",
       " 'State',\n",
       " 'Street & Number',\n",
       " 'Air Force',\n",
       " 'Army Corps Of Engineers',\n",
       " 'Bureau Of Indian Affairs',\n",
       " 'Bureau Of Land Management',\n",
       " 'Bureau Of Mines',\n",
       " 'Bureau Of Reclamation',\n",
       " 'Coast Guard',\n",
       " 'Department Of Agriculture',\n",
       " 'Department Of Commerce',\n",
       " 'Department Of Defense',\n",
       " 'Department Of Energy',\n",
       " 'Department Of Justice',\n",
       " 'Department Of Labor',\n",
       " 'Department Of The Army',\n",
       " 'Department Of The Interior',\n",
       " 'Department Of The Navy',\n",
       " 'Department Of The Treasury',\n",
       " 'Department Of Transportation',\n",
       " 'Economic Development Administration',\n",
       " 'Farmers Home Administration',\n",
       " 'Federal Aviation Administration',\n",
       " 'Federal Communications Commission',\n",
       " 'Federal Deposit Insurance Commission',\n",
       " 'Federal Highway Administration',\n",
       " 'Fish And Wildlife Service',\n",
       " 'Forest Service',\n",
       " 'General Services Administration',\n",
       " 'Geological Survey',\n",
       " 'Health And Human Services Department',\n",
       " 'Housing And Urban Development Department',\n",
       " 'International Boundary And Water Commission',\n",
       " 'Marine Corps',\n",
       " 'National Aeronautics &Amp',\n",
       " 'National Park Service',\n",
       " 'National Science Foundation',\n",
       " 'Nuclear Regulatory Commission',\n",
       " 'Postal Service',\n",
       " 'Small Business Administration',\n",
       " 'Smithsonian Institution',\n",
       " 'Soil Conservation Service',\n",
       " 'Space Administration',\n",
       " 'State Department',\n",
       " 'Tennessee Valley Authority',\n",
       " 'U.S. Department Of Agriculture',\n",
       " 'U.S. Department Of The Interior',\n",
       " 'U.S. Postal Service',\n",
       " 'Veterans Administration']"
      ]
     },
     "execution_count": 7,
     "metadata": {},
     "output_type": "execute_result"
    }
   ],
   "source": [
    "columns = list(dirty_landmark_df.columns) + agencies"
   ]
  },
  {
   "cell_type": "code",
   "execution_count": 13,
   "metadata": {},
   "outputs": [],
   "source": [
    "dirty_landmark_df = dirty_landmark_df.reindex(columns=columns)"
   ]
  },
  {
   "cell_type": "code",
   "execution_count": 14,
   "metadata": {},
   "outputs": [],
   "source": [
    "n_rows, n_cols = dirty_landmark_df.shape"
   ]
  },
  {
   "cell_type": "code",
   "execution_count": 32,
   "metadata": {},
   "outputs": [],
   "source": [
    "for row in np.arange(n_rows):\n",
    "    for agency in agencies:\n",
    "        if agency.lower() in dirty_landmark_df.loc[row, 'Federal Agencies'].lower():\n",
    "            dirty_landmark_df.loc[row, agency] = 1"
   ]
  },
  {
   "cell_type": "code",
   "execution_count": 30,
   "metadata": {},
   "outputs": [
    {
     "data": {
      "text/plain": [
       "True"
      ]
     },
     "execution_count": 30,
     "metadata": {},
     "output_type": "execute_result"
    }
   ],
   "source": [
    "agencies[3].lower() in dirty_landmark_df.loc[row, 'Federal Agencies'].lower()"
   ]
  },
  {
   "cell_type": "code",
   "execution_count": 49,
   "metadata": {},
   "outputs": [],
   "source": [
    "agencies = [x for _, x in sorted(zip(dirty_landmark_df[agencies].sum(),agencies), reverse=True)]"
   ]
  },
  {
   "cell_type": "code",
   "execution_count": null,
   "metadata": {},
   "outputs": [],
   "source": []
  }
 ],
 "metadata": {
  "kernelspec": {
   "display_name": "Python 3",
   "language": "python",
   "name": "python3"
  },
  "language_info": {
   "codemirror_mode": {
    "name": "ipython",
    "version": 3
   },
   "file_extension": ".py",
   "mimetype": "text/x-python",
   "name": "python",
   "nbconvert_exporter": "python",
   "pygments_lexer": "ipython3",
   "version": "3.7.3"
  }
 },
 "nbformat": 4,
 "nbformat_minor": 2
}

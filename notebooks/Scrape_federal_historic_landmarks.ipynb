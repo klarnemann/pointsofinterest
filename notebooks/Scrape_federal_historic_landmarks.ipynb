{
 "cells": [
  {
   "cell_type": "code",
   "execution_count": 151,
   "metadata": {},
   "outputs": [],
   "source": [
    "%matplotlib inline\n",
    "import pandas as pd\n",
    "import numpy as np\n",
    "import wikipedia as wiki\n",
    "import matplotlib.pyplot as plt"
   ]
  },
  {
   "cell_type": "code",
   "execution_count": 2,
   "metadata": {},
   "outputs": [
    {
     "data": {
      "text/html": [
       "<div>\n",
       "<style scoped>\n",
       "    .dataframe tbody tr th:only-of-type {\n",
       "        vertical-align: middle;\n",
       "    }\n",
       "\n",
       "    .dataframe tbody tr th {\n",
       "        vertical-align: top;\n",
       "    }\n",
       "\n",
       "    .dataframe thead th {\n",
       "        text-align: right;\n",
       "    }\n",
       "</style>\n",
       "<table border=\"1\" class=\"dataframe\">\n",
       "  <thead>\n",
       "    <tr style=\"text-align: right;\">\n",
       "      <th></th>\n",
       "      <th>Ref#</th>\n",
       "      <th>Prefix</th>\n",
       "      <th>Property Name</th>\n",
       "      <th>Status</th>\n",
       "      <th>Request Type</th>\n",
       "      <th>Status Date</th>\n",
       "      <th>Restricted Address</th>\n",
       "      <th>City</th>\n",
       "      <th>County</th>\n",
       "      <th>Federal Agencies</th>\n",
       "      <th>...</th>\n",
       "      <th>Smithsonian Institution</th>\n",
       "      <th>Soil Conservation Service</th>\n",
       "      <th>Space Administration</th>\n",
       "      <th>State Department</th>\n",
       "      <th>Tennessee Valley Authority</th>\n",
       "      <th>U.S. Department Of Agriculture</th>\n",
       "      <th>U.S. Department Of The Interior</th>\n",
       "      <th>U.S. Postal Service</th>\n",
       "      <th>Veterans Administration</th>\n",
       "      <th>Article_content</th>\n",
       "    </tr>\n",
       "  </thead>\n",
       "  <tbody>\n",
       "    <tr>\n",
       "      <th>0</th>\n",
       "      <td>87002178</td>\n",
       "      <td>NaN</td>\n",
       "      <td>Building 800--Austin Hall</td>\n",
       "      <td>Listed</td>\n",
       "      <td>Single</td>\n",
       "      <td>1988-03-02</td>\n",
       "      <td>False</td>\n",
       "      <td>Montgomery</td>\n",
       "      <td>Montgomery</td>\n",
       "      <td>AIR FORCE</td>\n",
       "      <td>...</td>\n",
       "      <td>NaN</td>\n",
       "      <td>NaN</td>\n",
       "      <td>NaN</td>\n",
       "      <td>NaN</td>\n",
       "      <td>NaN</td>\n",
       "      <td>NaN</td>\n",
       "      <td>NaN</td>\n",
       "      <td>NaN</td>\n",
       "      <td>NaN</td>\n",
       "      <td></td>\n",
       "    </tr>\n",
       "    <tr>\n",
       "      <th>1</th>\n",
       "      <td>87002182</td>\n",
       "      <td>NaN</td>\n",
       "      <td>Building 836--Community College of the Air For...</td>\n",
       "      <td>Listed</td>\n",
       "      <td>Single</td>\n",
       "      <td>1988-03-02</td>\n",
       "      <td>False</td>\n",
       "      <td>Montgomery</td>\n",
       "      <td>Montgomery</td>\n",
       "      <td>AIR FORCE</td>\n",
       "      <td>...</td>\n",
       "      <td>NaN</td>\n",
       "      <td>NaN</td>\n",
       "      <td>NaN</td>\n",
       "      <td>NaN</td>\n",
       "      <td>NaN</td>\n",
       "      <td>NaN</td>\n",
       "      <td>NaN</td>\n",
       "      <td>NaN</td>\n",
       "      <td>NaN</td>\n",
       "      <td></td>\n",
       "    </tr>\n",
       "    <tr>\n",
       "      <th>2</th>\n",
       "      <td>87002177</td>\n",
       "      <td>NaN</td>\n",
       "      <td>Maxwell Air Force Base Senior Officer's Quarte...</td>\n",
       "      <td>Listed</td>\n",
       "      <td>Single</td>\n",
       "      <td>1988-03-02</td>\n",
       "      <td>False</td>\n",
       "      <td>Montgomery</td>\n",
       "      <td>Montgomery</td>\n",
       "      <td>AIR FORCE</td>\n",
       "      <td>...</td>\n",
       "      <td>NaN</td>\n",
       "      <td>NaN</td>\n",
       "      <td>NaN</td>\n",
       "      <td>NaN</td>\n",
       "      <td>NaN</td>\n",
       "      <td>NaN</td>\n",
       "      <td>NaN</td>\n",
       "      <td>NaN</td>\n",
       "      <td>NaN</td>\n",
       "      <td></td>\n",
       "    </tr>\n",
       "    <tr>\n",
       "      <th>3</th>\n",
       "      <td>90000933</td>\n",
       "      <td>NaN</td>\n",
       "      <td>Midvale Archeological Site</td>\n",
       "      <td>Listed</td>\n",
       "      <td>Single</td>\n",
       "      <td>1990-06-14</td>\n",
       "      <td>True</td>\n",
       "      <td>Chandler</td>\n",
       "      <td>Maricopa</td>\n",
       "      <td>AIR FORCE</td>\n",
       "      <td>...</td>\n",
       "      <td>NaN</td>\n",
       "      <td>NaN</td>\n",
       "      <td>NaN</td>\n",
       "      <td>NaN</td>\n",
       "      <td>NaN</td>\n",
       "      <td>NaN</td>\n",
       "      <td>NaN</td>\n",
       "      <td>NaN</td>\n",
       "      <td>NaN</td>\n",
       "      <td></td>\n",
       "    </tr>\n",
       "    <tr>\n",
       "      <th>4</th>\n",
       "      <td>95000748</td>\n",
       "      <td>NaN</td>\n",
       "      <td>Ammo Bunker (S-1007)</td>\n",
       "      <td>Listed</td>\n",
       "      <td>Multiple</td>\n",
       "      <td>1995-06-19</td>\n",
       "      <td>False</td>\n",
       "      <td>Mesa</td>\n",
       "      <td>Maricopa</td>\n",
       "      <td>AIR FORCE</td>\n",
       "      <td>...</td>\n",
       "      <td>NaN</td>\n",
       "      <td>NaN</td>\n",
       "      <td>NaN</td>\n",
       "      <td>NaN</td>\n",
       "      <td>NaN</td>\n",
       "      <td>NaN</td>\n",
       "      <td>NaN</td>\n",
       "      <td>NaN</td>\n",
       "      <td>NaN</td>\n",
       "      <td></td>\n",
       "    </tr>\n",
       "  </tbody>\n",
       "</table>\n",
       "<p>5 rows × 61 columns</p>\n",
       "</div>"
      ],
      "text/plain": [
       "       Ref# Prefix                                      Property Name  Status  \\\n",
       "0  87002178    NaN                          Building 800--Austin Hall  Listed   \n",
       "1  87002182    NaN  Building 836--Community College of the Air For...  Listed   \n",
       "2  87002177    NaN  Maxwell Air Force Base Senior Officer's Quarte...  Listed   \n",
       "3  90000933    NaN                         Midvale Archeological Site  Listed   \n",
       "4  95000748    NaN                               Ammo Bunker (S-1007)  Listed   \n",
       "\n",
       "  Request Type Status Date  Restricted Address       City       County  \\\n",
       "0       Single  1988-03-02               False  Montgomery  Montgomery   \n",
       "1       Single  1988-03-02               False  Montgomery  Montgomery   \n",
       "2       Single  1988-03-02               False  Montgomery  Montgomery   \n",
       "3       Single  1990-06-14                True    Chandler    Maricopa   \n",
       "4     Multiple  1995-06-19               False        Mesa    Maricopa   \n",
       "\n",
       "  Federal Agencies  ... Smithsonian Institution Soil Conservation Service  \\\n",
       "0        AIR FORCE  ...                     NaN                       NaN   \n",
       "1        AIR FORCE  ...                     NaN                       NaN   \n",
       "2        AIR FORCE  ...                     NaN                       NaN   \n",
       "3        AIR FORCE  ...                     NaN                       NaN   \n",
       "4        AIR FORCE  ...                     NaN                       NaN   \n",
       "\n",
       "  Space Administration  State Department  Tennessee Valley Authority  \\\n",
       "0                  NaN               NaN                         NaN   \n",
       "1                  NaN               NaN                         NaN   \n",
       "2                  NaN               NaN                         NaN   \n",
       "3                  NaN               NaN                         NaN   \n",
       "4                  NaN               NaN                         NaN   \n",
       "\n",
       "   U.S. Department Of Agriculture  U.S. Department Of The Interior  \\\n",
       "0                             NaN                              NaN   \n",
       "1                             NaN                              NaN   \n",
       "2                             NaN                              NaN   \n",
       "3                             NaN                              NaN   \n",
       "4                             NaN                              NaN   \n",
       "\n",
       "   U.S. Postal Service  Veterans Administration  Article_content  \n",
       "0                  NaN                      NaN                   \n",
       "1                  NaN                      NaN                   \n",
       "2                  NaN                      NaN                   \n",
       "3                  NaN                      NaN                   \n",
       "4                  NaN                      NaN                   \n",
       "\n",
       "[5 rows x 61 columns]"
      ]
     },
     "execution_count": 2,
     "metadata": {},
     "output_type": "execute_result"
    }
   ],
   "source": [
    "datadir = '/Users/klarnemann/Documents/Insight/Insight_project/data'\n",
    "fhp_df_f = '%s/federal_historic_places.xlsx' % (datadir)\n",
    "fhp_df = pd.read_excel(fhp_df_f, index_col=0)\n",
    "fhp_df['Article_content'] = ''\n",
    "fhp_df.head()"
   ]
  },
  {
   "cell_type": "code",
   "execution_count": 120,
   "metadata": {},
   "outputs": [
    {
     "data": {
      "text/plain": [
       "(6385, 61)"
      ]
     },
     "execution_count": 120,
     "metadata": {},
     "output_type": "execute_result"
    }
   ],
   "source": [
    "fhp_df.shape"
   ]
  },
  {
   "cell_type": "code",
   "execution_count": 3,
   "metadata": {},
   "outputs": [
    {
     "name": "stdout",
     "output_type": "stream",
     "text": [
      "0\n"
     ]
    },
    {
     "name": "stderr",
     "output_type": "stream",
     "text": [
      "/Users/klarnemann/anaconda3/lib/python3.7/site-packages/wikipedia/wikipedia.py:389: UserWarning: No parser was explicitly specified, so I'm using the best available HTML parser for this system (\"lxml\"). This usually isn't a problem, but if you run this code on another system, or in a different virtual environment, it may use a different parser and behave differently.\n",
      "\n",
      "The code that caused this warning is on line 389 of the file /Users/klarnemann/anaconda3/lib/python3.7/site-packages/wikipedia/wikipedia.py. To get rid of this warning, pass the additional argument 'features=\"lxml\"' to the BeautifulSoup constructor.\n",
      "\n",
      "  lis = BeautifulSoup(html).find_all('li')\n"
     ]
    },
    {
     "name": "stdout",
     "output_type": "stream",
     "text": [
      "100\n",
      "200\n",
      "300\n",
      "400\n",
      "500\n",
      "600\n",
      "700\n",
      "800\n",
      "900\n",
      "1000\n",
      "1100\n",
      "1200\n",
      "1300\n",
      "1400\n",
      "1500\n",
      "1600\n",
      "1700\n",
      "1800\n",
      "1900\n",
      "2000\n",
      "2100\n",
      "2200\n",
      "2300\n",
      "2400\n",
      "2500\n",
      "2600\n",
      "2700\n",
      "2800\n",
      "2900\n",
      "3000\n",
      "3100\n",
      "3200\n",
      "3300\n",
      "3400\n",
      "3500\n",
      "3600\n",
      "3700\n",
      "3800\n",
      "3900\n",
      "4000\n",
      "4100\n",
      "4200\n",
      "4300\n",
      "4400\n",
      "4500\n",
      "4600\n",
      "4700\n",
      "4800\n",
      "4900\n",
      "5000\n",
      "5100\n",
      "5200\n",
      "5300\n",
      "5400\n",
      "5500\n",
      "5600\n",
      "5700\n",
      "5800\n",
      "5900\n",
      "6000\n",
      "6100\n",
      "6200\n",
      "6300\n"
     ]
    }
   ],
   "source": [
    "content = []\n",
    "for i, title in enumerate(fhp_df['Property Name'].values):\n",
    "    try:\n",
    "        tmp = wiki.page(title).content\n",
    "        content.append(tmp)\n",
    "    except:\n",
    "        content.append('')\n",
    "    if i % 100 == 0:\n",
    "        print(i)"
   ]
  },
  {
   "cell_type": "code",
   "execution_count": 4,
   "metadata": {},
   "outputs": [],
   "source": [
    "fhp_df['Article_content'] = content\n",
    "fhp_df.to_excel(fhp_df_f)"
   ]
  },
  {
   "cell_type": "code",
   "execution_count": 5,
   "metadata": {},
   "outputs": [
    {
     "data": {
      "text/html": [
       "<div>\n",
       "<style scoped>\n",
       "    .dataframe tbody tr th:only-of-type {\n",
       "        vertical-align: middle;\n",
       "    }\n",
       "\n",
       "    .dataframe tbody tr th {\n",
       "        vertical-align: top;\n",
       "    }\n",
       "\n",
       "    .dataframe thead th {\n",
       "        text-align: right;\n",
       "    }\n",
       "</style>\n",
       "<table border=\"1\" class=\"dataframe\">\n",
       "  <thead>\n",
       "    <tr style=\"text-align: right;\">\n",
       "      <th></th>\n",
       "      <th>Ref#</th>\n",
       "      <th>Prefix</th>\n",
       "      <th>Property Name</th>\n",
       "      <th>Status</th>\n",
       "      <th>Request Type</th>\n",
       "      <th>Status Date</th>\n",
       "      <th>Restricted Address</th>\n",
       "      <th>City</th>\n",
       "      <th>County</th>\n",
       "      <th>Federal Agencies</th>\n",
       "      <th>...</th>\n",
       "      <th>Smithsonian Institution</th>\n",
       "      <th>Soil Conservation Service</th>\n",
       "      <th>Space Administration</th>\n",
       "      <th>State Department</th>\n",
       "      <th>Tennessee Valley Authority</th>\n",
       "      <th>U.S. Department Of Agriculture</th>\n",
       "      <th>U.S. Department Of The Interior</th>\n",
       "      <th>U.S. Postal Service</th>\n",
       "      <th>Veterans Administration</th>\n",
       "      <th>Article_content</th>\n",
       "    </tr>\n",
       "  </thead>\n",
       "  <tbody>\n",
       "    <tr>\n",
       "      <th>0</th>\n",
       "      <td>87002178</td>\n",
       "      <td>NaN</td>\n",
       "      <td>Building 800--Austin Hall</td>\n",
       "      <td>Listed</td>\n",
       "      <td>Single</td>\n",
       "      <td>1988-03-02</td>\n",
       "      <td>False</td>\n",
       "      <td>Montgomery</td>\n",
       "      <td>Montgomery</td>\n",
       "      <td>AIR FORCE</td>\n",
       "      <td>...</td>\n",
       "      <td>NaN</td>\n",
       "      <td>NaN</td>\n",
       "      <td>NaN</td>\n",
       "      <td>NaN</td>\n",
       "      <td>NaN</td>\n",
       "      <td>NaN</td>\n",
       "      <td>NaN</td>\n",
       "      <td>NaN</td>\n",
       "      <td>NaN</td>\n",
       "      <td>Building 800–Austin Hall is located in Montgom...</td>\n",
       "    </tr>\n",
       "    <tr>\n",
       "      <th>1</th>\n",
       "      <td>87002182</td>\n",
       "      <td>NaN</td>\n",
       "      <td>Building 836--Community College of the Air For...</td>\n",
       "      <td>Listed</td>\n",
       "      <td>Single</td>\n",
       "      <td>1988-03-02</td>\n",
       "      <td>False</td>\n",
       "      <td>Montgomery</td>\n",
       "      <td>Montgomery</td>\n",
       "      <td>AIR FORCE</td>\n",
       "      <td>...</td>\n",
       "      <td>NaN</td>\n",
       "      <td>NaN</td>\n",
       "      <td>NaN</td>\n",
       "      <td>NaN</td>\n",
       "      <td>NaN</td>\n",
       "      <td>NaN</td>\n",
       "      <td>NaN</td>\n",
       "      <td>NaN</td>\n",
       "      <td>NaN</td>\n",
       "      <td>Simler Hall (also known as Building 836) is th...</td>\n",
       "    </tr>\n",
       "    <tr>\n",
       "      <th>2</th>\n",
       "      <td>87002177</td>\n",
       "      <td>NaN</td>\n",
       "      <td>Maxwell Air Force Base Senior Officer's Quarte...</td>\n",
       "      <td>Listed</td>\n",
       "      <td>Single</td>\n",
       "      <td>1988-03-02</td>\n",
       "      <td>False</td>\n",
       "      <td>Montgomery</td>\n",
       "      <td>Montgomery</td>\n",
       "      <td>AIR FORCE</td>\n",
       "      <td>...</td>\n",
       "      <td>NaN</td>\n",
       "      <td>NaN</td>\n",
       "      <td>NaN</td>\n",
       "      <td>NaN</td>\n",
       "      <td>NaN</td>\n",
       "      <td>NaN</td>\n",
       "      <td>NaN</td>\n",
       "      <td>NaN</td>\n",
       "      <td>NaN</td>\n",
       "      <td>The Maxwell Air Force Base Senior Officer's Qu...</td>\n",
       "    </tr>\n",
       "    <tr>\n",
       "      <th>3</th>\n",
       "      <td>90000933</td>\n",
       "      <td>NaN</td>\n",
       "      <td>Midvale Archeological Site</td>\n",
       "      <td>Listed</td>\n",
       "      <td>Single</td>\n",
       "      <td>1990-06-14</td>\n",
       "      <td>True</td>\n",
       "      <td>Chandler</td>\n",
       "      <td>Maricopa</td>\n",
       "      <td>AIR FORCE</td>\n",
       "      <td>...</td>\n",
       "      <td>NaN</td>\n",
       "      <td>NaN</td>\n",
       "      <td>NaN</td>\n",
       "      <td>NaN</td>\n",
       "      <td>NaN</td>\n",
       "      <td>NaN</td>\n",
       "      <td>NaN</td>\n",
       "      <td>NaN</td>\n",
       "      <td>NaN</td>\n",
       "      <td>This is a list of the National Register of His...</td>\n",
       "    </tr>\n",
       "    <tr>\n",
       "      <th>4</th>\n",
       "      <td>95000748</td>\n",
       "      <td>NaN</td>\n",
       "      <td>Ammo Bunker (S-1007)</td>\n",
       "      <td>Listed</td>\n",
       "      <td>Multiple</td>\n",
       "      <td>1995-06-19</td>\n",
       "      <td>False</td>\n",
       "      <td>Mesa</td>\n",
       "      <td>Maricopa</td>\n",
       "      <td>AIR FORCE</td>\n",
       "      <td>...</td>\n",
       "      <td>NaN</td>\n",
       "      <td>NaN</td>\n",
       "      <td>NaN</td>\n",
       "      <td>NaN</td>\n",
       "      <td>NaN</td>\n",
       "      <td>NaN</td>\n",
       "      <td>NaN</td>\n",
       "      <td>NaN</td>\n",
       "      <td>NaN</td>\n",
       "      <td>Williams Air Force Base is a former United Sta...</td>\n",
       "    </tr>\n",
       "  </tbody>\n",
       "</table>\n",
       "<p>5 rows × 61 columns</p>\n",
       "</div>"
      ],
      "text/plain": [
       "       Ref# Prefix                                      Property Name  Status  \\\n",
       "0  87002178    NaN                          Building 800--Austin Hall  Listed   \n",
       "1  87002182    NaN  Building 836--Community College of the Air For...  Listed   \n",
       "2  87002177    NaN  Maxwell Air Force Base Senior Officer's Quarte...  Listed   \n",
       "3  90000933    NaN                         Midvale Archeological Site  Listed   \n",
       "4  95000748    NaN                               Ammo Bunker (S-1007)  Listed   \n",
       "\n",
       "  Request Type Status Date  Restricted Address       City       County  \\\n",
       "0       Single  1988-03-02               False  Montgomery  Montgomery   \n",
       "1       Single  1988-03-02               False  Montgomery  Montgomery   \n",
       "2       Single  1988-03-02               False  Montgomery  Montgomery   \n",
       "3       Single  1990-06-14                True    Chandler    Maricopa   \n",
       "4     Multiple  1995-06-19               False        Mesa    Maricopa   \n",
       "\n",
       "  Federal Agencies  ... Smithsonian Institution Soil Conservation Service  \\\n",
       "0        AIR FORCE  ...                     NaN                       NaN   \n",
       "1        AIR FORCE  ...                     NaN                       NaN   \n",
       "2        AIR FORCE  ...                     NaN                       NaN   \n",
       "3        AIR FORCE  ...                     NaN                       NaN   \n",
       "4        AIR FORCE  ...                     NaN                       NaN   \n",
       "\n",
       "  Space Administration  State Department  Tennessee Valley Authority  \\\n",
       "0                  NaN               NaN                         NaN   \n",
       "1                  NaN               NaN                         NaN   \n",
       "2                  NaN               NaN                         NaN   \n",
       "3                  NaN               NaN                         NaN   \n",
       "4                  NaN               NaN                         NaN   \n",
       "\n",
       "   U.S. Department Of Agriculture  U.S. Department Of The Interior  \\\n",
       "0                             NaN                              NaN   \n",
       "1                             NaN                              NaN   \n",
       "2                             NaN                              NaN   \n",
       "3                             NaN                              NaN   \n",
       "4                             NaN                              NaN   \n",
       "\n",
       "   U.S. Postal Service  Veterans Administration  \\\n",
       "0                  NaN                      NaN   \n",
       "1                  NaN                      NaN   \n",
       "2                  NaN                      NaN   \n",
       "3                  NaN                      NaN   \n",
       "4                  NaN                      NaN   \n",
       "\n",
       "                                     Article_content  \n",
       "0  Building 800–Austin Hall is located in Montgom...  \n",
       "1  Simler Hall (also known as Building 836) is th...  \n",
       "2  The Maxwell Air Force Base Senior Officer's Qu...  \n",
       "3  This is a list of the National Register of His...  \n",
       "4  Williams Air Force Base is a former United Sta...  \n",
       "\n",
       "[5 rows x 61 columns]"
      ]
     },
     "execution_count": 5,
     "metadata": {},
     "output_type": "execute_result"
    }
   ],
   "source": [
    "fhp_df.head()"
   ]
  },
  {
   "cell_type": "code",
   "execution_count": 52,
   "metadata": {},
   "outputs": [],
   "source": [
    "fhp_df = fhp_df.rename(columns={'National Aeronautics &Amp': 'NASA'})\n",
    "fhp_df = fhp_df.drop('Space Administration', axis=1)"
   ]
  },
  {
   "cell_type": "code",
   "execution_count": 75,
   "metadata": {},
   "outputs": [],
   "source": [
    "def get_col_items(col):\n",
    "    return fhp_df[['Property Name', 'Article_content']][fhp_df[col]==1]"
   ]
  },
  {
   "cell_type": "code",
   "execution_count": 103,
   "metadata": {},
   "outputs": [],
   "source": [
    "keyword_dict = \\\n",
    "{'site' : 'Anthropology/Archaeology', \n",
    "'bunker' : 'Military', \n",
    "'hanger' : 'Military', \n",
    "'ammo' : 'Military',\n",
    "'estate' : 'Historic site'\n",
    "'archeological' : 'Anthropology/Archaeology', \n",
    "'air force station' : 'Military'\n",
    "'laboratory' : 'Science'\n",
    "'fort' : 'Military', \n",
    "'historic district' : 'Historic district', \n",
    "'post office' : 'Historic site',\n",
    "'lighthouse' : 'Historic site', \n",
    "'dam' : 'Industry',\n",
    "'cabin' : 'Historic site', \n",
    "'house' : 'Historic site',\n",
    "'lodge' : 'Historic site'\n",
    "'base' : 'Military',\n",
    "'petroglyphs' : 'Anthropology/Archaeology',\n",
    "'barracks' : 'Military',\n",
    "'reservoir' : 'Nature', \n",
    "'cemetery' : 'Cemetery'\n",
    "'hospital' : 'Public service'}"
   ]
  },
  {
   "cell_type": "code",
   "execution_count": null,
   "metadata": {},
   "outputs": [],
   "source": [
    "['Air Force'], ['Military']\n",
    "['Army Corps Of Engineers'], ['Technology', 'Industry']\n",
    "['Bureau Of Indian Affairs'], ['Heritage', 'Anthropology/Archaeology']\n",
    "['Bureau Of Land Management'], ['Nature', 'Anthropology/Archaeology']\n",
    "['Bureau Of Mines'], ['Industry']\n",
    "['Bureau Of Reclamation'], ['Industry', 'Technology', \"Anthropology/Archaeology\"]\n",
    "['Coast Guard'], ['Industry', 'Transportation']\n",
    "['Department Of Agriculture'], ['Agriculture', 'Anthropology/Archaeology', 'Nature']\n",
    "['Department Of Commerce'], ['Military']\n",
    "['Department Of Defense'], ['Military', 'History']\n",
    "['Department Of Energy'], ['Industry', 'Anthropology/Archaeology']\n",
    "['Department Of Justice'], ['Government']\n",
    "['Department Of Labor'], ['Public service']\n",
    "['Department Of The Army'], ['Military']\n",
    "['Department Of The Interior'], ['Military', 'History', 'Transportation']\n",
    "['Department Of The Navy'], ['Military', 'Transportation', 'History']\n",
    "['Department Of The Treasury'], ['Business']\n",
    "['Department Of Transportation'], ['Transportation']\n",
    "['Economic Development Administration'], ['Anthropology/Archaeology']\n",
    "['Farmers Home Administration'], ['Anthropology/Archaeology', 'History']\n",
    "['Federal Aviation Administration'], ['Transportation']\n",
    "['Federal Communications Commission'], ['Technology']\n",
    "['Federal Deposit Insurance Commission'], ['']\n",
    "['Federal Highway Administration'], ['Industry']\n",
    "['Fish And Wildlife Service'], ['Anthropology/Archaeology', 'Industry', 'Agriculture']\n",
    "['Forest Service'], ['Nature', 'History', 'Anthropology/Archaeology']\n",
    "['General Services Administration'], ['Military', 'Public service', 'Government', 'History']\n",
    "['Geological Survey'], ['']\n",
    "['Health And Human Services Department'], ['Public service','History']\n",
    "['Housing And Urban Development Department'], ['Public service', 'History']\n",
    "['International Boundary And Water Commission'], ['']\n",
    "['Marine Corps'], ['Military']\n",
    "['NASA'], ['Science', 'Transportation', 'Technology']\n",
    "['National Park Service'], ['Nature', 'History', 'Anthropology/Archaeology']\n",
    "['National Science Foundation'], ['Science']\n",
    "['Nuclear Regulatory Commission'], ['Technology', 'Science']\n",
    "['Postal Service'], ['History', 'Public service']\n",
    "['Small Business Administration'], ['Industry']\n",
    "['Smithsonian Institution'], ['History', 'Art']\n",
    "['Soil Conservation Service'], ['Anthropology/Archaeology']\n",
    "['State Department'], ['Government']\n",
    "['Tennessee Valley Authority'], ['Industry', 'Technology']\n",
    "['U.S. Department Of Agriculture'], ['Industry', 'Anthropology/Archaeology', 'Heritage', 'Nature', 'Public Service']\n",
    "['U.S. Department Of The Interior'], ['Military']\n",
    "['U.S. Postal Service'], ['Public service', 'History']\n",
    "['Veterans Administration'], ['Military', 'Public Service']"
   ]
  },
  {
   "cell_type": "code",
   "execution_count": 36,
   "metadata": {},
   "outputs": [],
   "source": [
    "locations = []\n",
    "for i in fhp_df.index:\n",
    "    try:\n",
    "        city = df.loc[i, 'City ']\n",
    "        city = city.title().strip()\n",
    "        state = df.loc[i, 'State']\n",
    "        state = state.title().strip()\n",
    "        location = '%s, %s' % (city, state)\n",
    "        locations.append(location)\n",
    "    except:\n",
    "        locations.append('')"
   ]
  },
  {
   "cell_type": "code",
   "execution_count": 39,
   "metadata": {},
   "outputs": [],
   "source": [
    "fhp_df.insert(3, 'Location', locations)"
   ]
  },
  {
   "cell_type": "code",
   "execution_count": 119,
   "metadata": {},
   "outputs": [],
   "source": [
    "fhp_df.to_excel(fhp_df_f)"
   ]
  },
  {
   "cell_type": "code",
   "execution_count": 40,
   "metadata": {},
   "outputs": [
    {
     "data": {
      "text/html": [
       "<div>\n",
       "<style scoped>\n",
       "    .dataframe tbody tr th:only-of-type {\n",
       "        vertical-align: middle;\n",
       "    }\n",
       "\n",
       "    .dataframe tbody tr th {\n",
       "        vertical-align: top;\n",
       "    }\n",
       "\n",
       "    .dataframe thead th {\n",
       "        text-align: right;\n",
       "    }\n",
       "</style>\n",
       "<table border=\"1\" class=\"dataframe\">\n",
       "  <thead>\n",
       "    <tr style=\"text-align: right;\">\n",
       "      <th></th>\n",
       "      <th>Property Name</th>\n",
       "      <th>Location</th>\n",
       "      <th>Article_content</th>\n",
       "    </tr>\n",
       "  </thead>\n",
       "  <tbody>\n",
       "    <tr>\n",
       "      <th>0</th>\n",
       "      <td>Building 800--Austin Hall</td>\n",
       "      <td>Montgomery, Alabama</td>\n",
       "      <td>Building 800–Austin Hall is located in Montgom...</td>\n",
       "    </tr>\n",
       "    <tr>\n",
       "      <th>1</th>\n",
       "      <td>Building 836--Community College of the Air For...</td>\n",
       "      <td>Montgomery, Alabama</td>\n",
       "      <td>Simler Hall (also known as Building 836) is th...</td>\n",
       "    </tr>\n",
       "    <tr>\n",
       "      <th>2</th>\n",
       "      <td>Maxwell Air Force Base Senior Officer's Quarte...</td>\n",
       "      <td>Montgomery, Alabama</td>\n",
       "      <td>The Maxwell Air Force Base Senior Officer's Qu...</td>\n",
       "    </tr>\n",
       "    <tr>\n",
       "      <th>3</th>\n",
       "      <td>Midvale Archeological Site</td>\n",
       "      <td>Chandler, Arizona</td>\n",
       "      <td>This is a list of the National Register of His...</td>\n",
       "    </tr>\n",
       "    <tr>\n",
       "      <th>4</th>\n",
       "      <td>Ammo Bunker (S-1007)</td>\n",
       "      <td>Mesa, Arizona</td>\n",
       "      <td>Williams Air Force Base is a former United Sta...</td>\n",
       "    </tr>\n",
       "  </tbody>\n",
       "</table>\n",
       "</div>"
      ],
      "text/plain": [
       "                                       Property Name             Location  \\\n",
       "0                          Building 800--Austin Hall  Montgomery, Alabama   \n",
       "1  Building 836--Community College of the Air For...  Montgomery, Alabama   \n",
       "2  Maxwell Air Force Base Senior Officer's Quarte...  Montgomery, Alabama   \n",
       "3                         Midvale Archeological Site    Chandler, Arizona   \n",
       "4                               Ammo Bunker (S-1007)        Mesa, Arizona   \n",
       "\n",
       "                                     Article_content  \n",
       "0  Building 800–Austin Hall is located in Montgom...  \n",
       "1  Simler Hall (also known as Building 836) is th...  \n",
       "2  The Maxwell Air Force Base Senior Officer's Qu...  \n",
       "3  This is a list of the National Register of His...  \n",
       "4  Williams Air Force Base is a former United Sta...  "
      ]
     },
     "execution_count": 40,
     "metadata": {},
     "output_type": "execute_result"
    }
   ],
   "source": [
    "df = fhp_df[['Property Name', 'Location', 'Article_content']]\n",
    "df.head()"
   ]
  },
  {
   "cell_type": "code",
   "execution_count": 11,
   "metadata": {},
   "outputs": [
    {
     "data": {
      "text/plain": [
       "(5516,)"
      ]
     },
     "execution_count": 11,
     "metadata": {},
     "output_type": "execute_result"
    }
   ],
   "source": [
    "fhp_df.Article_content[fhp_df.Article_content != ''].shape"
   ]
  },
  {
   "cell_type": "code",
   "execution_count": 12,
   "metadata": {},
   "outputs": [
    {
     "data": {
      "text/plain": [
       "(6385, 61)"
      ]
     },
     "execution_count": 12,
     "metadata": {},
     "output_type": "execute_result"
    }
   ],
   "source": [
    "fhp_df.shape"
   ]
  },
  {
   "cell_type": "code",
   "execution_count": 13,
   "metadata": {},
   "outputs": [
    {
     "data": {
      "text/plain": [
       "0.8638997650743931"
      ]
     },
     "execution_count": 13,
     "metadata": {},
     "output_type": "execute_result"
    }
   ],
   "source": [
    "5516. / 6385"
   ]
  },
  {
   "cell_type": "code",
   "execution_count": 135,
   "metadata": {},
   "outputs": [],
   "source": [
    "fhp_count_by_city = fhp_count_by_city.drop('')"
   ]
  },
  {
   "cell_type": "code",
   "execution_count": 144,
   "metadata": {},
   "outputs": [
    {
     "name": "stdout",
     "output_type": "stream",
     "text": [
      "0.326955824902334\n"
     ]
    }
   ],
   "source": [
    "fhp_count_by_city.shape\n",
    "n_cities = 3264\n",
    "print(n_cities/9983.)"
   ]
  },
  {
   "cell_type": "code",
   "execution_count": 147,
   "metadata": {},
   "outputs": [],
   "source": [
    "figdir = '/Users/klarnemann/Documents/Insight/Insight_project/docs/figures'"
   ]
  },
  {
   "cell_type": "code",
   "execution_count": 153,
   "metadata": {},
   "outputs": [
    {
     "data": {
      "image/png": "[encoded data removed]",
      "text/plain": [
       "<Figure size 432x288 with 1 Axes>"
      ]
     },
     "metadata": {
      "needs_background": "light"
     },
     "output_type": "display_data"
    }
   ],
   "source": [
    "plt.figure(figsize=(6,4));\n",
    "plt.hist(fhp_count_by_city, bins=303);\n",
    "plt.xlim(0,20);\n",
    "plt.xlabel('# Registered historic landmarks', fontsize=14);\n",
    "plt.xticks(np.linspace(0,20,11), np.linspace(0,20,11, dtype=int))\n",
    "plt.ylabel('# Cities', fontsize=14);\n",
    "plt.tight_layout()\n",
    "plt.savefig('%s/hist_n_historic_landmarks_in_cities.png' % (figdir), dpi=150, transparent=True)"
   ]
  },
  {
   "cell_type": "code",
   "execution_count": 115,
   "metadata": {},
   "outputs": [],
   "source": [
    "fhp_count_by_city = fhp_df.groupby('Location')['Property Name'].count()"
   ]
  },
  {
   "cell_type": "code",
   "execution_count": 118,
   "metadata": {},
   "outputs": [],
   "source": [
    "fhp_count_by_city.to_excel('Federal_history_place_count_by_city.xlsx')"
   ]
  },
  {
   "cell_type": "code",
   "execution_count": null,
   "metadata": {},
   "outputs": [],
   "source": []
  },
  {
   "cell_type": "code",
   "execution_count": null,
   "metadata": {},
   "outputs": [],
   "source": []
  },
  {
   "cell_type": "code",
   "execution_count": null,
   "metadata": {},
   "outputs": [],
   "source": []
  },
  {
   "cell_type": "code",
   "execution_count": null,
   "metadata": {},
   "outputs": [],
   "source": []
  },
  {
   "cell_type": "code",
   "execution_count": null,
   "metadata": {},
   "outputs": [],
   "source": []
  },
  {
   "cell_type": "code",
   "execution_count": null,
   "metadata": {},
   "outputs": [],
   "source": []
  },
  {
   "cell_type": "code",
   "execution_count": null,
   "metadata": {},
   "outputs": [],
   "source": []
  },
  {
   "cell_type": "code",
   "execution_count": null,
   "metadata": {},
   "outputs": [],
   "source": [
    "  "
   ]
  },
  {
   "cell_type": "code",
   "execution_count": null,
   "metadata": {},
   "outputs": [],
   "source": [
    "   "
   ]
  },
  {
   "cell_type": "code",
   "execution_count": null,
   "metadata": {},
   "outputs": [],
   "source": [
    "                 bgbgggbyyybdffyfddy yfdfdydd fddydyyyyyyyyydydyyyyyydy fdfdfdffdfdddfdfdfdffdffffffffffffffffffffffffffffffffffffdffffffffffffffffffffffffffffffffffffffffffffffffffffffffffffffdddffdfffdfffffffffffffffffffffdyffffffffdfydfyfyyfyyffyfffyfyyfyffyyyyyfyffyyyyyyffyyfyyyyyyyyfyffyyfyyfyfyffyyydyyydyfdffffdfyfffyj/g/jj/jjjjj/j///////j/jygg                   gygg                                                                                                                                                                                                  g                                                                                                                                                                                                                                                                                                                                                                                                                                                                                       gfdgfdddfx                                             xf   f ffgggg             xxgg                                                                       g               g          gxxgggxgggxgxggxxxgxxxgf                                                                                    fxgddfxg zgxgxgxdff   fdfdf fddfddf  f      ddddddddddddd"
   ]
  }
 ],
 "metadata": {
  "kernelspec": {
   "display_name": "Python 3",
   "language": "python",
   "name": "python3"
  },
  "language_info": {
   "codemirror_mode": {
    "name": "ipython",
    "version": 3
   },
   "file_extension": ".py",
   "mimetype": "text/x-python",
   "name": "python",
   "nbconvert_exporter": "python",
   "pygments_lexer": "ipython3",
   "version": "3.7.3"
  }
 },
 "nbformat": 4,
 "nbformat_minor": 2
}

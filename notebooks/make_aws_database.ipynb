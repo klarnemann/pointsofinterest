{
 "cells": [
  {
   "cell_type": "code",
   "execution_count": null,
   "metadata": {},
   "outputs": [],
   "source": []
  },
  {
   "cell_type": "code",
   "execution_count": null,
   "metadata": {},
   "outputs": [],
   "source": [
    "import csv\n",
    "import sqlite3\n",
    "import sys\n",
    "\n",
    "#\n",
    "#The following lines increment the size limit for a csv field:\n",
    "#https://stackoverflow.com/questions/15063936/csv-error-field-larger-than-field-limit-131072\n",
    "#\n",
    "maxInt = sys.maxsize\n",
    "decrement = True\n",
    "\n",
    "while decrement:\n",
    "    # decrease the maxInt value by factor 10 \n",
    "    # as long as the OverflowError occurs.\n",
    "\n",
    "    decrement = False\n",
    "    try:\n",
    "        csv.field_size_limit(maxInt)\n",
    "    except OverflowError:\n",
    "        maxInt = int(maxInt/10)\n",
    "        decrement = True\n",
    "\n",
    "\n",
    "#\n",
    "# Convert Wikipedia.csv into Wikipedia.db, following Frank's tutorial\n",
    "# http://www.datasciencebytes.com/bytes/2015/02/28/using-flask-to-answer-sql-queries/\n",
    "#\n",
    "csvfile=\"Wikipedia.csv\"\n",
    "dbfile=\"Wikipedia.db\"\n",
    "\n",
    "conn = sqlite3.connect(dbfile)\n",
    "cur = conn.cursor()\n",
    "\n",
    "cur.execute(\"\"\"DROP TABLE IF EXISTS Wikipedia\"\"\")\n",
    "cur.execute(\"\"\"CREATE TABLE Wikipedia\n",
    "            (id integer, website text, paget_type text,text_raw text)\"\"\")\n",
    "\n",
    "with open(csvfile, 'r') as f:\n",
    "    reader = csv.reader(f.readlines()[1:])  # exclude header line\n",
    "    cur.executemany(\"\"\"INSERT INTO Wikipedia VALUES (?,?,?,?)\"\"\",\n",
    "                    (row for row in reader))\n",
    "conn.commit()\n",
    "conn.close()"
   ]
  }
 ],
 "metadata": {
  "kernelspec": {
   "display_name": "Python 3",
   "language": "python",
   "name": "python3"
  },
  "language_info": {
   "codemirror_mode": {
    "name": "ipython",
    "version": 3
   },
   "file_extension": ".py",
   "mimetype": "text/x-python",
   "name": "python",
   "nbconvert_exporter": "python",
   "pygments_lexer": "ipython3",
   "version": "3.7.3"
  }
 },
 "nbformat": 4,
 "nbformat_minor": 2
}

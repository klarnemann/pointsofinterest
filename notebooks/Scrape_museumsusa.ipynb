{
 "cells": [
  {
   "cell_type": "code",
   "execution_count": 2,
   "metadata": {},
   "outputs": [],
   "source": [
    "import requests\n",
    "import time\n",
    "import pandas as pd\n",
    "import numpy as np\n",
    "from bs4 import BeautifulSoup\n",
    "from random import randint"
   ]
  },
  {
   "cell_type": "markdown",
   "metadata": {},
   "source": [
    "https://blog.hartleybrody.com/web-scraping-cheat-sheet/"
   ]
  },
  {
   "cell_type": "markdown",
   "metadata": {},
   "source": [
    "# Get Wikipedia article content"
   ]
  },
  {
   "cell_type": "code",
   "execution_count": 8,
   "metadata": {},
   "outputs": [],
   "source": [
    "import wikipedia as wiki"
   ]
  },
  {
   "cell_type": "code",
   "execution_count": 10,
   "metadata": {},
   "outputs": [
    {
     "data": {
      "text/plain": [
       "(11542, 6)"
      ]
     },
     "execution_count": 10,
     "metadata": {},
     "output_type": "execute_result"
    }
   ],
   "source": [
    "museum_df_f = '/Users/klarnemann/Documents/Insight/Insight_project/data/scraped_museums_museumusa.xlsx'\n",
    "museum_df = pd.read_excel(museum_df_f, index_col=0)\n",
    "museum_df['Article_content'] = ''\n",
    "museum_df.shape"
   ]
  },
  {
   "cell_type": "code",
   "execution_count": 11,
   "metadata": {},
   "outputs": [
    {
     "data": {
      "text/html": [
       "<div>\n",
       "<style scoped>\n",
       "    .dataframe tbody tr th:only-of-type {\n",
       "        vertical-align: middle;\n",
       "    }\n",
       "\n",
       "    .dataframe tbody tr th {\n",
       "        vertical-align: top;\n",
       "    }\n",
       "\n",
       "    .dataframe thead th {\n",
       "        text-align: right;\n",
       "    }\n",
       "</style>\n",
       "<table border=\"1\" class=\"dataframe\">\n",
       "  <thead>\n",
       "    <tr style=\"text-align: right;\">\n",
       "      <th></th>\n",
       "      <th>Name</th>\n",
       "      <th>State</th>\n",
       "      <th>City</th>\n",
       "      <th>Category</th>\n",
       "      <th>Description</th>\n",
       "      <th>Article_content</th>\n",
       "    </tr>\n",
       "  </thead>\n",
       "  <tbody>\n",
       "    <tr>\n",
       "      <th>0</th>\n",
       "      <td>Aldrich Coal Mining Museum</td>\n",
       "      <td>Alabama</td>\n",
       "      <td>Aldrich</td>\n",
       "      <td>NaN</td>\n",
       "      <td>NaN</td>\n",
       "      <td></td>\n",
       "    </tr>\n",
       "    <tr>\n",
       "      <th>1</th>\n",
       "      <td>Horseshoe Bend National Military Park</td>\n",
       "      <td>Alabama</td>\n",
       "      <td>Daviston</td>\n",
       "      <td>Park</td>\n",
       "      <td>NaN</td>\n",
       "      <td></td>\n",
       "    </tr>\n",
       "    <tr>\n",
       "      <th>2</th>\n",
       "      <td>Bayou La Batre-Coden Historical Foundation</td>\n",
       "      <td>Alabama</td>\n",
       "      <td>Irvington</td>\n",
       "      <td>NaN</td>\n",
       "      <td>NaN</td>\n",
       "      <td></td>\n",
       "    </tr>\n",
       "    <tr>\n",
       "      <th>3</th>\n",
       "      <td>Autauga County Heritage Association</td>\n",
       "      <td>Alabama</td>\n",
       "      <td>Prattville</td>\n",
       "      <td>Archaeology, Cemetery, Church, Culture, Histor...</td>\n",
       "      <td>The Autauga County Heritage Association is a g...</td>\n",
       "      <td></td>\n",
       "    </tr>\n",
       "    <tr>\n",
       "      <th>4</th>\n",
       "      <td>Buena Vista Mansion</td>\n",
       "      <td>Alabama</td>\n",
       "      <td>Prattville</td>\n",
       "      <td>Culture, History, Historic House</td>\n",
       "      <td>Premier Event Venue in the River Region! A bea...</td>\n",
       "      <td></td>\n",
       "    </tr>\n",
       "  </tbody>\n",
       "</table>\n",
       "</div>"
      ],
      "text/plain": [
       "                                         Name    State        City  \\\n",
       "0                  Aldrich Coal Mining Museum  Alabama     Aldrich   \n",
       "1       Horseshoe Bend National Military Park  Alabama    Daviston   \n",
       "2  Bayou La Batre-Coden Historical Foundation  Alabama   Irvington   \n",
       "3         Autauga County Heritage Association  Alabama  Prattville   \n",
       "4                         Buena Vista Mansion  Alabama  Prattville   \n",
       "\n",
       "                                            Category  \\\n",
       "0                                                NaN   \n",
       "1                                               Park   \n",
       "2                                                NaN   \n",
       "3  Archaeology, Cemetery, Church, Culture, Histor...   \n",
       "4                   Culture, History, Historic House   \n",
       "\n",
       "                                         Description Article_content  \n",
       "0                                                NaN                  \n",
       "1                                                NaN                  \n",
       "2                                                NaN                  \n",
       "3  The Autauga County Heritage Association is a g...                  \n",
       "4  Premier Event Venue in the River Region! A bea...                  "
      ]
     },
     "execution_count": 11,
     "metadata": {},
     "output_type": "execute_result"
    }
   ],
   "source": [
    "museum_df.head()"
   ]
  },
  {
   "cell_type": "code",
   "execution_count": 12,
   "metadata": {},
   "outputs": [
    {
     "name": "stdout",
     "output_type": "stream",
     "text": [
      "0\n"
     ]
    },
    {
     "name": "stderr",
     "output_type": "stream",
     "text": [
      "/Users/klarnemann/anaconda3/lib/python3.7/site-packages/wikipedia/wikipedia.py:389: UserWarning: No parser was explicitly specified, so I'm using the best available HTML parser for this system (\"lxml\"). This usually isn't a problem, but if you run this code on another system, or in a different virtual environment, it may use a different parser and behave differently.\n",
      "\n",
      "The code that caused this warning is on line 389 of the file /Users/klarnemann/anaconda3/lib/python3.7/site-packages/wikipedia/wikipedia.py. To get rid of this warning, pass the additional argument 'features=\"lxml\"' to the BeautifulSoup constructor.\n",
      "\n",
      "  lis = BeautifulSoup(html).find_all('li')\n"
     ]
    },
    {
     "name": "stdout",
     "output_type": "stream",
     "text": [
      "100\n",
      "200\n",
      "300\n",
      "400\n",
      "600\n",
      "700\n",
      "900\n",
      "1000\n",
      "1100\n",
      "1200\n",
      "1300\n",
      "1400\n",
      "1500\n",
      "1800\n",
      "1900\n",
      "2000\n",
      "2100\n",
      "2200\n",
      "2300\n",
      "2400\n",
      "2600\n",
      "2800\n",
      "2900\n",
      "3100\n",
      "3200\n",
      "3300\n",
      "3500\n",
      "3700\n",
      "3800\n",
      "3900\n",
      "4000\n",
      "4100\n",
      "4200\n",
      "4300\n",
      "4400\n",
      "4500\n",
      "4700\n",
      "4800\n",
      "4900\n",
      "5000\n",
      "5200\n",
      "5300\n",
      "5400\n",
      "5500\n",
      "5600\n",
      "5700\n",
      "5800\n",
      "5900\n",
      "6100\n",
      "6200\n",
      "6400\n",
      "6500\n",
      "6600\n",
      "6700\n",
      "6800\n",
      "6900\n",
      "7100\n",
      "7200\n",
      "7300\n",
      "7400\n",
      "7500\n",
      "7600\n",
      "7700\n",
      "7800\n",
      "7900\n",
      "8100\n",
      "8200\n",
      "8300\n",
      "8400\n",
      "8500\n",
      "8600\n",
      "8700\n",
      "8800\n",
      "8900\n",
      "9100\n",
      "9200\n",
      "9300\n",
      "9400\n",
      "9500\n",
      "9600\n",
      "9700\n",
      "9800\n",
      "9900\n",
      "10100\n",
      "10200\n",
      "10400\n",
      "10500\n",
      "10700\n",
      "10800\n",
      "10900\n",
      "11000\n",
      "11100\n",
      "11200\n",
      "11300\n",
      "11400\n",
      "11500\n"
     ]
    }
   ],
   "source": [
    "for i, title in enumerate(museum_df.Name):\n",
    "    try:\n",
    "        museum_df.loc[i, 'Article_content'] = wiki.page(title).content\n",
    "    except:\n",
    "        continue\n",
    "    if i % 100 == 0:\n",
    "        print(i)\n",
    "        museum_df.to_excel(museum_df_f)"
   ]
  },
  {
   "cell_type": "code",
   "execution_count": 13,
   "metadata": {},
   "outputs": [
    {
     "data": {
      "text/html": [
       "<div>\n",
       "<style scoped>\n",
       "    .dataframe tbody tr th:only-of-type {\n",
       "        vertical-align: middle;\n",
       "    }\n",
       "\n",
       "    .dataframe tbody tr th {\n",
       "        vertical-align: top;\n",
       "    }\n",
       "\n",
       "    .dataframe thead th {\n",
       "        text-align: right;\n",
       "    }\n",
       "</style>\n",
       "<table border=\"1\" class=\"dataframe\">\n",
       "  <thead>\n",
       "    <tr style=\"text-align: right;\">\n",
       "      <th></th>\n",
       "      <th>Name</th>\n",
       "      <th>State</th>\n",
       "      <th>City</th>\n",
       "      <th>Category</th>\n",
       "      <th>Description</th>\n",
       "      <th>Article_content</th>\n",
       "    </tr>\n",
       "  </thead>\n",
       "  <tbody>\n",
       "    <tr>\n",
       "      <th>0</th>\n",
       "      <td>Aldrich Coal Mining Museum</td>\n",
       "      <td>Alabama</td>\n",
       "      <td>Aldrich</td>\n",
       "      <td>NaN</td>\n",
       "      <td>NaN</td>\n",
       "      <td>The Aldrich Coal Mine Museum is a historical m...</td>\n",
       "    </tr>\n",
       "    <tr>\n",
       "      <th>1</th>\n",
       "      <td>Horseshoe Bend National Military Park</td>\n",
       "      <td>Alabama</td>\n",
       "      <td>Daviston</td>\n",
       "      <td>Park</td>\n",
       "      <td>NaN</td>\n",
       "      <td>Horseshoe Bend National Military Park is a U.S...</td>\n",
       "    </tr>\n",
       "    <tr>\n",
       "      <th>2</th>\n",
       "      <td>Bayou La Batre-Coden Historical Foundation</td>\n",
       "      <td>Alabama</td>\n",
       "      <td>Irvington</td>\n",
       "      <td>NaN</td>\n",
       "      <td>NaN</td>\n",
       "      <td></td>\n",
       "    </tr>\n",
       "    <tr>\n",
       "      <th>3</th>\n",
       "      <td>Autauga County Heritage Association</td>\n",
       "      <td>Alabama</td>\n",
       "      <td>Prattville</td>\n",
       "      <td>Archaeology, Cemetery, Church, Culture, Histor...</td>\n",
       "      <td>The Autauga County Heritage Association is a g...</td>\n",
       "      <td>The Montgomery–Janes–Whittaker House, best kno...</td>\n",
       "    </tr>\n",
       "    <tr>\n",
       "      <th>4</th>\n",
       "      <td>Buena Vista Mansion</td>\n",
       "      <td>Alabama</td>\n",
       "      <td>Prattville</td>\n",
       "      <td>Culture, History, Historic House</td>\n",
       "      <td>Premier Event Venue in the River Region! A bea...</td>\n",
       "      <td></td>\n",
       "    </tr>\n",
       "  </tbody>\n",
       "</table>\n",
       "</div>"
      ],
      "text/plain": [
       "                                         Name    State        City  \\\n",
       "0                  Aldrich Coal Mining Museum  Alabama     Aldrich   \n",
       "1       Horseshoe Bend National Military Park  Alabama    Daviston   \n",
       "2  Bayou La Batre-Coden Historical Foundation  Alabama   Irvington   \n",
       "3         Autauga County Heritage Association  Alabama  Prattville   \n",
       "4                         Buena Vista Mansion  Alabama  Prattville   \n",
       "\n",
       "                                            Category  \\\n",
       "0                                                NaN   \n",
       "1                                               Park   \n",
       "2                                                NaN   \n",
       "3  Archaeology, Cemetery, Church, Culture, Histor...   \n",
       "4                   Culture, History, Historic House   \n",
       "\n",
       "                                         Description  \\\n",
       "0                                                NaN   \n",
       "1                                                NaN   \n",
       "2                                                NaN   \n",
       "3  The Autauga County Heritage Association is a g...   \n",
       "4  Premier Event Venue in the River Region! A bea...   \n",
       "\n",
       "                                     Article_content  \n",
       "0  The Aldrich Coal Mine Museum is a historical m...  \n",
       "1  Horseshoe Bend National Military Park is a U.S...  \n",
       "2                                                     \n",
       "3  The Montgomery–Janes–Whittaker House, best kno...  \n",
       "4                                                     "
      ]
     },
     "execution_count": 13,
     "metadata": {},
     "output_type": "execute_result"
    }
   ],
   "source": [
    "museum_df.head()"
   ]
  },
  {
   "cell_type": "markdown",
   "metadata": {},
   "source": [
    "# Scrape MuseumUSA"
   ]
  },
  {
   "cell_type": "code",
   "execution_count": 3,
   "metadata": {},
   "outputs": [],
   "source": [
    "main_url = 'http://www.museumsusa.org'"
   ]
  },
  {
   "cell_type": "code",
   "execution_count": 4,
   "metadata": {},
   "outputs": [],
   "source": [
    "def scrape_directories(url, category):\n",
    "    page = requests.get(url)\n",
    "    soup = BeautifulSoup(page.text, 'html.parser')\n",
    "    outputs = []\n",
    "    output_urls = []\n",
    "    for item in soup.find_all(class_='browseCategoryItem'):\n",
    "        try:\n",
    "            item_url = item.find_all('a')[0].get('href')\n",
    "            if category in item_url:\n",
    "                output_url = '%s/%s' % (main_url, item_url)\n",
    "                output_urls.append(output_url)\n",
    "                val, _ = item.find_all('a')[0].contents[0].split(' (')\n",
    "                outputs.append(val)\n",
    "        except:\n",
    "            pass\n",
    "    return outputs, output_urls"
   ]
  },
  {
   "cell_type": "code",
   "execution_count": 5,
   "metadata": {},
   "outputs": [],
   "source": [
    "def scrape_museum_content(url):\n",
    "    t0 = time.time()\n",
    "    page = requests.get(url)\n",
    "    soup = BeautifulSoup(page.text, 'html.parser')\n",
    "    response_time = time.time() - t0\n",
    "    # get site name\n",
    "    names = []\n",
    "    for name in soup.find_all(class_='source'):\n",
    "        names.append(name.find_all('a')[0].contents[0])\n",
    "    # get site category\n",
    "    categories = []\n",
    "    for category in soup.find_all(class_='type'):\n",
    "        try:\n",
    "            categories.append(category.contents[0])\n",
    "        except:\n",
    "            categories.append('')\n",
    "    # get site description\n",
    "    descriptions = []\n",
    "    for description in soup.find_all(class_='abstract'):\n",
    "        try:\n",
    "            descriptions.append(description.contents[0])\n",
    "        except:\n",
    "            descriptions.append('')\n",
    "    return names, categories, descriptions, response_time"
   ]
  },
  {
   "cell_type": "code",
   "execution_count": 6,
   "metadata": {},
   "outputs": [],
   "source": [
    "def scrape_museums(city, state, city_url, museum_df):\n",
    "    names, categories, descriptions, response_time = scrape_museum_content(city_url)\n",
    "    time.sleep(10*response_time)#delay next request\n",
    "    n_items = len(names)\n",
    "    tmp_dat = np.array([names, [state]*n_items, [city]*n_items, categories, descriptions], dtype=object).T\n",
    "    tmp_df = pd.DataFrame(tmp_dat, columns=museum_df.columns)\n",
    "    return tmp_df"
   ]
  },
  {
   "cell_type": "code",
   "execution_count": 7,
   "metadata": {},
   "outputs": [],
   "source": [
    "def run_scrape_content(state, state_url, museum_df, stop=None):\n",
    "    print('Scrapping %s museums...' % (state))\n",
    "    cities, city_urls = scrape_directories(state_url, 'City')\n",
    "    n_cities = len(cities)\n",
    "    if type(stop) == type(None):\n",
    "        stop = n_cities\n",
    "    for i, city_url in enumerate(city_urls):\n",
    "        if i > stop:\n",
    "            return museum_df\n",
    "        if i % 20 == 0:\n",
    "            print(i)\n",
    "        city = cities[i]\n",
    "        if city in museum_df.City.unique():\n",
    "            continue\n",
    "        tmp_df = scrape_museums(city, state, city_url, museum_df)\n",
    "        museum_df = museum_df.append(tmp_df, ignore_index=True)\n",
    "    return museum_df"
   ]
  },
  {
   "cell_type": "markdown",
   "metadata": {},
   "source": [
    "# Run"
   ]
  },
  {
   "cell_type": "code",
   "execution_count": 9,
   "metadata": {},
   "outputs": [
    {
     "data": {
      "text/plain": [
       "(10360, 5)"
      ]
     },
     "execution_count": 9,
     "metadata": {},
     "output_type": "execute_result"
    }
   ],
   "source": [
    "museum_df = pd.read_excel('/Users/klarnemann/Documents/Insight/Insight_project/data/scraped_museums_museumusa.xlsx', index_col=0)\n",
    "museum_df.shape"
   ]
  },
  {
   "cell_type": "code",
   "execution_count": 10,
   "metadata": {},
   "outputs": [
    {
     "data": {
      "text/html": [
       "<div>\n",
       "<style scoped>\n",
       "    .dataframe tbody tr th:only-of-type {\n",
       "        vertical-align: middle;\n",
       "    }\n",
       "\n",
       "    .dataframe tbody tr th {\n",
       "        vertical-align: top;\n",
       "    }\n",
       "\n",
       "    .dataframe thead th {\n",
       "        text-align: right;\n",
       "    }\n",
       "</style>\n",
       "<table border=\"1\" class=\"dataframe\">\n",
       "  <thead>\n",
       "    <tr style=\"text-align: right;\">\n",
       "      <th></th>\n",
       "      <th>Name</th>\n",
       "      <th>State</th>\n",
       "      <th>City</th>\n",
       "      <th>Category</th>\n",
       "      <th>Description</th>\n",
       "    </tr>\n",
       "  </thead>\n",
       "  <tbody>\n",
       "    <tr>\n",
       "      <th>0</th>\n",
       "      <td>Aldrich Coal Mining Museum</td>\n",
       "      <td>Alabama</td>\n",
       "      <td>Aldrich</td>\n",
       "      <td>NaN</td>\n",
       "      <td>NaN</td>\n",
       "    </tr>\n",
       "    <tr>\n",
       "      <th>1</th>\n",
       "      <td>Horseshoe Bend National Military Park</td>\n",
       "      <td>Alabama</td>\n",
       "      <td>Daviston</td>\n",
       "      <td>Park</td>\n",
       "      <td>NaN</td>\n",
       "    </tr>\n",
       "    <tr>\n",
       "      <th>2</th>\n",
       "      <td>Bayou La Batre-Coden Historical Foundation</td>\n",
       "      <td>Alabama</td>\n",
       "      <td>Irvington</td>\n",
       "      <td>NaN</td>\n",
       "      <td>NaN</td>\n",
       "    </tr>\n",
       "    <tr>\n",
       "      <th>3</th>\n",
       "      <td>Autauga County Heritage Association</td>\n",
       "      <td>Alabama</td>\n",
       "      <td>Prattville</td>\n",
       "      <td>Archaeology, Cemetery, Church, Culture, Histor...</td>\n",
       "      <td>The Autauga County Heritage Association is a g...</td>\n",
       "    </tr>\n",
       "    <tr>\n",
       "      <th>4</th>\n",
       "      <td>Buena Vista Mansion</td>\n",
       "      <td>Alabama</td>\n",
       "      <td>Prattville</td>\n",
       "      <td>Culture, History, Historic House</td>\n",
       "      <td>Premier Event Venue in the River Region! A bea...</td>\n",
       "    </tr>\n",
       "  </tbody>\n",
       "</table>\n",
       "</div>"
      ],
      "text/plain": [
       "                                         Name    State        City  \\\n",
       "0                  Aldrich Coal Mining Museum  Alabama     Aldrich   \n",
       "1       Horseshoe Bend National Military Park  Alabama    Daviston   \n",
       "2  Bayou La Batre-Coden Historical Foundation  Alabama   Irvington   \n",
       "3         Autauga County Heritage Association  Alabama  Prattville   \n",
       "4                         Buena Vista Mansion  Alabama  Prattville   \n",
       "\n",
       "                                            Category  \\\n",
       "0                                                NaN   \n",
       "1                                               Park   \n",
       "2                                                NaN   \n",
       "3  Archaeology, Cemetery, Church, Culture, Histor...   \n",
       "4                   Culture, History, Historic House   \n",
       "\n",
       "                                         Description  \n",
       "0                                                NaN  \n",
       "1                                                NaN  \n",
       "2                                                NaN  \n",
       "3  The Autauga County Heritage Association is a g...  \n",
       "4  Premier Event Venue in the River Region! A bea...  "
      ]
     },
     "execution_count": 10,
     "metadata": {},
     "output_type": "execute_result"
    }
   ],
   "source": [
    "museum_df.head()"
   ]
  },
  {
   "cell_type": "code",
   "execution_count": 20,
   "metadata": {},
   "outputs": [
    {
     "data": {
      "text/plain": [
       "5493"
      ]
     },
     "execution_count": 20,
     "metadata": {},
     "output_type": "execute_result"
    }
   ],
   "source": [
    "np.sum(~pd.isna(museum_df.Description))"
   ]
  },
  {
   "cell_type": "code",
   "execution_count": 21,
   "metadata": {},
   "outputs": [
    {
     "data": {
      "text/plain": [
       "10072"
      ]
     },
     "execution_count": 21,
     "metadata": {},
     "output_type": "execute_result"
    }
   ],
   "source": [
    "np.sum(~pd.isna(museum_df.Category))"
   ]
  },
  {
   "cell_type": "code",
   "execution_count": null,
   "metadata": {},
   "outputs": [],
   "source": []
  },
  {
   "cell_type": "markdown",
   "metadata": {},
   "source": [
    "~~~\n",
    "states, state_urls = scrape_directories('http://www.museumsusa.org/museums/?k=1271392%2cDirectoryID%3a200454', 'State')\n",
    "~~~"
   ]
  },
  {
   "cell_type": "markdown",
   "metadata": {},
   "source": [
    "~~~\n",
    "for state in states:\n",
    "    ind = states.index(state)\n",
    "    state_url = state_urls[ind]\n",
    "    museum_df = run_scrape_content(state, state_url, museum_df)\n",
    "    museum_df.to_excel('/Users/klarnemann/Documents/Insight/Insight_project/data/scraped_museums_museumusa.xlsx')\n",
    "~~~"
   ]
  },
  {
   "cell_type": "code",
   "execution_count": null,
   "metadata": {},
   "outputs": [],
   "source": []
  },
  {
   "cell_type": "code",
   "execution_count": null,
   "metadata": {},
   "outputs": [],
   "source": []
  },
  {
   "cell_type": "markdown",
   "metadata": {},
   "source": [
    "~~~\n",
    "columns = ['Name', 'State', 'City', 'Category', 'Description']\n",
    "for i, state_url in enumerate(state_urls):\n",
    "    if i < 16:\n",
    "        continue\n",
    "    state = np.array(states)[i]\n",
    "    print(state)\n",
    "    t0 = time.time()#start time\n",
    "    cities, city_urls = scrape_directories(state_url, 'City')\n",
    "    response_delay = time.time() - t0#request duration\n",
    "    time.sleep(10*response_delay)#delay next request\n",
    "    for j, city_url in enumerate(np.array(city_urls)):\n",
    "        if j % 20 == 0:\n",
    "            print(j)\n",
    "        city = cities[j]\n",
    "        if state == 'California':\n",
    "            if city in ca_cities:\n",
    "                continue\n",
    "        t0 = time.time()#start time\n",
    "        names, categories, descriptions = scrape_content(city_url)\n",
    "        response_delay = time.time() - t0#request duration\n",
    "        time.sleep(10*response_delay)#delay next request\n",
    "        n_items = len(names)\n",
    "        tmp_dat = np.array([names, [state]*n_items, [city]*n_items, categories, descriptions], dtype=object).T\n",
    "        tmp_df = pd.DataFrame(tmp_dat, columns=columns)\n",
    "        museum_df = museum_df.append(tmp_df, ignore_index=True)\n",
    "~~~"
   ]
  },
  {
   "cell_type": "markdown",
   "metadata": {},
   "source": [
    "## Scrape States"
   ]
  },
  {
   "cell_type": "code",
   "execution_count": 5,
   "metadata": {},
   "outputs": [],
   "source": [
    "test_url = 'http://www.museumsusa.org/museums/?k=1271392%2cDirectoryID%3a200454'\n",
    "test_page = requests.get(test_url)\n",
    "soup = BeautifulSoup(test_page.text, 'html.parser')"
   ]
  },
  {
   "cell_type": "code",
   "execution_count": 6,
   "metadata": {},
   "outputs": [
    {
     "data": {
      "text/plain": [
       "<a href=\"/museums/?k=1271400%2cState%3aAL%3bDirectoryID%3a200454\">Alabama (324)</a>"
      ]
     },
     "execution_count": 6,
     "metadata": {},
     "output_type": "execute_result"
    }
   ],
   "source": [
    "soup.find_all(class_='browseCategoryItem')[1].find_all('a')[0]"
   ]
  },
  {
   "cell_type": "code",
   "execution_count": 7,
   "metadata": {},
   "outputs": [
    {
     "data": {
      "text/plain": [
       "'/museums/?k=1271400%2cState%3aAL%3bDirectoryID%3a200454'"
      ]
     },
     "execution_count": 7,
     "metadata": {},
     "output_type": "execute_result"
    }
   ],
   "source": [
    "soup.find_all(class_='browseCategoryItem')[1].find_all('a')[0].get('href')"
   ]
  },
  {
   "cell_type": "code",
   "execution_count": 8,
   "metadata": {},
   "outputs": [
    {
     "name": "stdout",
     "output_type": "stream",
     "text": [
      "Alabama (324)\n"
     ]
    }
   ],
   "source": [
    "# select second site name\n",
    "state = soup.find_all(class_='browseCategoryItem')[1].find_all('a')[0].contents[0]\n",
    "print(state)"
   ]
  },
  {
   "cell_type": "code",
   "execution_count": 9,
   "metadata": {},
   "outputs": [],
   "source": [
    "states, state_urls = scrape_directories('http://www.museumsusa.org/museums/?k=1271392%2cDirectoryID%3a200454', 'State')"
   ]
  },
  {
   "cell_type": "markdown",
   "metadata": {},
   "source": [
    "## Scrape Cities (given state)"
   ]
  },
  {
   "cell_type": "code",
   "execution_count": 10,
   "metadata": {},
   "outputs": [],
   "source": [
    "test_url = state_urls[0]\n",
    "test_page = requests.get(test_url)\n",
    "soup = BeautifulSoup(test_page.text, 'html.parser')"
   ]
  },
  {
   "cell_type": "code",
   "execution_count": 11,
   "metadata": {},
   "outputs": [
    {
     "data": {
      "text/plain": [
       "<a href=\"/museums/?k=1271404%2cCity%3aAldrich%3bState%3aAL%3bDirectoryID%3a200454\">Aldrich (1)</a>"
      ]
     },
     "execution_count": 11,
     "metadata": {},
     "output_type": "execute_result"
    }
   ],
   "source": [
    "soup.find_all(class_='browseCategoryItem')[1].find_all('a')[0]"
   ]
  },
  {
   "cell_type": "code",
   "execution_count": 12,
   "metadata": {},
   "outputs": [
    {
     "name": "stdout",
     "output_type": "stream",
     "text": [
      "Aldrich (1)\n"
     ]
    }
   ],
   "source": [
    "# select second site name\n",
    "state = soup.find_all(class_='browseCategoryItem')[1].find_all('a')[0].contents[0]\n",
    "print(state)"
   ]
  },
  {
   "cell_type": "code",
   "execution_count": 13,
   "metadata": {},
   "outputs": [
    {
     "data": {
      "text/plain": [
       "'/museums/?k=1271404%2cCity%3aAldrich%3bState%3aAL%3bDirectoryID%3a200454'"
      ]
     },
     "execution_count": 13,
     "metadata": {},
     "output_type": "execute_result"
    }
   ],
   "source": [
    "soup.find_all(class_='browseCategoryItem')[1].find_all('a')[0].get('href')"
   ]
  },
  {
   "cell_type": "code",
   "execution_count": 36,
   "metadata": {},
   "outputs": [
    {
     "data": {
      "text/plain": [
       "['Aldrich', 'Daviston', 'Irvington', 'Prattville', 'Aliceville']"
      ]
     },
     "execution_count": 36,
     "metadata": {},
     "output_type": "execute_result"
    }
   ],
   "source": [
    "cities, city_urls = scrape_directories(state_urls[0], 'City')\n",
    "cities[:5]"
   ]
  },
  {
   "cell_type": "markdown",
   "metadata": {},
   "source": [
    "## Scrape content (given city, state)"
   ]
  },
  {
   "cell_type": "markdown",
   "metadata": {},
   "source": [
    "### Example: Amsterdam, NY"
   ]
  },
  {
   "cell_type": "code",
   "execution_count": 49,
   "metadata": {},
   "outputs": [],
   "source": [
    "# setup parser\n",
    "test_url = city_urls[3]\n",
    "test_page = requests.get(test_url)\n",
    "soup = BeautifulSoup(test_page.text, 'html.parser')"
   ]
  },
  {
   "cell_type": "code",
   "execution_count": 50,
   "metadata": {},
   "outputs": [
    {
     "data": {
      "text/plain": [
       "[<a href=\"/museums/info/3293\">Autauga County Heritage Association</a>,\n",
       " <a href=\"http://www.autaugaheritage.org\" title=\"Organization Web Page\"><img alt=\"Organization Web Page\" src=\"/i/external_link.gif\"/></a>]"
      ]
     },
     "execution_count": 50,
     "metadata": {},
     "output_type": "execute_result"
    }
   ],
   "source": [
    "soup.find(class_='source').find_all('a')"
   ]
  },
  {
   "cell_type": "code",
   "execution_count": 51,
   "metadata": {},
   "outputs": [
    {
     "data": {
      "text/plain": [
       "'Archaeology, Cemetery, Church, Culture, History, Historic House, Historical Society, Library, Military'"
      ]
     },
     "execution_count": 51,
     "metadata": {},
     "output_type": "execute_result"
    }
   ],
   "source": [
    "# get first site category\n",
    "soup.find(class_='type').contents[0]"
   ]
  },
  {
   "cell_type": "code",
   "execution_count": 52,
   "metadata": {},
   "outputs": [
    {
     "data": {
      "text/plain": [
       "'Prattville, Alabama'"
      ]
     },
     "execution_count": 52,
     "metadata": {},
     "output_type": "execute_result"
    }
   ],
   "source": [
    "# get first site location\n",
    "soup.find(class_='location').contents[0]"
   ]
  },
  {
   "cell_type": "code",
   "execution_count": 31,
   "metadata": {},
   "outputs": [],
   "source": [
    "# scrape example location\n",
    "#scrape_content(test_url)"
   ]
  },
  {
   "cell_type": "code",
   "execution_count": null,
   "metadata": {},
   "outputs": [],
   "source": []
  }
 ],
 "metadata": {
  "kernelspec": {
   "display_name": "Python 3",
   "language": "python",
   "name": "python3"
  },
  "language_info": {
   "codemirror_mode": {
    "name": "ipython",
    "version": 3
   },
   "file_extension": ".py",
   "mimetype": "text/x-python",
   "name": "python",
   "nbconvert_exporter": "python",
   "pygments_lexer": "ipython3",
   "version": "3.7.3"
  }
 },
 "nbformat": 4,
 "nbformat_minor": 2
}
